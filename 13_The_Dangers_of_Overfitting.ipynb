{
  "nbformat": 4,
  "nbformat_minor": 0,
  "metadata": {
    "colab": {
      "name": "13_The_Dangers_of_Overfitting.ipynb",
      "provenance": [],
      "authorship_tag": "ABX9TyMwtYCqYfMEUZVnKxkHvxdj",
      "include_colab_link": true
    },
    "kernelspec": {
      "name": "python3",
      "display_name": "Python 3"
    },
    "language_info": {
      "name": "python"
    }
  },
  "cells": [
    {
      "cell_type": "markdown",
      "metadata": {
        "id": "view-in-github",
        "colab_type": "text"
      },
      "source": [
        "<a href=\"https://colab.research.google.com/github/rohitnikam1/Econometrics/blob/master/13_The_Dangers_of_Overfitting.ipynb\" target=\"_parent\"><img src=\"https://colab.research.google.com/assets/colab-badge.svg\" alt=\"Open In Colab\"/></a>"
      ]
    },
    {
      "cell_type": "markdown",
      "source": [
        "# **What is overfitting?**\n",
        "When constructing a model, we tune both the parameters and the model by fitting to sample data. We then use the model and parameters to predict data we have not yet observed. We say a model is overfit when it is overly sensitive to noise and idiosyncracies in the sample data, and therefore does not reflect the underlying data-generating process.\n",
        "\n",
        "To understand why this happens, one has to consider the amount of noise present in any dataset. One can consider a set of data as\n",
        ", the true underlying data that came from whatever process we are trying to model, and , some random noise. Because what we see is $D = D_T + ϵ$, we might fit our model to very perfectly predict for the given $ϵ$, but not for $D$.\n",
        "\n",
        "\n",
        "\n",
        "This is problematic because we only care about fitting to the sample insofar as that gives an accurate fit to future data. The two broad causes of overfitting are:\n",
        "\n",
        "- small sample size, so that noise and trend are not distinguishable\n",
        "- choosing an overly complex model, so that it ends up contorting to fit the noise in the sample\n",
        "\n"
      ],
      "metadata": {
        "id": "LP26_d6X4GUF"
      }
    },
    {
      "cell_type": "code",
      "source": [
        "  "
      ],
      "metadata": {
        "id": "jStXWwDL47ci"
      },
      "execution_count": null,
      "outputs": []
    }
  ]
}