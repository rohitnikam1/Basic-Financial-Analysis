{
  "nbformat": 4,
  "nbformat_minor": 0,
  "metadata": {
    "colab": {
      "name": "4_Linear_Correlation_Analysis.ipynb",
      "provenance": [],
      "authorship_tag": "ABX9TyNS0J6lmq1I+BtD1p1Nq8Oz",
      "include_colab_link": true
    },
    "kernelspec": {
      "name": "python3",
      "display_name": "Python 3"
    },
    "language_info": {
      "name": "python"
    }
  },
  "cells": [
    {
      "cell_type": "markdown",
      "metadata": {
        "id": "view-in-github",
        "colab_type": "text"
      },
      "source": [
        "<a href=\"https://colab.research.google.com/github/rohitnikam1/Basic-Financial-Analysis/blob/master/4_Linear_Correlation_Analysis.ipynb\" target=\"_parent\"><img src=\"https://colab.research.google.com/assets/colab-badge.svg\" alt=\"Open In Colab\"/></a>"
      ]
    },
    {
      "cell_type": "markdown",
      "metadata": {
        "id": "nW9rTeqJoJx5"
      },
      "source": [
        "# The Correlation Coefficient"
      ]
    },
    {
      "cell_type": "markdown",
      "metadata": {
        "id": "eS5e5oFKoW43"
      },
      "source": [
        "The correlation coefficient measures the extent to which the relationship between two variables is linear. Its value is always between $-1$ and $1$. A positive coefficient indicates that the variables are directly related, i.e. when one increases the other one also increases. A negative coefficient indicates that the variables are inversely related, so that when one increases the other decreases. The closer to $0$ the correlation coefficient is, the weaker the relationship between the variables.\n",
        "\n",
        "The correlation coefficient of two series $X$ and $Y$ is defined as$$r = \\frac{Cov(X,Y)}{std(X)std(Y)}$$where $Cov$ is the covariance and $std$ is the standard deviation.\n",
        "\n",
        "Two random sets of data will have a correlation coefficient close to $0$:"
      ]
    },
    {
      "cell_type": "markdown",
      "metadata": {
        "id": "LPVdBFzZoaud"
      },
      "source": [
        "## Correlation vs. Covariance"
      ]
    },
    {
      "cell_type": "markdown",
      "metadata": {
        "id": "RjJKfpQqo0Hn"
      },
      "source": [
        "Correlation is simply a normalized form of covariance. They are otherwise the same and are often used semi-interchangeably in everyday conversation. It is obviously important to be precise with language when discussing the two, but conceptually they are almost identical."
      ]
    },
    {
      "cell_type": "markdown",
      "metadata": {
        "id": "mQ7Q9Wsxo57-"
      },
      "source": [
        "## Covariance isn't that meaningful by itself"
      ]
    },
    {
      "cell_type": "markdown",
      "metadata": {
        "id": "B8aHy0ygo_cq"
      },
      "source": [
        "Let's say we have two variables $X$ and $Y$ and we take the covariance of the two."
      ]
    },
    {
      "cell_type": "code",
      "metadata": {
        "id": "h2Cg3BCFpD0H"
      },
      "source": [
        "import numpy as np\n",
        "import pandas as pd\n",
        "import matplotlib.pyplot as plt"
      ],
      "execution_count": 20,
      "outputs": []
    },
    {
      "cell_type": "code",
      "metadata": {
        "colab": {
          "base_uri": "https://localhost:8080/"
        },
        "id": "r3yAqQsDpMJW",
        "outputId": "ab5e5f93-3bee-4930-f33d-66e085ca2135"
      },
      "source": [
        "X = np.random.rand(50)\n",
        "Y = 2 * X + np.random.normal(0, 0.1, 50)\n",
        "\n",
        "np.cov(X, Y)[0, 1]"
      ],
      "execution_count": 2,
      "outputs": [
        {
          "output_type": "execute_result",
          "data": {
            "text/plain": [
              "0.1718743076365616"
            ]
          },
          "metadata": {},
          "execution_count": 2
        }
      ]
    },
    {
      "cell_type": "markdown",
      "metadata": {
        "id": "Qzp9d1Yswzuo"
      },
      "source": [
        "What does this mean? Correlation uses information about the variance of X and Y to normalize this metric. Once we've normalized the metric to the $-1$ to $1$ scale, we can make meaningful statements and compare correlations.\n",
        "\n",
        "To see how this is done consider the formula.\n",
        "\n",
        "\\begin{align}\n",
        "\\frac{Cov(X, Y)}{\\sqrt{Cov(X, X)}\\sqrt{Cov(Y, Y)}}\n",
        "\\end{align}\n",
        "\n",
        "To demonstrate this let's compare the correlation and covariance of two series."
      ]
    },
    {
      "cell_type": "code",
      "metadata": {
        "colab": {
          "base_uri": "https://localhost:8080/"
        },
        "id": "-MYhEETYxB8s",
        "outputId": "969cc022-d663-4ab7-8c63-77de34a0b6ad"
      },
      "source": [
        "X = np.random.rand(50)\n",
        "Y = 2 * X + 4\n",
        "\n",
        "print(f'Covariance of X and Y: \\n {np.cov(X, Y)} \\n')\n",
        "print(f'Correlation of X and Y: \\n {np.corrcoef(X, Y)}')"
      ],
      "execution_count": 9,
      "outputs": [
        {
          "output_type": "stream",
          "name": "stdout",
          "text": [
            "Covariance of X and Y: \n",
            " [[0.10039323 0.20078646]\n",
            " [0.20078646 0.40157291]] \n",
            "\n",
            "Correlation of X and Y: \n",
            " [[1. 1.]\n",
            " [1. 1.]]\n"
          ]
        }
      ]
    },
    {
      "cell_type": "markdown",
      "metadata": {
        "id": "DMQ5MtvHySQw"
      },
      "source": [
        "## Why do both `np.cov` and `np.corrcoef` return matrices?"
      ]
    },
    {
      "cell_type": "markdown",
      "metadata": {
        "id": "LID7QM8nypDt"
      },
      "source": [
        "The covariance matrix is an important concept in statistics. Often people will refer to the covariance of two variables $X$ and $Y$, but in reality that is just one entry in the covariance matrix of $X$ and $Y$. For each input variable we have one row and one column. The diagonal is just the variance of that variable, or $Cov(X, X)$, entries off the diagonal are covariances between different variables. The matrix is symmetric across the diagonal. Let's check that this is true."
      ]
    },
    {
      "cell_type": "code",
      "metadata": {
        "colab": {
          "base_uri": "https://localhost:8080/"
        },
        "id": "lYGlb9BtyxGd",
        "outputId": "6fc9a15b-c8ad-4702-b82b-8dcf82dee773"
      },
      "source": [
        "cov_matrix = np.cov(X, Y)\n",
        "\n",
        "# We need to manually set the degrees of freedom on X to 1, as numpy defaults to 0 for variance\n",
        "# This is usually fine, but will result in a slight mismatch as np.cov defaults to 1\n",
        "error = cov_matrix[0, 0] - X.var(ddof=1)\n",
        "\n",
        "print(f'error: {str(error)}')"
      ],
      "execution_count": 6,
      "outputs": [
        {
          "output_type": "stream",
          "name": "stdout",
          "text": [
            "error: -2.7755575615628914e-17\n"
          ]
        }
      ]
    },
    {
      "cell_type": "code",
      "metadata": {
        "colab": {
          "base_uri": "https://localhost:8080/",
          "height": 314
        },
        "id": "5pFqiWEMzCdc",
        "outputId": "57895c10-60f0-46ca-e2c8-ffcbd0b8f9de"
      },
      "source": [
        "X = np.random.rand(50)\n",
        "Y = np.random.rand(50)\n",
        "\n",
        "plt.scatter(X,Y)\n",
        "plt.xlabel('X Value')\n",
        "plt.ylabel('Y Value')\n",
        "\n",
        "# taking the relevant value from the matrix returned by np.cov\n",
        "print(f'Correlation: {np.cov(X,Y)[0,1]/(np.std(X)*np.std(Y))}')\n",
        "# Let's also use the builtin correlation function\n",
        "print(f'Built-in Correlation: {np.corrcoef(X, Y)[0, 1]}')"
      ],
      "execution_count": 7,
      "outputs": [
        {
          "output_type": "stream",
          "name": "stdout",
          "text": [
            "Correlation: -0.3842218939811251\n",
            "Built-in Correlation: -0.37653745610150263\n"
          ]
        },
        {
          "output_type": "display_data",
          "data": {
            "image/png": "[encoded data removed]",
            "text/plain": [
              "<Figure size 432x288 with 1 Axes>"
            ]
          },
          "metadata": {
            "needs_background": "light"
          }
        }
      ]
    },
    {
      "cell_type": "markdown",
      "metadata": {
        "id": "8xNh7aUkzfpS"
      },
      "source": [
        "Now let's see what two correlated sets of data look like."
      ]
    },
    {
      "cell_type": "code",
      "metadata": {
        "colab": {
          "base_uri": "https://localhost:8080/",
          "height": 297
        },
        "id": "1gF67MURzknR",
        "outputId": "8d0ab2d8-fa9f-4f14-d291-20da4f6a51f6"
      },
      "source": [
        "X = np.random.rand(50)\n",
        "Y = X + np.random.normal(0, 0.1, 50)\n",
        "\n",
        "plt.scatter(X,Y)\n",
        "plt.xlabel('X Value')\n",
        "plt.ylabel('Y Value')\n",
        "\n",
        "print(f'Correlation: {np.corrcoef(X, Y)[0, 1]}')"
      ],
      "execution_count": 8,
      "outputs": [
        {
          "output_type": "stream",
          "name": "stdout",
          "text": [
            "Correlation: 0.9471113947836391\n"
          ]
        },
        {
          "output_type": "display_data",
          "data": {
            "image/png": "[encoded data removed]",
            "text/plain": [
              "<Figure size 432x288 with 1 Axes>"
            ]
          },
          "metadata": {
            "needs_background": "light"
          }
        }
      ]
    },
    {
      "cell_type": "markdown",
      "metadata": {
        "id": "ScTbW0_kzr87"
      },
      "source": [
        "Let's dial down the relationship by introducing more noise."
      ]
    },
    {
      "cell_type": "code",
      "metadata": {
        "colab": {
          "base_uri": "https://localhost:8080/",
          "height": 297
        },
        "id": "AFurExWZz58V",
        "outputId": "b71a4979-1a8f-4009-e6a1-576c1c117f24"
      },
      "source": [
        "X = np.random.rand(50)\n",
        "Y = X + np.random.normal(0, .2, 50)\n",
        "\n",
        "plt.scatter(X,Y)\n",
        "plt.xlabel('X Value')\n",
        "plt.ylabel('Y Value')\n",
        "\n",
        "print(f'Correlation: {np.corrcoef(X, Y)[0, 1]}')"
      ],
      "execution_count": 10,
      "outputs": [
        {
          "output_type": "stream",
          "name": "stdout",
          "text": [
            "Correlation: 0.8432938476512556\n"
          ]
        },
        {
          "output_type": "display_data",
          "data": {
            "image/png": "[encoded data removed]",
            "text/plain": [
              "<Figure size 432x288 with 1 Axes>"
            ]
          },
          "metadata": {
            "needs_background": "light"
          }
        }
      ]
    },
    {
      "cell_type": "markdown",
      "metadata": {
        "id": "-7By9owh0Ejd"
      },
      "source": [
        "Finally, let's see what an inverse relationship looks like."
      ]
    },
    {
      "cell_type": "code",
      "metadata": {
        "colab": {
          "base_uri": "https://localhost:8080/",
          "height": 297
        },
        "id": "y0MQJao60KKy",
        "outputId": "41a35178-c495-4a13-aeae-ab294dbce62b"
      },
      "source": [
        "X = np.random.rand(50)\n",
        "Y = -X + np.random.normal(0, .1, 50)\n",
        "\n",
        "plt.scatter(X,Y)\n",
        "plt.xlabel('X Value')\n",
        "plt.ylabel('Y Value')\n",
        "\n",
        "print(f'Correlation: {np.corrcoef(X, Y)[0, 1]}')"
      ],
      "execution_count": 11,
      "outputs": [
        {
          "output_type": "stream",
          "name": "stdout",
          "text": [
            "Correlation: -0.9747615927691667\n"
          ]
        },
        {
          "output_type": "display_data",
          "data": {
            "image/png": "[encoded data removed]",
            "text/plain": [
              "<Figure size 432x288 with 1 Axes>"
            ]
          },
          "metadata": {
            "needs_background": "light"
          }
        }
      ]
    },
    {
      "cell_type": "markdown",
      "metadata": {
        "id": "zyjs8R5b0QRr"
      },
      "source": [
        "We see a little bit of rounding error, but they are clearly the same value."
      ]
    },
    {
      "cell_type": "markdown",
      "metadata": {
        "id": "tuIEM2st0U1i"
      },
      "source": [
        "## How is this useful in finance?"
      ]
    },
    {
      "cell_type": "markdown",
      "metadata": {
        "id": "xMqeYujs0Xoy"
      },
      "source": [
        "### Determining related assets"
      ]
    },
    {
      "cell_type": "markdown",
      "metadata": {
        "id": "1DYg_gbS0bj0"
      },
      "source": [
        "Once we've established that two series are probably related, we can use that in an effort to predict future values of the series. For example, let's look at the price of Apple and a semiconductor equipment manufacturer, Lam Research Corporation."
      ]
    },
    {
      "cell_type": "code",
      "metadata": {
        "colab": {
          "base_uri": "https://localhost:8080/"
        },
        "id": "-Ixh6wmg020q",
        "outputId": "3418d50b-0167-4052-d13d-24cba5080f50"
      },
      "source": [
        "!pip install yfinance"
      ],
      "execution_count": 13,
      "outputs": [
        {
          "output_type": "stream",
          "name": "stdout",
          "text": [
            "Collecting yfinance\n",
            "  Downloading yfinance-0.1.63.tar.gz (26 kB)\n",
            "Requirement already satisfied: pandas>=0.24 in /usr/local/lib/python3.7/dist-packages (from yfinance) (1.1.5)\n",
            "Requirement already satisfied: numpy>=1.15 in /usr/local/lib/python3.7/dist-packages (from yfinance) (1.19.5)\n",
            "Requirement already satisfied: requests>=2.20 in /usr/local/lib/python3.7/dist-packages (from yfinance) (2.23.0)\n",
            "Requirement already satisfied: multitasking>=0.0.7 in /usr/local/lib/python3.7/dist-packages (from yfinance) (0.0.9)\n",
            "Collecting lxml>=4.5.1\n",
            "  Downloading lxml-4.6.3-cp37-cp37m-manylinux2014_x86_64.whl (6.3 MB)\n",
            "\u001b[K     |████████████████████████████████| 6.3 MB 19.7 MB/s \n",
            "\u001b[?25hRequirement already satisfied: python-dateutil>=2.7.3 in /usr/local/lib/python3.7/dist-packages (from pandas>=0.24->yfinance) (2.8.2)\n",
            "Requirement already satisfied: pytz>=2017.2 in /usr/local/lib/python3.7/dist-packages (from pandas>=0.24->yfinance) (2018.9)\n",
            "Requirement already satisfied: six>=1.5 in /usr/local/lib/python3.7/dist-packages (from python-dateutil>=2.7.3->pandas>=0.24->yfinance) (1.15.0)\n",
            "Requirement already satisfied: idna<3,>=2.5 in /usr/local/lib/python3.7/dist-packages (from requests>=2.20->yfinance) (2.10)\n",
            "Requirement already satisfied: certifi>=2017.4.17 in /usr/local/lib/python3.7/dist-packages (from requests>=2.20->yfinance) (2021.5.30)\n",
            "Requirement already satisfied: chardet<4,>=3.0.2 in /usr/local/lib/python3.7/dist-packages (from requests>=2.20->yfinance) (3.0.4)\n",
            "Requirement already satisfied: urllib3!=1.25.0,!=1.25.1,<1.26,>=1.21.1 in /usr/local/lib/python3.7/dist-packages (from requests>=2.20->yfinance) (1.24.3)\n",
            "Building wheels for collected packages: yfinance\n",
            "  Building wheel for yfinance (setup.py) ... \u001b[?25l\u001b[?25hdone\n",
            "  Created wheel for yfinance: filename=yfinance-0.1.63-py2.py3-none-any.whl size=23918 sha256=8c956620de362f449bd561f3ac1799b707d52a5eeef693b7c01bc21e9423b1a2\n",
            "  Stored in directory: /root/.cache/pip/wheels/fe/87/8b/7ec24486e001d3926537f5f7801f57a74d181be25b11157983\n",
            "Successfully built yfinance\n",
            "Installing collected packages: lxml, yfinance\n",
            "  Attempting uninstall: lxml\n",
            "    Found existing installation: lxml 4.2.6\n",
            "    Uninstalling lxml-4.2.6:\n",
            "      Successfully uninstalled lxml-4.2.6\n",
            "Successfully installed lxml-4.6.3 yfinance-0.1.63\n"
          ]
        }
      ]
    },
    {
      "cell_type": "code",
      "metadata": {
        "id": "l4Cid-nS09uq"
      },
      "source": [
        "import yfinance as yf"
      ],
      "execution_count": 14,
      "outputs": []
    },
    {
      "cell_type": "code",
      "metadata": {
        "colab": {
          "base_uri": "https://localhost:8080/",
          "height": 365
        },
        "id": "c5_kUzft0e7V",
        "outputId": "1b16f799-3552-4191-9567-9862c2c2e174"
      },
      "source": [
        "# Pull the pricing data for our two stocks and S&P 500\n",
        "start = '2013-01-01'\n",
        "end = '2015-01-01'\n",
        "\n",
        "bench = yf.Ticker('SPY').history(start = start, end = end)['Close']\n",
        "a1 = yf.Ticker('LRCX').history(start = start, end = end)['Close']\n",
        "a2 = yf.Ticker('AAPL').history(start = start, end = end)['Close']\n",
        "\n",
        "plt.scatter(a1,a2)\n",
        "plt.xlabel(f'LRCX')\n",
        "plt.ylabel(f'AAPL')\n",
        "plt.title(f'Stock prices from {start} to {end}')\n",
        "print(f'Correlation coefficients')\n",
        "print(f'LRCX and AAPL: {np.corrcoef(a1,a2)[0,1]}')\n",
        "print(f'LRCX and SPY: {np.corrcoef(a1,bench)[0,1]}')\n",
        "print(f'AAPL and SPY: {np.corrcoef(bench,a2)[0,1]}')"
      ],
      "execution_count": 18,
      "outputs": [
        {
          "output_type": "stream",
          "name": "stdout",
          "text": [
            "Correlation coefficients\n",
            "LRCX and AAPL: 0.959501206056687\n",
            "LRCX and SPY: 0.9390677512032393\n",
            "AAPL and SPY: 0.907849972296802\n"
          ]
        },
        {
          "output_type": "display_data",
          "data": {
            "image/png": "[encoded data removed]",
            "text/plain": [
              "<Figure size 432x288 with 1 Axes>"
            ]
          },
          "metadata": {
            "needs_background": "light"
          }
        }
      ]
    },
    {
      "cell_type": "markdown",
      "metadata": {
        "id": "8FF1If1U2Ivo"
      },
      "source": [
        "### Constructing a portfolio of uncorrelated assets"
      ]
    },
    {
      "cell_type": "markdown",
      "metadata": {
        "id": "_KOBjiPF4iMq"
      },
      "source": [
        "Another reason that correlation is useful in finance is that uncorrelated assets produce the best portfolios. The intuition for this is that if the assets are uncorrelated, a drawdown in one will not correspond with a drawdown in another. This leads to a very stable return stream when many uncorrelated assets are combined."
      ]
    },
    {
      "cell_type": "markdown",
      "metadata": {
        "id": "VIBbJCHX4tZs"
      },
      "source": [
        "# Limitations"
      ]
    },
    {
      "cell_type": "markdown",
      "metadata": {
        "id": "1yd7ydmA40sG"
      },
      "source": [
        "## Significance"
      ]
    },
    {
      "cell_type": "markdown",
      "metadata": {
        "id": "Sl0mQOjv44VK"
      },
      "source": [
        "It's hard to rigorously determine whether or not a correlation is significant, especially when, as here, the variables are not normally distributed. Their correlation coefficient is close to $1$, so it's pretty safe to say that the two stock prices are correlated over the time period we use, but is this indicative of future correlation? If we examine the correlation of each of them with the S&P 500, we see that it is also quite high. So, AAPL and LRCX are slightly more correlated with each other than with the average stock.\n",
        "\n",
        "One fundamental problem is that it is easy to datamine correlations by picking the right time period. To avoid this, one should compute the correlation of two quantities over many historical time periods and examine the distibution of the correlation coefficient. More details on why single point estimates are bad will be covered in future notebooks.\n",
        "\n",
        "As an example, remember that the correlation of AAPL and LRCX from 2013-1-1 to 2015-1-1 was $0.95$. Let's take the rolling 60 day correlation between the two to see how that varies."
      ]
    },
    {
      "cell_type": "code",
      "metadata": {
        "colab": {
          "base_uri": "https://localhost:8080/",
          "height": 297
        },
        "id": "UxsXcKVD49a-",
        "outputId": "fc79d2a5-087b-4d30-f37f-0179526c82b4"
      },
      "source": [
        "rolling_correlation = a1.rolling(60).corr(a2)\n",
        "plt.plot(rolling_correlation)\n",
        "plt.xlabel('Day')\n",
        "plt.ylabel('60-day Rolling Correlation')"
      ],
      "execution_count": 22,
      "outputs": [
        {
          "output_type": "execute_result",
          "data": {
            "text/plain": [
              "Text(0, 0.5, '60-day Rolling Correlation')"
            ]
          },
          "metadata": {},
          "execution_count": 22
        },
        {
          "output_type": "display_data",
          "data": {
            "image/png": "[encoded data removed]",
            "text/plain": [
              "<Figure size 432x288 with 1 Axes>"
            ]
          },
          "metadata": {
            "needs_background": "light"
          }
        }
      ]
    },
    {
      "cell_type": "markdown",
      "metadata": {
        "id": "dlQl2AIs6LAj"
      },
      "source": [
        "## Non-Linear Relationships"
      ]
    },
    {
      "cell_type": "markdown",
      "metadata": {
        "id": "GbakZ5LF7IfE"
      },
      "source": [
        "The correlation coefficient can be useful for examining the strength of the relationship between two variables. However, it's important to remember that two variables may be associated in different, predictable ways which this analysis would not pick up. For instance, one variable might precisely follow the behavior of a second, but with a delay. There are techniques for dealing with this lagged correlation. Alternatively, a variable may be related to the rate of change of another. Neither of these relationships are linear, but can be very useful if detected.\n",
        "\n",
        "Additionally, the correlation coefficient can be very sensitive to outliers. This means that including or excluding even a couple of data points can alter your result, and it is not always clear whether these points contain information or are simply noise.\n",
        "\n",
        "As an example, let's make the noise distribution poisson rather than normal and see what happens."
      ]
    },
    {
      "cell_type": "code",
      "metadata": {
        "colab": {
          "base_uri": "https://localhost:8080/",
          "height": 283
        },
        "id": "uGTMFyUu7MCL",
        "outputId": "53384f9a-e57e-47d3-f941-97a2cda75a7f"
      },
      "source": [
        "X = np.random.rand(100)\n",
        "Y = X + np.random.poisson(size=100)\n",
        "\n",
        "plt.scatter(X, Y)\n",
        "\n",
        "np.corrcoef(X, Y)[0, 1]"
      ],
      "execution_count": 23,
      "outputs": [
        {
          "output_type": "execute_result",
          "data": {
            "text/plain": [
              "0.23171354555086507"
            ]
          },
          "metadata": {},
          "execution_count": 23
        },
        {
          "output_type": "display_data",
          "data": {
            "image/png": "[encoded data removed]",
            "text/plain": [
              "<Figure size 432x288 with 1 Axes>"
            ]
          },
          "metadata": {
            "needs_background": "light"
          }
        }
      ]
    },
    {
      "cell_type": "markdown",
      "metadata": {
        "id": "BV8XaX3f7UFs"
      },
      "source": [
        "In conclusion, correlation is a powerful technique, but as always in statistics, one should be careful not to interpret results where there are none."
      ]
    }
  ]
}