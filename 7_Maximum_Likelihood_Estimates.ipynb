{
  "nbformat": 4,
  "nbformat_minor": 0,
  "metadata": {
    "colab": {
      "name": "7_Maximum_Likelihood_Estimates.ipynb",
      "provenance": [],
      "collapsed_sections": [],
      "authorship_tag": "ABX9TyMoluEA6sMOFFxJ7PhJaaSU",
      "include_colab_link": true
    },
    "kernelspec": {
      "name": "python3",
      "display_name": "Python 3"
    },
    "language_info": {
      "name": "python"
    }
  },
  "cells": [
    {
      "cell_type": "markdown",
      "metadata": {
        "id": "view-in-github",
        "colab_type": "text"
      },
      "source": [
        "<a href=\"https://colab.research.google.com/github/rohitnikam1/Basic_Financial_Analysis/blob/master/7_Maximum_Likelihood_Estimates.ipynb\" target=\"_parent\"><img src=\"https://colab.research.google.com/assets/colab-badge.svg\" alt=\"Open In Colab\"/></a>"
      ]
    },
    {
      "cell_type": "markdown",
      "metadata": {
        "id": "vSIve3ECB4I_"
      },
      "source": [
        "# **Maximum Likelihood Estimates (MLEs)**\n",
        "In this section, we will look into MLE for normal distribution and exponential distribution. Later we will fit a normal distribution to asset returns using MLE. First let's import some libraries."
      ]
    },
    {
      "cell_type": "code",
      "metadata": {
        "id": "qFSaBlXpC0xS"
      },
      "source": [
        "import math\n",
        "import matplotlib.pyplot as plt\n",
        "import numpy as np\n",
        "import scipy\n",
        "import scipy.stats"
      ],
      "execution_count": 1,
      "outputs": []
    },
    {
      "cell_type": "markdown",
      "metadata": {
        "id": "CNQdVFasC35J"
      },
      "source": [
        "## **Normal Distribution**\n",
        "We'll start by sampling some data from a normal distribution."
      ]
    },
    {
      "cell_type": "code",
      "metadata": {
        "id": "PKXVOosuC-JT"
      },
      "source": [
        "TRUE_MEAN = 40\n",
        "TRUE_STD = 10\n",
        "X = np.random.normal(TRUE_MEAN, TRUE_STD, 1000)"
      ],
      "execution_count": 2,
      "outputs": []
    },
    {
      "cell_type": "markdown",
      "metadata": {
        "id": "sTBPLA9jC_uD"
      },
      "source": [
        "Now let's compute the MLE for the $\\mu$ and $\\sigma$ parameters of the given data with scipy's built-in `fit()` function.\n",
        "\n",
        "Recall that\n",
        "\\begin{align}\n",
        "\\hat\\mu = &\\frac{1}{T}\\sum_{t=1}^{T} x_t \\\\\n",
        "\\hat\\sigma = &\\sqrt{\\frac{1}{T}\\sum_{t=1}^{T}{(x_t - \\hat\\mu)^2}}\n",
        "\\end{align}"
      ]
    },
    {
      "cell_type": "code",
      "metadata": {
        "colab": {
          "base_uri": "https://localhost:8080/"
        },
        "id": "Z51BNWBoDhQO",
        "outputId": "97075b2a-bb56-4ae9-a649-6809b905717a"
      },
      "source": [
        "mu, std = scipy.stats.norm.fit(X)\n",
        "print(f'mu estimate: {mu}')\n",
        "print(f'std estimate: {std}')"
      ],
      "execution_count": 5,
      "outputs": [
        {
          "output_type": "stream",
          "name": "stdout",
          "text": [
            "mu estimate: 39.88107672902781\n",
            "std estimate: 10.106616631495818\n"
          ]
        }
      ]
    },
    {
      "cell_type": "markdown",
      "metadata": {
        "id": "N3R-Hnv9DoPX"
      },
      "source": [
        "Now let's plot the distribution PDF along with the data to see how well it fits. We can do that by accessing the pdf provided in `scipy.stats.norm.pdf`."
      ]
    },
    {
      "cell_type": "code",
      "metadata": {
        "colab": {
          "base_uri": "https://localhost:8080/",
          "height": 497
        },
        "id": "Jvq2eNfcDvvP",
        "outputId": "f5d832fb-b82b-4aa3-f3bc-2b6012c5f6dc"
      },
      "source": [
        "pdf = scipy.stats.norm.pdf\n",
        "# We would like to plot our data along an x-axis ranging from 0-80 with 80 intervals\n",
        "# (increments of 1)\n",
        "x = np.linspace(0, 80, 80)\n",
        "_, ax = plt.subplots(figsize=(12,8))\n",
        "ax.hist(X, bins=x, density='true', ec='black')\n",
        "ax.plot(pdf(x, loc=mu, scale=std))\n",
        "ax.set_xlabel('Value')\n",
        "ax.set_ylabel('Observed Frequency')\n",
        "ax.legend(['Fitted Distribution PDF', 'Observed Data', ]);"
      ],
      "execution_count": 9,
      "outputs": [
        {
          "output_type": "display_data",
          "data": {
            "image/png": "[encoded data removed]",
            "text/plain": [
              "<Figure size 864x576 with 1 Axes>"
            ]
          },
          "metadata": {
            "needs_background": "light"
          }
        }
      ]
    },
    {
      "cell_type": "markdown",
      "metadata": {
        "id": "tZogNuerGyub"
      },
      "source": [
        "## **Exponential Distribution**\n",
        "Let's do the same thing, but for the exponential distribution. We'll start by sampling some data.\n"
      ]
    },
    {
      "cell_type": "code",
      "metadata": {
        "id": "OSi4UL0ZGDTP"
      },
      "source": [
        "TRUE_LAMBDA = 5\n",
        "X = np.random.exponential(TRUE_LAMBDA, 1000)"
      ],
      "execution_count": 10,
      "outputs": []
    },
    {
      "cell_type": "markdown",
      "metadata": {
        "id": "ePNv7zTOH6wt"
      },
      "source": [
        "Now let's compute the MLE for the $\\lambda$ parameter of the given data with scipy's built-in fit() function."
      ]
    },
    {
      "cell_type": "code",
      "metadata": {
        "id": "Sb9YzAdAG4ex"
      },
      "source": [
        "# The scipy version of the exponential distribution has a location parameter\n",
        "# that can skew the distribution. We ignore this by fixing the location\n",
        "# parameter to 0 with floc=0\n",
        "_, l = scipy.stats.expon.fit(X, floc=0)"
      ],
      "execution_count": 12,
      "outputs": []
    },
    {
      "cell_type": "code",
      "metadata": {
        "colab": {
          "base_uri": "https://localhost:8080/"
        },
        "id": "-Zn0dGu0Hwcl",
        "outputId": "2c1d5ce3-6d0f-40ed-c46f-559019dda434"
      },
      "source": [
        "print(f'lambda estimate: {l}')"
      ],
      "execution_count": 14,
      "outputs": [
        {
          "output_type": "stream",
          "name": "stdout",
          "text": [
            "lambda estimate: 4.7635218998912805\n"
          ]
        }
      ]
    },
    {
      "cell_type": "code",
      "metadata": {
        "colab": {
          "base_uri": "https://localhost:8080/",
          "height": 497
        },
        "id": "1tAyzbRVIVf2",
        "outputId": "6f5259e0-817b-4ab5-aa6a-cac834dc6341"
      },
      "source": [
        "pdf = scipy.stats.expon.pdf\n",
        "x = range(0, 80)\n",
        "_, ax = plt.subplots(figsize=(12,8))\n",
        "ax.hist(X, bins=x, density='true', ec = 'black')\n",
        "ax.plot(pdf(x, scale=l))\n",
        "ax.set_xlabel('Value')\n",
        "ax.set_ylabel('Observed Frequency')\n",
        "ax.legend(['Fitted Distribution PDF', 'Observed Data', ]);"
      ],
      "execution_count": 19,
      "outputs": [
        {
          "output_type": "display_data",
          "data": {
            "image/png": "[encoded data removed]",
            "text/plain": [
              "<Figure size 864x576 with 1 Axes>"
            ]
          },
          "metadata": {
            "needs_background": "light"
          }
        }
      ]
    },
    {
      "cell_type": "markdown",
      "metadata": {
        "id": "KbseebwvIdXK"
      },
      "source": [
        "## **MLE for Asset Returns**\n",
        "Now we'll fetch some real returns and try to fit a normal distribution to them using MLE.\n"
      ]
    },
    {
      "cell_type": "code",
      "metadata": {
        "colab": {
          "base_uri": "https://localhost:8080/"
        },
        "id": "jkuXjT_HI31B",
        "outputId": "35154cd7-1973-451d-ca2c-760d4f17d1fd"
      },
      "source": [
        "!pip install yfinance"
      ],
      "execution_count": 20,
      "outputs": [
        {
          "output_type": "stream",
          "name": "stdout",
          "text": [
            "Collecting yfinance\n",
            "  Downloading yfinance-0.1.63.tar.gz (26 kB)\n",
            "Requirement already satisfied: pandas>=0.24 in /usr/local/lib/python3.7/dist-packages (from yfinance) (1.1.5)\n",
            "Requirement already satisfied: numpy>=1.15 in /usr/local/lib/python3.7/dist-packages (from yfinance) (1.19.5)\n",
            "Requirement already satisfied: requests>=2.20 in /usr/local/lib/python3.7/dist-packages (from yfinance) (2.23.0)\n",
            "Requirement already satisfied: multitasking>=0.0.7 in /usr/local/lib/python3.7/dist-packages (from yfinance) (0.0.9)\n",
            "Collecting lxml>=4.5.1\n",
            "  Downloading lxml-4.6.3-cp37-cp37m-manylinux2014_x86_64.whl (6.3 MB)\n",
            "\u001b[K     |████████████████████████████████| 6.3 MB 7.6 MB/s \n",
            "\u001b[?25hRequirement already satisfied: python-dateutil>=2.7.3 in /usr/local/lib/python3.7/dist-packages (from pandas>=0.24->yfinance) (2.8.2)\n",
            "Requirement already satisfied: pytz>=2017.2 in /usr/local/lib/python3.7/dist-packages (from pandas>=0.24->yfinance) (2018.9)\n",
            "Requirement already satisfied: six>=1.5 in /usr/local/lib/python3.7/dist-packages (from python-dateutil>=2.7.3->pandas>=0.24->yfinance) (1.15.0)\n",
            "Requirement already satisfied: idna<3,>=2.5 in /usr/local/lib/python3.7/dist-packages (from requests>=2.20->yfinance) (2.10)\n",
            "Requirement already satisfied: urllib3!=1.25.0,!=1.25.1,<1.26,>=1.21.1 in /usr/local/lib/python3.7/dist-packages (from requests>=2.20->yfinance) (1.24.3)\n",
            "Requirement already satisfied: certifi>=2017.4.17 in /usr/local/lib/python3.7/dist-packages (from requests>=2.20->yfinance) (2021.5.30)\n",
            "Requirement already satisfied: chardet<4,>=3.0.2 in /usr/local/lib/python3.7/dist-packages (from requests>=2.20->yfinance) (3.0.4)\n",
            "Building wheels for collected packages: yfinance\n",
            "  Building wheel for yfinance (setup.py) ... \u001b[?25l\u001b[?25hdone\n",
            "  Created wheel for yfinance: filename=yfinance-0.1.63-py2.py3-none-any.whl size=23918 sha256=5f41cd8c81db85d47d445d03ffd2c23baeac37a9660d4fde0ab98b2bba600337\n",
            "  Stored in directory: /root/.cache/pip/wheels/fe/87/8b/7ec24486e001d3926537f5f7801f57a74d181be25b11157983\n",
            "Successfully built yfinance\n",
            "Installing collected packages: lxml, yfinance\n",
            "  Attempting uninstall: lxml\n",
            "    Found existing installation: lxml 4.2.6\n",
            "    Uninstalling lxml-4.2.6:\n",
            "      Successfully uninstalled lxml-4.2.6\n",
            "Successfully installed lxml-4.6.3 yfinance-0.1.63\n"
          ]
        }
      ]
    },
    {
      "cell_type": "code",
      "metadata": {
        "id": "80IrOyTHI6U6"
      },
      "source": [
        "from pandas_datareader import data as pdr\n",
        "import yfinance as yf\n",
        "yf.pdr_override()"
      ],
      "execution_count": 21,
      "outputs": []
    },
    {
      "cell_type": "code",
      "metadata": {
        "id": "rUPN0ttvJAmP"
      },
      "source": [
        "def get_data(tickers, start, end):\n",
        "  '''Get stock data for tickers'''\n",
        "  stockData = pdr.get_data_yahoo(tickers, start=start, end=end)\n",
        "  stockData = stockData['Close']\n",
        "  return stockData"
      ],
      "execution_count": 23,
      "outputs": []
    },
    {
      "cell_type": "code",
      "metadata": {
        "colab": {
          "base_uri": "https://localhost:8080/"
        },
        "id": "MbWetFGEJUWZ",
        "outputId": "73fb9ed1-99aa-4d35-abfc-479725242db6"
      },
      "source": [
        "prices = get_data(['TSLA'], start='2014-01-01', end='2015-01-01')\n",
        "absolute_returns = np.diff(prices)\n",
        "returns = absolute_returns/prices[:-1]"
      ],
      "execution_count": 24,
      "outputs": [
        {
          "output_type": "stream",
          "name": "stdout",
          "text": [
            "\r[*********************100%***********************]  1 of 1 completed\n"
          ]
        }
      ]
    },
    {
      "cell_type": "markdown",
      "metadata": {
        "id": "Pp6d0E-2J4LA"
      },
      "source": [
        "Let's use scipy's fit function to get the $\\mu$ and $\\sigma$ MLEs."
      ]
    },
    {
      "cell_type": "code",
      "metadata": {
        "colab": {
          "base_uri": "https://localhost:8080/",
          "height": 483
        },
        "id": "RkuQ_YS2J9wU",
        "outputId": "d7e138cd-21c2-494b-a50d-495f251170f9"
      },
      "source": [
        "mu, std = scipy.stats.norm.fit(returns)\n",
        "pdf = scipy.stats.norm.pdf\n",
        "x = np.linspace(-1,1, num=100)\n",
        "_, ax = plt.subplots(figsize = (12,8))\n",
        "ax.hist(returns, bins=x, density='true', ec='black')\n",
        "ax.plot(x, pdf(x, loc=mu, scale=std));"
      ],
      "execution_count": 27,
      "outputs": [
        {
          "output_type": "display_data",
          "data": {
            "image/png": "[encoded data removed]",
            "text/plain": [
              "<Figure size 864x576 with 1 Axes>"
            ]
          },
          "metadata": {
            "needs_background": "light"
          }
        }
      ]
    },
    {
      "cell_type": "markdown",
      "metadata": {
        "id": "sKRo92kSKDkm"
      },
      "source": [
        "Of course, this fit is meaningless unless we've tested that they obey a normal distribution first. We can test this using the Jarque-Bera normality test. The Jarque-Bera test will reject the hypothesis of a normal distribution if the p-value is under a c."
      ]
    },
    {
      "cell_type": "code",
      "metadata": {
        "colab": {
          "base_uri": "https://localhost:8080/"
        },
        "id": "moE3zYobKV2H",
        "outputId": "b7b1f4a7-a374-4fa4-9f4e-036e14bf0699"
      },
      "source": [
        "from statsmodels.stats.stattools import jarque_bera\n",
        "jarque_bera(returns)"
      ],
      "execution_count": 28,
      "outputs": [
        {
          "output_type": "stream",
          "name": "stderr",
          "text": [
            "/usr/local/lib/python3.7/dist-packages/statsmodels/tools/_testing.py:19: FutureWarning: pandas.util.testing is deprecated. Use the functions in the public API at pandas.testing instead.\n",
            "  import pandas.util.testing as tm\n"
          ]
        },
        {
          "output_type": "execute_result",
          "data": {
            "text/plain": [
              "(249.43350770703043,\n",
              " 6.858071372376853e-55,\n",
              " 0.7513125049011787,\n",
              " 7.646755207269467)"
            ]
          },
          "metadata": {},
          "execution_count": 28
        }
      ]
    },
    {
      "cell_type": "code",
      "metadata": {
        "colab": {
          "base_uri": "https://localhost:8080/"
        },
        "id": "4dlccoajKbft",
        "outputId": "5e3e37c2-6d0a-43e0-9fee-f67ee8bad3ea"
      },
      "source": [
        "jarque_bera(np.random.normal(0, 1, 100))"
      ],
      "execution_count": 29,
      "outputs": [
        {
          "output_type": "execute_result",
          "data": {
            "text/plain": [
              "(1.273873069808033, 0.5289102427798524, -0.22030851240449026, 2.66595483209241)"
            ]
          },
          "metadata": {},
          "execution_count": 29
        }
      ]
    }
  ]
}