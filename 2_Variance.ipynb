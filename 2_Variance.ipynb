{
  "nbformat": 4,
  "nbformat_minor": 0,
  "metadata": {
    "colab": {
      "name": "2_Variance.ipynb",
      "provenance": [],
      "authorship_tag": "ABX9TyMgSnP2z3z5OqaMoGdVnvZg",
      "include_colab_link": true
    },
    "kernelspec": {
      "name": "python3",
      "display_name": "Python 3"
    },
    "language_info": {
      "name": "python"
    }
  },
  "cells": [
    {
      "cell_type": "markdown",
      "metadata": {
        "id": "view-in-github",
        "colab_type": "text"
      },
      "source": [
        "<a href=\"https://colab.research.google.com/github/rohitnikam1/Basic-Financial-Analysis/blob/master/2_Variance.ipynb\" target=\"_parent\"><img src=\"https://colab.research.google.com/assets/colab-badge.svg\" alt=\"Open In Colab\"/></a>"
      ]
    },
    {
      "cell_type": "markdown",
      "metadata": {
        "id": "GmmqlZI4ApY6"
      },
      "source": [
        "# Measures of Dispersion"
      ]
    },
    {
      "cell_type": "markdown",
      "metadata": {
        "id": "3UCyeg3lAwW9"
      },
      "source": [
        "Dispersion measures how spread out a set of data is. This is especially important in finance because one of the main ways risk is measured is in how spread out returns have been historically. If returns have been very tight around a central value, then we have less reason to worry. If returns have been all over the place, that is risky.\n",
        "\n",
        "Data with low dispersion is heavily clustered around the mean, while data with high dispersion indicates many very large and very small values.\n",
        "\n",
        "Let's generate an array of random integers to work with."
      ]
    },
    {
      "cell_type": "code",
      "metadata": {
        "id": "8nwoTGG0AsX4"
      },
      "source": [
        "import numpy as np\n",
        "np.random.seed(121)"
      ],
      "execution_count": 1,
      "outputs": []
    },
    {
      "cell_type": "code",
      "metadata": {
        "colab": {
          "base_uri": "https://localhost:8080/"
        },
        "id": "_7N7TfRZBJ6w",
        "outputId": "cbe9741f-0ca7-4c2d-c292-c0993b427eb1"
      },
      "source": [
        "#Generate 20 random integers < 100 and sort them\n",
        "x = np.random.randint(100, size=20)\n",
        "x = np.sort(x)\n",
        "print(f'x: {x}')\n",
        "mu = np.mean(x)\n",
        "print(f'mu: {mu}')"
      ],
      "execution_count": 4,
      "outputs": [
        {
          "output_type": "stream",
          "name": "stdout",
          "text": [
            "x: [ 3  4 10 13 14 21 30 36 41 41 45 51 55 68 76 82 83 87 94 94]\n",
            "mu: 47.4\n"
          ]
        }
      ]
    },
    {
      "cell_type": "markdown",
      "metadata": {
        "id": "NS5hEOcICZO-"
      },
      "source": [
        "# Range"
      ]
    },
    {
      "cell_type": "markdown",
      "metadata": {
        "id": "0ssdrnVECbuE"
      },
      "source": [
        "Range is simply the difference between the maximum and minimum values in a dataset. Not surprisingly, it is very sensitive to outliers. We'll use numpy's peak to peak (ptp) function for this."
      ]
    },
    {
      "cell_type": "code",
      "metadata": {
        "colab": {
          "base_uri": "https://localhost:8080/"
        },
        "id": "Rw0prycyB-bt",
        "outputId": "d06f2cb9-b68b-4238-cc5a-4c45ccffc1c0"
      },
      "source": [
        "print(f'Range of x: {np.ptp(x)}')"
      ],
      "execution_count": 3,
      "outputs": [
        {
          "output_type": "stream",
          "name": "stdout",
          "text": [
            "Range of x: 93\n"
          ]
        }
      ]
    },
    {
      "cell_type": "markdown",
      "metadata": {
        "id": "H6rwlEqPCuEc"
      },
      "source": [
        "# Mean Absolute Deviation (MAD)"
      ]
    },
    {
      "cell_type": "markdown",
      "metadata": {
        "id": "vLQcIM72CzOm"
      },
      "source": [
        "The mean absolute deviation is the average of the distances of observations from the arithmetic mean. We use the absolute value of the deviation, so that 5 above the mean and 5 below the mean both contribute 5, because otherwise the deviations always sum to 0.\n",
        "\n",
        "$$ MAD = \\frac{\\sum_{i=1}^n |X_i - \\mu|}{n} $$\n",
        "where $n$ is the number of observations and $\\mu$ is their mean."
      ]
    },
    {
      "cell_type": "code",
      "metadata": {
        "colab": {
          "base_uri": "https://localhost:8080/"
        },
        "id": "DLLc1KxkCnLk",
        "outputId": "7ec929aa-2b76-46d6-a97c-efcfa6498959"
      },
      "source": [
        "abs_dispersion = np.mean([np.abs(i-mu) for i in x])\n",
        "print(f'Mean absolute deviation of x: {abs_dispersion}')"
      ],
      "execution_count": 10,
      "outputs": [
        {
          "output_type": "stream",
          "name": "stdout",
          "text": [
            "Mean absolute deviation of x: 26.340000000000003\n"
          ]
        }
      ]
    },
    {
      "cell_type": "markdown",
      "metadata": {
        "id": "wi5OGGyLEanx"
      },
      "source": [
        "# Variance and Standard Deviation"
      ]
    },
    {
      "cell_type": "markdown",
      "metadata": {
        "id": "5wmhTQe_EiXN"
      },
      "source": [
        "The sample variance $\\hat{\\sigma^2}$ is defined as the average of the squared deviations around the mean:$$ \\hat{\\sigma^2} = \\frac{\\sum_{i=1}^n (X_i - \\mu)^2}{n} $$\n",
        "\n",
        "This is sometimes more convenient than the mean absolute deviation because absolute value is not differentiable, while squaring is smooth, and some optimization algorithms rely on differentiability.\n",
        "\n",
        "Standard deviation is defined as the square root of the variance, $\\hat{\\sigma}$, and it is the easier of the two to interpret because it is in the same units as the observations."
      ]
    },
    {
      "cell_type": "code",
      "metadata": {
        "colab": {
          "base_uri": "https://localhost:8080/"
        },
        "id": "rFK94wiTEhSR",
        "outputId": "0c562359-2994-4a00-e78a-0b91965d04b4"
      },
      "source": [
        "var = np.var(x)\n",
        "print(f'Variance of x: {var}')\n",
        "std = np.std(x)\n",
        "print(f'Standard deviation of x: {std}')"
      ],
      "execution_count": 12,
      "outputs": [
        {
          "output_type": "stream",
          "name": "stdout",
          "text": [
            "Variance of x: 922.9399999999999\n",
            "Standard deviation of x: 30.379927583850492\n"
          ]
        }
      ]
    },
    {
      "cell_type": "markdown",
      "metadata": {
        "id": "plb0cAtTFP2m"
      },
      "source": [
        "One way to interpret standard deviation is by referring to *Chebyshev's inequality*. This tells us that the proportion of samples within $k$ standard deviations (that is, within a distance of $k \\cdot$ standard deviation) of the mean is at least $1 - 1/k^2$ for all $k>1$.\n",
        "\n",
        "Let's check that this is true for our data set."
      ]
    },
    {
      "cell_type": "code",
      "metadata": {
        "colab": {
          "base_uri": "https://localhost:8080/"
        },
        "id": "FUyfmEUuFHsp",
        "outputId": "970afc17-c11c-44f1-ffb5-7c40b6a2479b"
      },
      "source": [
        "k = 1.25\n",
        "dist = k*std\n",
        "x_within_dist = [i for i in x if np.abs(i-mu) < dist]\n",
        "print(f'Observation within {k} standard deviations: {x_within_dist}')\n",
        "print(f'Confirming that {len(x_within_dist)/len(x)} > {1-k**-2}')"
      ],
      "execution_count": 27,
      "outputs": [
        {
          "output_type": "stream",
          "name": "stdout",
          "text": [
            "Observation within 1.25 standard deviations: [10, 13, 14, 21, 30, 36, 41, 41, 45, 51, 55, 68, 76, 82, 83]\n",
            "Confirming that 0.75 > 0.36\n"
          ]
        }
      ]
    },
    {
      "cell_type": "markdown",
      "metadata": {
        "id": "O-RVkGTzJM69"
      },
      "source": [
        "The bound given by Chebyshev's inequality seems fairly loose in this case. This bound is rarely strict, but it is useful because it holds for all data sets and distributions."
      ]
    },
    {
      "cell_type": "markdown",
      "metadata": {
        "id": "-DMQOmaAJYmj"
      },
      "source": [
        "# Semivariance and Semideviation"
      ]
    },
    {
      "cell_type": "markdown",
      "metadata": {
        "id": "pZT8LNmUJdVN"
      },
      "source": [
        "Although variance and standard deviation tell us how volatile a quantity is, they do not differentiate between deviations upward and deviations downward. Often, such as in the case of returns on an asset, we are more worried about deviations downward. This is addressed by semivariance and semideviation, which only count the observations that fall below the mean. Semivariance is defined as\n",
        "\\begin{align}\n",
        "\\frac{\\sum_{X_i \\lt \\mu} (X_i - \\mu)^2}{n_{\\lt}}\n",
        "\\end{align}\n",
        "where $n_{\\lt}$ is the number of observations which are smaller than the mean. Semideviation is the square root of the semivariance."
      ]
    },
    {
      "cell_type": "code",
      "metadata": {
        "colab": {
          "base_uri": "https://localhost:8080/"
        },
        "id": "-YJNWQZtH6Gm",
        "outputId": "39365c3a-4159-4131-8420-e4737998c311"
      },
      "source": [
        "# Since there is no in-built function for semivariance, we calculate it here.\n",
        "lows = [i for i in x if i < mu]\n",
        "semivar = np.sum((np.array(lows)-mu)**2)/len(lows)\n",
        "print(f'Semivariance of x: {semivar}')\n",
        "print(f'Semideviation of x: {np.sqrt(semivar)}')"
      ],
      "execution_count": 30,
      "outputs": [
        {
          "output_type": "stream",
          "name": "stdout",
          "text": [
            "Semivariance of x: 797.2690909090907\n",
            "Semideviation of x: 28.235953869297397\n"
          ]
        }
      ]
    },
    {
      "cell_type": "markdown",
      "metadata": {
        "id": "2t7l3sCmMuFL"
      },
      "source": [
        "A related notion is the target semivariance (and target semideviation), where we average the distance from a target of values which fall below that target: \n",
        "\\begin{align}\n",
        " \\frac{\\sum_{X_i \\lt B} (X_i - B)^2}{n_{\\lt B}}\n",
        " \\end{align}"
      ]
    },
    {
      "cell_type": "code",
      "metadata": {
        "colab": {
          "base_uri": "https://localhost:8080/"
        },
        "id": "d7K-t-X_MThs",
        "outputId": "cfeafd02-afdd-4dcd-a9e9-b0cb00647aaa"
      },
      "source": [
        "B = 19\n",
        "lows_B = [i for i in x if i < B]\n",
        "semivar_B = np.sum((np.array(lows_B)-B)**2)/len(lows_B)\n",
        "print(f'Semivariance of x for target {B}: {semivar_B}')\n",
        "print(f'Semideviation of x for target {B}: {np.sqrt(semivar_B)}')"
      ],
      "execution_count": 32,
      "outputs": [
        {
          "output_type": "stream",
          "name": "stdout",
          "text": [
            "Semivariance of x for target 19: 124.6\n",
            "Semideviation of x for target 19: 11.16243700990066\n"
          ]
        }
      ]
    },
    {
      "cell_type": "markdown",
      "metadata": {
        "id": "skujQG45Oh12"
      },
      "source": [
        "# These are Only Estimates"
      ]
    },
    {
      "cell_type": "markdown",
      "metadata": {
        "id": "DBYEqkSNOsZO"
      },
      "source": [
        "All of these computations will give you sample statistics, that is standard deviation of a sample of data. Whether or not this reflects the current true population standard deviation is not always obvious, and more effort has to be put into determining that. This is especially problematic in finance because all data are time series and the mean and variance may change over time. In general do not assume that because something is true of your sample, it will remain true going forward."
      ]
    },
    {
      "cell_type": "markdown",
      "metadata": {
        "id": "QjNBHBi3PBH1"
      },
      "source": [
        "## References"
      ]
    },
    {
      "cell_type": "markdown",
      "metadata": {
        "id": "BXz4lpnOPDf3"
      },
      "source": [
        "- \"Quantitative Investment Analysis\", by DeFusco, McLeavey, Pinto, and Runkle"
      ]
    }
  ]
}