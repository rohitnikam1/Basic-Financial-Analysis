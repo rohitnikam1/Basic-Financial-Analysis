{
  "nbformat": 4,
  "nbformat_minor": 0,
  "metadata": {
    "colab": {
      "name": "9_Multiple_Linear_Regression.ipynb",
      "provenance": [],
      "collapsed_sections": [],
      "authorship_tag": "ABX9TyMeq60j1qL81q+kMiO8J7ay",
      "include_colab_link": true
    },
    "kernelspec": {
      "name": "python3",
      "display_name": "Python 3"
    },
    "language_info": {
      "name": "python"
    }
  },
  "cells": [
    {
      "cell_type": "markdown",
      "metadata": {
        "id": "view-in-github",
        "colab_type": "text"
      },
      "source": [
        "<a href=\"https://colab.research.google.com/github/rohitnikam1/Basic_Financial_Analysis/blob/master/9_Multiple_Linear_Regression.ipynb\" target=\"_parent\"><img src=\"https://colab.research.google.com/assets/colab-badge.svg\" alt=\"Open In Colab\"/></a>"
      ]
    },
    {
      "cell_type": "markdown",
      "metadata": {
        "id": "te_jyEpaQgbU"
      },
      "source": [
        "# **Multiple Linear Regression**"
      ]
    },
    {
      "cell_type": "code",
      "metadata": {
        "colab": {
          "base_uri": "https://localhost:8080/"
        },
        "id": "BrothN8-QxME",
        "outputId": "7b8c8484-dbf4-4192-ad0c-7a273562ccdf"
      },
      "source": [
        "import numpy as np\n",
        "import pandas as pd\n",
        "import statsmodels.api as sm\n",
        "# If the observations are in a dataframe, you can use statsmodels.formulas.api to do the regression instead\n",
        "from statsmodels import regression\n",
        "import matplotlib.pyplot as plt"
      ],
      "execution_count": 1,
      "outputs": [
        {
          "output_type": "stream",
          "name": "stderr",
          "text": [
            "/usr/local/lib/python3.7/dist-packages/statsmodels/tools/_testing.py:19: FutureWarning: pandas.util.testing is deprecated. Use the functions in the public API at pandas.testing instead.\n",
            "  import pandas.util.testing as tm\n"
          ]
        }
      ]
    },
    {
      "cell_type": "markdown",
      "metadata": {
        "id": "6ccbjd3zQ1D0"
      },
      "source": [
        "Multiple linear regression generalizes linear regression, allowing the dependent variable to be a linear function of multiple independent variables. As before, we assume that the variable $Y$ is a linear function of $X_1,\\ldots, X_k$:\n",
        "$$ Y_i = \\beta_0 + \\beta_1 X_{1i} + \\ldots + \\beta_k X_{ki} + \\epsilon_i $$\n",
        "\n",
        "Often in finance the form will be written as follows, but it is just the variable name that changes and otherwise the model is identical.\n",
        "$$ Y_i = \\alpha + \\beta_1 X_{1i} + \\ldots + \\beta_k X_{ki} + \\epsilon_i $$\n",
        "\n",
        "For observations $i = 1,2,\\ldots, n$. In order to find the plane (or hyperplane) of best fit, we will use the method of ordinary least-squares (OLS), which seeks to minimize the squared error between predictions and observations, $\\sum_{i=1}^n \\epsilon_i^2$. The square makes positive and negative errors equally bad, and magnifies large errors. It also makes the closed form math behind linear regression nice, but we won't go into that now. For an example of squared error, see the following.\n",
        "\n",
        "Let's say Y is our actual data, and Y_hat is the predictions made by linear regression.\n"
      ]
    },
    {
      "cell_type": "code",
      "metadata": {
        "colab": {
          "base_uri": "https://localhost:8080/"
        },
        "id": "iXLYuQI2U-44",
        "outputId": "b2679ff0-dcbb-4557-9403-1bb0d0bd02ac"
      },
      "source": [
        "Y = np.array([1, 3.5, 4, 8, 12])\n",
        "Y_hat = np.array([1, 3, 5, 7, 9])\n",
        "\n",
        "print(f'Error: {Y_hat - Y}')\n",
        "\n",
        "# Compute squared error\n",
        "SE = (Y_hat - Y) ** 2\n",
        "\n",
        "print(f'Squared Error: {SE}')\n",
        "print(f'Sum Squared Error: {np.sum(SE)}')"
      ],
      "execution_count": 2,
      "outputs": [
        {
          "output_type": "stream",
          "name": "stdout",
          "text": [
            "Error: [ 0.  -0.5  1.  -1.  -3. ]\n",
            "Squared Error: [0.   0.25 1.   1.   9.  ]\n",
            "Sum Squared Error: 11.25\n"
          ]
        }
      ]
    },
    {
      "cell_type": "markdown",
      "metadata": {
        "id": "IesGVXxZVvNu"
      },
      "source": [
        "\n",
        "\n",
        "Once we have used this method to determine the coefficients of the regression, we will be able to use new observed values of $X$ to predict values of $Y$.\n",
        "\n",
        "Each coefficient $\\beta_j$ tells us how much $Y_i$ will change if we change $X_j$ by one while holding all of the other dependent variables constant. This lets us separate out the contributions of different effects. This is assuming the linear model is the correct one.\n",
        "\n",
        "We start by artificially constructing a $Y$, $X_1$, and $X_2$ in which we know the precise relationship.\n"
      ]
    },
    {
      "cell_type": "code",
      "metadata": {
        "colab": {
          "base_uri": "https://localhost:8080/",
          "height": 265
        },
        "id": "DqEBLC5oXDUB",
        "outputId": "6cc276d0-c875-4def-9cf6-052f24b31582"
      },
      "source": [
        "# Construct a simple linear curve of 1, 2, 3, ...\n",
        "X1 = np.arange(100)\n",
        "\n",
        "# Make a parabola and add X1 to it, this is X2\n",
        "X2 = np.array([i ** 2 for i in range(100)]) + X1\n",
        "\n",
        "# This is our real Y, constructed using a linear combination of X1 and X2\n",
        "Y = X1 + X2\n",
        "\n",
        "plt.plot(X1, label='X1')\n",
        "plt.plot(X2, label='X2')\n",
        "plt.plot(Y, label='Y')\n",
        "plt.legend();"
      ],
      "execution_count": 3,
      "outputs": [
        {
          "output_type": "display_data",
          "data": {
            "image/png": "[encoded data removed]",
            "text/plain": [
              "<Figure size 432x288 with 1 Axes>"
            ]
          },
          "metadata": {
            "needs_background": "light"
          }
        }
      ]
    },
    {
      "cell_type": "markdown",
      "metadata": {
        "id": "Tyk-ytZ2XdI_"
      },
      "source": [
        "We can use the same function from `statsmodels` as we did for a single linear regression lecture."
      ]
    },
    {
      "cell_type": "code",
      "metadata": {
        "colab": {
          "base_uri": "https://localhost:8080/"
        },
        "id": "0FUIDwZaXkcA",
        "outputId": "07904d3e-ab9e-4f59-aed7-1a1ff67d16ae"
      },
      "source": [
        "# Use column_stack to combine independent variables, then add a column of ones so we can fit an intercept\n",
        "X = sm.add_constant( np.column_stack( (X1, X2) ) )\n",
        "\n",
        "# Run the model\n",
        "results = regression.linear_model.OLS(Y, X).fit()\n",
        "\n",
        "print(f'Beta_0: {results.params[0]}')\n",
        "print(f'Beta_1: {results.params[1]}')\n",
        "print(f'Beta_2: {results.params[2]}')"
      ],
      "execution_count": 6,
      "outputs": [
        {
          "output_type": "stream",
          "name": "stdout",
          "text": [
            "Beta_0: 1.6200374375330284e-12\n",
            "Beta_1: 1.000000000000366\n",
            "Beta_2: 0.9999999999999949\n"
          ]
        }
      ]
    },
    {
      "cell_type": "markdown",
      "metadata": {
        "id": "uGvdaAsFXmxq"
      },
      "source": [
        "The same care must be taken with these results as with partial derivatives. The formula for $Y$ is ostensibly\n",
        "$$X_1 + X_2 = X_1 + X^2 + X_1 = 2 X_1 + X^2$$\n",
        "\n",
        "Or $2X_1$ plus a parabola.\n",
        "\n",
        "However, the coefficient of $X_1$ is 1. That is because $Y$ changes by 1 if we change $X_1$ by 1 while holding $X_2$ constant. Multiple linear regression separates out contributions from different variables.\n",
        "\n",
        "Similarly, running a linear regression on two securities might give a high $\\beta$. However, if we bring in a third security (like SPY, which tracks the S&P 500) as an independent variable, we may find that the correlation between the first two securities is almost entirely due to them both being correlated with the S&P 500. This is useful because the S&P 500 may then be a more reliable predictor of both securities than they were of each other. This method allows us to better gauge the significance between the two securities and prevent confounding the two variables."
      ]
    },
    {
      "cell_type": "code",
      "metadata": {
        "id": "u5v-3g1QYzqP",
        "colab": {
          "base_uri": "https://localhost:8080/"
        },
        "outputId": "f51038fd-afc3-435c-f299-a88cc6eec294"
      },
      "source": [
        "!pip install yfinance"
      ],
      "execution_count": 7,
      "outputs": [
        {
          "output_type": "stream",
          "name": "stdout",
          "text": [
            "Collecting yfinance\n",
            "  Downloading yfinance-0.1.64.tar.gz (26 kB)\n",
            "Requirement already satisfied: pandas>=0.24 in /usr/local/lib/python3.7/dist-packages (from yfinance) (1.1.5)\n",
            "Requirement already satisfied: numpy>=1.15 in /usr/local/lib/python3.7/dist-packages (from yfinance) (1.19.5)\n",
            "Requirement already satisfied: requests>=2.20 in /usr/local/lib/python3.7/dist-packages (from yfinance) (2.23.0)\n",
            "Requirement already satisfied: multitasking>=0.0.7 in /usr/local/lib/python3.7/dist-packages (from yfinance) (0.0.9)\n",
            "Collecting lxml>=4.5.1\n",
            "  Downloading lxml-4.6.3-cp37-cp37m-manylinux2014_x86_64.whl (6.3 MB)\n",
            "\u001b[K     |████████████████████████████████| 6.3 MB 5.9 MB/s \n",
            "\u001b[?25hRequirement already satisfied: pytz>=2017.2 in /usr/local/lib/python3.7/dist-packages (from pandas>=0.24->yfinance) (2018.9)\n",
            "Requirement already satisfied: python-dateutil>=2.7.3 in /usr/local/lib/python3.7/dist-packages (from pandas>=0.24->yfinance) (2.8.2)\n",
            "Requirement already satisfied: six>=1.5 in /usr/local/lib/python3.7/dist-packages (from python-dateutil>=2.7.3->pandas>=0.24->yfinance) (1.15.0)\n",
            "Requirement already satisfied: urllib3!=1.25.0,!=1.25.1,<1.26,>=1.21.1 in /usr/local/lib/python3.7/dist-packages (from requests>=2.20->yfinance) (1.24.3)\n",
            "Requirement already satisfied: chardet<4,>=3.0.2 in /usr/local/lib/python3.7/dist-packages (from requests>=2.20->yfinance) (3.0.4)\n",
            "Requirement already satisfied: idna<3,>=2.5 in /usr/local/lib/python3.7/dist-packages (from requests>=2.20->yfinance) (2.10)\n",
            "Requirement already satisfied: certifi>=2017.4.17 in /usr/local/lib/python3.7/dist-packages (from requests>=2.20->yfinance) (2021.5.30)\n",
            "Building wheels for collected packages: yfinance\n",
            "  Building wheel for yfinance (setup.py) ... \u001b[?25l\u001b[?25hdone\n",
            "  Created wheel for yfinance: filename=yfinance-0.1.64-py2.py3-none-any.whl size=24109 sha256=c8b619f064ac3f78387d486ddeb1b3dbce0c3900d8f87b8335bb6939dd728d6c\n",
            "  Stored in directory: /root/.cache/pip/wheels/86/fe/9b/a4d3d78796b699e37065e5b6c27b75cff448ddb8b24943c288\n",
            "Successfully built yfinance\n",
            "Installing collected packages: lxml, yfinance\n",
            "  Attempting uninstall: lxml\n",
            "    Found existing installation: lxml 4.2.6\n",
            "    Uninstalling lxml-4.2.6:\n",
            "      Successfully uninstalled lxml-4.2.6\n",
            "Successfully installed lxml-4.6.3 yfinance-0.1.64\n"
          ]
        }
      ]
    },
    {
      "cell_type": "code",
      "metadata": {
        "id": "pH0WprjNcaJ6"
      },
      "source": [
        "from pandas_datareader import data as pdr\n",
        "import yfinance as yf\n",
        "yf.pdr_override()"
      ],
      "execution_count": 11,
      "outputs": []
    },
    {
      "cell_type": "code",
      "metadata": {
        "id": "JT1X9uEKcWDK"
      },
      "source": [
        "def get_data(tickers, start, end):\n",
        "  '''Get stock data for tickers'''\n",
        "  stockData = pdr.get_data_yahoo(tickers, start=start, end=end)\n",
        "  stockData = stockData['Close']\n",
        "  return stockData"
      ],
      "execution_count": 12,
      "outputs": []
    },
    {
      "cell_type": "code",
      "metadata": {
        "colab": {
          "base_uri": "https://localhost:8080/"
        },
        "id": "mLkHZVsmYlYb",
        "outputId": "a8fe5cc8-1e4c-44cf-813c-1190c2e2147d"
      },
      "source": [
        "# Load pricing data for two arbitrarily-chosen assets and SPY\n",
        "start = '2014-01-01'\n",
        "end = '2015-01-01'\n",
        "\n",
        "asset1 = get_data(['DG'], start=start, end=end)\n",
        "asset2 = get_data(['FISV'], start=start, end=end) \n",
        "benchmark = get_data(['SPY'], start=start, end=end)\n",
        "\n",
        "# First, run a linear regression on the two assets\n",
        "slr = regression.linear_model.OLS(asset1, sm.add_constant(asset2)).fit()\n",
        "print(f'SLR beta of asset2: {slr.params[1]}')"
      ],
      "execution_count": 21,
      "outputs": [
        {
          "output_type": "stream",
          "name": "stdout",
          "text": [
            "[*********************100%***********************]  1 of 1 completed\n",
            "[*********************100%***********************]  1 of 1 completed\n",
            "[*********************100%***********************]  1 of 1 completed\n",
            "SLR beta of asset2: 1.4740681345034026\n"
          ]
        }
      ]
    },
    {
      "cell_type": "code",
      "metadata": {
        "colab": {
          "base_uri": "https://localhost:8080/"
        },
        "id": "64C_XSd1cSMm",
        "outputId": "d458c6de-8177-4c4c-8fe8-b8ea80be35d0"
      },
      "source": [
        "# Run multiple linear regression using asset2 and SPY as independent variables\n",
        "mlr = regression.linear_model.OLS(asset1, sm.add_constant(np.column_stack((asset2, benchmark)))).fit()\n",
        "\n",
        "prediction = mlr.params[0] + mlr.params[1]*asset2 + mlr.params[2]*benchmark\n",
        "prediction.name = 'Prediction'\n",
        "\n",
        "print(f'MLR beta of asset2: {mlr.params[1]}, \\nMLR beta of S&P 500: {mlr.params[2]}')"
      ],
      "execution_count": 22,
      "outputs": [
        {
          "output_type": "stream",
          "name": "stdout",
          "text": [
            "MLR beta of asset2: 1.790438244389167, \n",
            "MLR beta of S&P 500: -0.10253246977380392\n"
          ]
        }
      ]
    },
    {
      "cell_type": "markdown",
      "metadata": {
        "id": "Z3X--erZflMF"
      },
      "source": [
        "The next step after running an analysis is determining if we can even trust the results. A good first step is checking to see if anything looks weird in graphs of the independent variables, dependent variables, and predictions."
      ]
    },
    {
      "cell_type": "code",
      "metadata": {
        "colab": {
          "base_uri": "https://localhost:8080/",
          "height": 277
        },
        "id": "MODfQGm8gM7D",
        "outputId": "4051392a-9dc4-4eb1-d492-d1e70bfc5acc"
      },
      "source": [
        "# Plot the three variables along with the prediction given by the MLR\n",
        "asset1.plot(label = 'DG')\n",
        "asset2.plot(label = 'FISV')\n",
        "benchmark.plot(label = 'SPY')\n",
        "prediction.plot(color='y')\n",
        "plt.xlabel('Price')\n",
        "plt.legend(bbox_to_anchor=(1,1), loc=2);"
      ],
      "execution_count": 26,
      "outputs": [
        {
          "output_type": "display_data",
          "data": {
            "image/png": "[encoded data removed]",
            "text/plain": [
              "<Figure size 432x288 with 1 Axes>"
            ]
          },
          "metadata": {
            "needs_background": "light"
          }
        }
      ]
    },
    {
      "cell_type": "code",
      "metadata": {
        "colab": {
          "base_uri": "https://localhost:8080/",
          "height": 277
        },
        "id": "94tLjutxgPY9",
        "outputId": "3b8c914f-aa73-4d21-edd3-8a9ad18a9cd9"
      },
      "source": [
        "# Plot only the dependent variable and the prediction to get a closer look\n",
        "asset1.plot()\n",
        "prediction.plot(color='y')\n",
        "plt.xlabel('Price')\n",
        "plt.legend();"
      ],
      "execution_count": 27,
      "outputs": [
        {
          "output_type": "display_data",
          "data": {
            "image/png": "[encoded data removed]",
            "text/plain": [
              "<Figure size 432x288 with 1 Axes>"
            ]
          },
          "metadata": {
            "needs_background": "light"
          }
        }
      ]
    },
    {
      "cell_type": "markdown",
      "metadata": {
        "id": "eb97br8Kg1-l"
      },
      "source": [
        "# **Evaluation**\n",
        "We can get some statistics about the fit from the result returned by the regression:"
      ]
    },
    {
      "cell_type": "code",
      "metadata": {
        "colab": {
          "base_uri": "https://localhost:8080/",
          "height": 508
        },
        "id": "BfTaFlvrg9CT",
        "outputId": "f9f214e6-6aa0-4f65-ea05-d0955ef0fae2"
      },
      "source": [
        "mlr.summary()"
      ],
      "execution_count": 28,
      "outputs": [
        {
          "output_type": "execute_result",
          "data": {
            "text/html": [
              "<table class=\"simpletable\">\n",
              "<caption>OLS Regression Results</caption>\n",
              "<tr>\n",
              "  <th>Dep. Variable:</th>          <td>Close</td>      <th>  R-squared:         </th> <td>   0.697</td>\n",
              "</tr>\n",
              "<tr>\n",
              "  <th>Model:</th>                   <td>OLS</td>       <th>  Adj. R-squared:    </th> <td>   0.694</td>\n",
              "</tr>\n",
              "<tr>\n",
              "  <th>Method:</th>             <td>Least Squares</td>  <th>  F-statistic:       </th> <td>   286.2</td>\n",
              "</tr>\n",
              "<tr>\n",
              "  <th>Date:</th>             <td>Thu, 21 Oct 2021</td> <th>  Prob (F-statistic):</th> <td>2.93e-65</td>\n",
              "</tr>\n",
              "<tr>\n",
              "  <th>Time:</th>                 <td>11:02:03</td>     <th>  Log-Likelihood:    </th> <td> -571.56</td>\n",
              "</tr>\n",
              "<tr>\n",
              "  <th>No. Observations:</th>      <td>   252</td>      <th>  AIC:               </th> <td>   1149.</td>\n",
              "</tr>\n",
              "<tr>\n",
              "  <th>Df Residuals:</th>          <td>   249</td>      <th>  BIC:               </th> <td>   1160.</td>\n",
              "</tr>\n",
              "<tr>\n",
              "  <th>Df Model:</th>              <td>     2</td>      <th>                     </th>     <td> </td>   \n",
              "</tr>\n",
              "<tr>\n",
              "  <th>Covariance Type:</th>      <td>nonrobust</td>    <th>                     </th>     <td> </td>   \n",
              "</tr>\n",
              "</table>\n",
              "<table class=\"simpletable\">\n",
              "<tr>\n",
              "    <td></td>       <th>coef</th>     <th>std err</th>      <th>t</th>      <th>P>|t|</th>  <th>[0.025</th>    <th>0.975]</th>  \n",
              "</tr>\n",
              "<tr>\n",
              "  <th>const</th> <td>   24.3198</td> <td>    4.995</td> <td>    4.869</td> <td> 0.000</td> <td>   14.483</td> <td>   34.157</td>\n",
              "</tr>\n",
              "<tr>\n",
              "  <th>x1</th>    <td>    1.7904</td> <td>    0.159</td> <td>   11.293</td> <td> 0.000</td> <td>    1.478</td> <td>    2.103</td>\n",
              "</tr>\n",
              "<tr>\n",
              "  <th>x2</th>    <td>   -0.1025</td> <td>    0.047</td> <td>   -2.167</td> <td> 0.031</td> <td>   -0.196</td> <td>   -0.009</td>\n",
              "</tr>\n",
              "</table>\n",
              "<table class=\"simpletable\">\n",
              "<tr>\n",
              "  <th>Omnibus:</th>       <td>10.623</td> <th>  Durbin-Watson:     </th> <td>   0.160</td>\n",
              "</tr>\n",
              "<tr>\n",
              "  <th>Prob(Omnibus):</th> <td> 0.005</td> <th>  Jarque-Bera (JB):  </th> <td>   5.268</td>\n",
              "</tr>\n",
              "<tr>\n",
              "  <th>Skew:</th>          <td>-0.104</td> <th>  Prob(JB):          </th> <td>  0.0718</td>\n",
              "</tr>\n",
              "<tr>\n",
              "  <th>Kurtosis:</th>      <td> 2.323</td> <th>  Cond. No.          </th> <td>6.61e+03</td>\n",
              "</tr>\n",
              "</table><br/><br/>Warnings:<br/>[1] Standard Errors assume that the covariance matrix of the errors is correctly specified.<br/>[2] The condition number is large, 6.61e+03. This might indicate that there are<br/>strong multicollinearity or other numerical problems."
            ],
            "text/plain": [
              "<class 'statsmodels.iolib.summary.Summary'>\n",
              "\"\"\"\n",
              "                            OLS Regression Results                            \n",
              "==============================================================================\n",
              "Dep. Variable:                  Close   R-squared:                       0.697\n",
              "Model:                            OLS   Adj. R-squared:                  0.694\n",
              "Method:                 Least Squares   F-statistic:                     286.2\n",
              "Date:                Thu, 21 Oct 2021   Prob (F-statistic):           2.93e-65\n",
              "Time:                        11:02:03   Log-Likelihood:                -571.56\n",
              "No. Observations:                 252   AIC:                             1149.\n",
              "Df Residuals:                     249   BIC:                             1160.\n",
              "Df Model:                           2                                         \n",
              "Covariance Type:            nonrobust                                         \n",
              "==============================================================================\n",
              "                 coef    std err          t      P>|t|      [0.025      0.975]\n",
              "------------------------------------------------------------------------------\n",
              "const         24.3198      4.995      4.869      0.000      14.483      34.157\n",
              "x1             1.7904      0.159     11.293      0.000       1.478       2.103\n",
              "x2            -0.1025      0.047     -2.167      0.031      -0.196      -0.009\n",
              "==============================================================================\n",
              "Omnibus:                       10.623   Durbin-Watson:                   0.160\n",
              "Prob(Omnibus):                  0.005   Jarque-Bera (JB):                5.268\n",
              "Skew:                          -0.104   Prob(JB):                       0.0718\n",
              "Kurtosis:                       2.323   Cond. No.                     6.61e+03\n",
              "==============================================================================\n",
              "\n",
              "Warnings:\n",
              "[1] Standard Errors assume that the covariance matrix of the errors is correctly specified.\n",
              "[2] The condition number is large, 6.61e+03. This might indicate that there are\n",
              "strong multicollinearity or other numerical problems.\n",
              "\"\"\""
            ]
          },
          "metadata": {},
          "execution_count": 28
        }
      ]
    },
    {
      "cell_type": "markdown",
      "metadata": {
        "id": "5u6UNdZHg_iE"
      },
      "source": [
        "# **Model Assumptions**\n",
        "The validity of these statistics depends on whether or not the assumptions of the linear regression model are satisfied. These are:\n",
        "\n",
        " - The independent variable is not random.\n",
        " - The variance of the error term is constant across observations. This is important for evaluating the goodness of the fit.\n",
        " - The errors are not autocorrelated. The Durbin-Watson statistic reported by the regression detects this. If it is close to $2$, there is no autocorrelation.\n",
        " - The errors are normally distributed. If this does not hold, we cannot use some of the statistics, such as the F-test.\n",
        "\n",
        "Multiple linear regression also requires an additional assumption:\n",
        "\n",
        " - There is no exact linear relationship between the independent variables. Otherwise, it is impossible to solve for the coefficients $\\beta_i$ uniquely, since the same linear equation can be expressed in multiple ways.\n",
        " \n",
        "If there is a linear relationship between any set of independent variables, also known as covariance, we say that they are linear combinations of each other. In the case where they are dependent on each other in this manner, the values of our $\\beta_i$ coefficients will be inaccurate for a given $X_i$. The intuition for this can be found in an exteme example where $X_1$ and $X_2$ are 100% covarying. In that case then linear regression can equivalently assign the total coefficient sum in any combination without affecting the predictive capability.\n",
        "$$ 1X_1 + 0X_2 = 0.5X_1 + 0.5X_2 = 0X_1 + 1X_2 $$\n",
        "\n",
        "While our coefficients may be nondescriptive, the ultimate model may still be accurate provided that there is a good overall fit between the independent variables and the dependent variables. The best practice for constructing a model where dependence is a problem is to leave out the less descriptive variables that are correlated with the better ones. This improves the model by reducing the chances of overfitting while bringing the $\\beta_i$ estimates closer to their true values.\n",
        "\n",
        "If we confirm that the necessary assumptions of the regression model are satisfied, we can safely use the statistics reported to analyze the fit. For example, the $R^2$ value tells us the fraction of the total variation of $Y$ that is explained by the model. When doing multiple linear regression, however, we prefer to use adjusted $R^2$, which corrects for the small increases in $R^2$ that occur when we add more regression variables to the model, even if they are not significantly correlated with the dependent variable. Adjusted $R^2$ is defined as\n",
        "$$ 1 - (1 - R^2)\\frac{n-1}{n-k-1} $$\n",
        "\n",
        "Where $n$ is the number of observations and $k$ is the number of independent variables in the model. Other useful statistics include the F-statistic and the standard error of estimate."
      ]
    },
    {
      "cell_type": "markdown",
      "metadata": {
        "id": "5r4nLCHNhSwL"
      },
      "source": [
        "# **Model Selection Example**\n",
        "When deciding on the best possible model of your dependent variables, there are several different methods to turn to. If you use too many explanatory variables, you run the risk of overfitting your model, but if you use too few you may end up with a terrible fit. One of the most prominent methods to decide on a best model is stepwise regression. Forward stepwise regression starts from an empty model and tests each individual variable, selecting the one that results in the best model quality, usually measured with AIC or BIC (lowest is best). It then adds the remaining variables one at a time, testing each subsequent combination of explanatory variables in a regression and calculating the AIC or BIC value at each step. At the end of the regression, the model with the best quality (according to the given measure) is selected and presented as a the final, best model. This does have limitations, however. It does not test every single possible combination of variables so it may miss the theoretical best model if a particular variable was written off earlier in performing the algorithm. As such, stepwise regression should be used in combination with your best judgment regarding the model."
      ]
    },
    {
      "cell_type": "code",
      "metadata": {
        "colab": {
          "base_uri": "https://localhost:8080/",
          "height": 265
        },
        "id": "UU9ZYO_MhYWj",
        "outputId": "3cf72219-6b73-424e-d9c7-e15e0c9f0971"
      },
      "source": [
        "X1 = np.arange(100)\n",
        "X2 = [i**2 for i in range(100)] - X1\n",
        "X3 = [np.log(i) for i in range(1, 101)] + X2\n",
        "X4 = 5 * X1\n",
        "Y = 2 * X1 + 0.5 * X2 + 10 * X3 + X4\n",
        "\n",
        "plt.plot(X1, label='X1')\n",
        "plt.plot(X2, label='X2')\n",
        "plt.plot(X3, label='X3')\n",
        "plt.plot(X4, label='X4')\n",
        "plt.plot(Y, label='Y')\n",
        "plt.legend();"
      ],
      "execution_count": 29,
      "outputs": [
        {
          "output_type": "display_data",
          "data": {
            "image/png": "[encoded data removed]",
            "text/plain": [
              "<Figure size 432x288 with 1 Axes>"
            ]
          },
          "metadata": {
            "needs_background": "light"
          }
        }
      ]
    },
    {
      "cell_type": "code",
      "metadata": {
        "colab": {
          "base_uri": "https://localhost:8080/"
        },
        "id": "5GFapN77hbj_",
        "outputId": "928d4431-5b7d-4d7c-bad6-3a87dcc197ac"
      },
      "source": [
        "results = regression.linear_model.OLS(Y, sm.add_constant(np.column_stack((X1,X2,X3,X4)))).fit()\n",
        "\n",
        "print(f'Beta_0:  {results.params[0]}')\n",
        "print(f'Beta_1:  {results.params[1]}')\n",
        "print(f'Beta_2:  {results.params[2]}')\n",
        "print(f'Beta_3:  {results.params[3]}')\n",
        "print(f'Beta_4:  {results.params[4]}')"
      ],
      "execution_count": 30,
      "outputs": [
        {
          "output_type": "stream",
          "name": "stdout",
          "text": [
            "Beta_0:  -4.547473508864641e-13\n",
            "Beta_1:  0.2692307692305649\n",
            "Beta_2:  0.5000000000045475\n",
            "Beta_3:  9.999999999995907\n",
            "Beta_4:  1.3461538461538538\n"
          ]
        }
      ]
    },
    {
      "cell_type": "code",
      "metadata": {
        "id": "yTxEtfPfhtoc"
      },
      "source": [
        "data = pd.DataFrame(np.column_stack((X1,X2,X3,X4)), columns = ['X1','X2','X3','X4'])\n",
        "response = pd.Series(Y, name='Y')"
      ],
      "execution_count": 31,
      "outputs": []
    },
    {
      "cell_type": "code",
      "metadata": {
        "id": "kSYOntaNhwE8"
      },
      "source": [
        "def forward_aic(response, data):\n",
        "    # This function will work with pandas dataframes and series\n",
        "    \n",
        "    # Initialize some variables\n",
        "    explanatory = list(data.columns)\n",
        "    selected = pd.Series(np.ones(data.shape[0]), name=\"Intercept\")\n",
        "    current_score, best_new_score = np.inf, np.inf\n",
        "    \n",
        "    # Loop while we haven't found a better model\n",
        "    while current_score == best_new_score and len(explanatory) != 0:\n",
        "        \n",
        "        scores_with_elements = []\n",
        "        count = 0\n",
        "        \n",
        "        # For each explanatory variable\n",
        "        for element in explanatory:\n",
        "            # Make a set of explanatory variables including our current best and the new one\n",
        "            tmp = pd.concat([selected, data[element]], axis=1)\n",
        "            # Test the set\n",
        "            result = regression.linear_model.OLS(Y, tmp).fit()\n",
        "            score = result.aic\n",
        "            scores_with_elements.append((score, element, count))\n",
        "            count += 1\n",
        "        \n",
        "        # Sort the scoring list\n",
        "        scores_with_elements.sort(reverse = True)\n",
        "        # Get the best new variable\n",
        "        best_new_score, best_element, index = scores_with_elements.pop()\n",
        "        if current_score > best_new_score:\n",
        "            # If it's better than the best add it to the set\n",
        "            explanatory.pop(index)\n",
        "            selected = pd.concat([selected, data[best_element]],axis=1)\n",
        "            current_score = best_new_score\n",
        "    # Return the final model\n",
        "    model = regression.linear_model.OLS(Y, selected).fit()\n",
        "    return model"
      ],
      "execution_count": 32,
      "outputs": []
    },
    {
      "cell_type": "code",
      "metadata": {
        "colab": {
          "base_uri": "https://localhost:8080/",
          "height": 551
        },
        "id": "LB3d1MCThy0c",
        "outputId": "73f3f47e-fc02-4bf2-b017-7efbbe4f584a"
      },
      "source": [
        "result = forward_aic(Y, data)\n",
        "result.summary()"
      ],
      "execution_count": 33,
      "outputs": [
        {
          "output_type": "execute_result",
          "data": {
            "text/html": [
              "<table class=\"simpletable\">\n",
              "<caption>OLS Regression Results</caption>\n",
              "<tr>\n",
              "  <th>Dep. Variable:</th>            <td>y</td>        <th>  R-squared:         </th> <td>   1.000</td> \n",
              "</tr>\n",
              "<tr>\n",
              "  <th>Model:</th>                   <td>OLS</td>       <th>  Adj. R-squared:    </th> <td>   1.000</td> \n",
              "</tr>\n",
              "<tr>\n",
              "  <th>Method:</th>             <td>Least Squares</td>  <th>  F-statistic:       </th> <td>8.215e+31</td>\n",
              "</tr>\n",
              "<tr>\n",
              "  <th>Date:</th>             <td>Thu, 21 Oct 2021</td> <th>  Prob (F-statistic):</th>  <td>  0.00</td>  \n",
              "</tr>\n",
              "<tr>\n",
              "  <th>Time:</th>                 <td>11:05:41</td>     <th>  Log-Likelihood:    </th> <td>  2325.2</td> \n",
              "</tr>\n",
              "<tr>\n",
              "  <th>No. Observations:</th>      <td>   100</td>      <th>  AIC:               </th> <td>  -4642.</td> \n",
              "</tr>\n",
              "<tr>\n",
              "  <th>Df Residuals:</th>          <td>    96</td>      <th>  BIC:               </th> <td>  -4632.</td> \n",
              "</tr>\n",
              "<tr>\n",
              "  <th>Df Model:</th>              <td>     3</td>      <th>                     </th>     <td> </td>    \n",
              "</tr>\n",
              "<tr>\n",
              "  <th>Covariance Type:</th>      <td>nonrobust</td>    <th>                     </th>     <td> </td>    \n",
              "</tr>\n",
              "</table>\n",
              "<table class=\"simpletable\">\n",
              "<tr>\n",
              "      <td></td>         <th>coef</th>     <th>std err</th>      <th>t</th>      <th>P>|t|</th>  <th>[0.025</th>    <th>0.975]</th>  \n",
              "</tr>\n",
              "<tr>\n",
              "  <th>Intercept</th> <td> 2.569e-11</td> <td> 1.36e-11</td> <td>    1.889</td> <td> 0.062</td> <td>-1.31e-12</td> <td> 5.27e-11</td>\n",
              "</tr>\n",
              "<tr>\n",
              "  <th>X3</th>        <td>   10.0000</td> <td> 8.23e-12</td> <td> 1.22e+12</td> <td> 0.000</td> <td>   10.000</td> <td>   10.000</td>\n",
              "</tr>\n",
              "<tr>\n",
              "  <th>X4</th>        <td>    1.3462</td> <td> 1.26e-13</td> <td> 1.07e+13</td> <td> 0.000</td> <td>    1.346</td> <td>    1.346</td>\n",
              "</tr>\n",
              "<tr>\n",
              "  <th>X2</th>        <td>    0.5000</td> <td> 8.22e-12</td> <td> 6.08e+10</td> <td> 0.000</td> <td>    0.500</td> <td>    0.500</td>\n",
              "</tr>\n",
              "<tr>\n",
              "  <th>X1</th>        <td>    0.2692</td> <td> 2.51e-14</td> <td> 1.07e+13</td> <td> 0.000</td> <td>    0.269</td> <td>    0.269</td>\n",
              "</tr>\n",
              "</table>\n",
              "<table class=\"simpletable\">\n",
              "<tr>\n",
              "  <th>Omnibus:</th>       <td> 7.365</td> <th>  Durbin-Watson:     </th> <td>   0.160</td>\n",
              "</tr>\n",
              "<tr>\n",
              "  <th>Prob(Omnibus):</th> <td> 0.025</td> <th>  Jarque-Bera (JB):  </th> <td>   6.777</td>\n",
              "</tr>\n",
              "<tr>\n",
              "  <th>Skew:</th>          <td> 0.567</td> <th>  Prob(JB):          </th> <td>  0.0338</td>\n",
              "</tr>\n",
              "<tr>\n",
              "  <th>Kurtosis:</th>      <td> 2.418</td> <th>  Cond. No.          </th> <td>4.85e+17</td>\n",
              "</tr>\n",
              "</table><br/><br/>Warnings:<br/>[1] Standard Errors assume that the covariance matrix of the errors is correctly specified.<br/>[2] The smallest eigenvalue is 1.62e-26. This might indicate that there are<br/>strong multicollinearity problems or that the design matrix is singular."
            ],
            "text/plain": [
              "<class 'statsmodels.iolib.summary.Summary'>\n",
              "\"\"\"\n",
              "                            OLS Regression Results                            \n",
              "==============================================================================\n",
              "Dep. Variable:                      y   R-squared:                       1.000\n",
              "Model:                            OLS   Adj. R-squared:                  1.000\n",
              "Method:                 Least Squares   F-statistic:                 8.215e+31\n",
              "Date:                Thu, 21 Oct 2021   Prob (F-statistic):               0.00\n",
              "Time:                        11:05:41   Log-Likelihood:                 2325.2\n",
              "No. Observations:                 100   AIC:                            -4642.\n",
              "Df Residuals:                      96   BIC:                            -4632.\n",
              "Df Model:                           3                                         \n",
              "Covariance Type:            nonrobust                                         \n",
              "==============================================================================\n",
              "                 coef    std err          t      P>|t|      [0.025      0.975]\n",
              "------------------------------------------------------------------------------\n",
              "Intercept   2.569e-11   1.36e-11      1.889      0.062   -1.31e-12    5.27e-11\n",
              "X3            10.0000   8.23e-12   1.22e+12      0.000      10.000      10.000\n",
              "X4             1.3462   1.26e-13   1.07e+13      0.000       1.346       1.346\n",
              "X2             0.5000   8.22e-12   6.08e+10      0.000       0.500       0.500\n",
              "X1             0.2692   2.51e-14   1.07e+13      0.000       0.269       0.269\n",
              "==============================================================================\n",
              "Omnibus:                        7.365   Durbin-Watson:                   0.160\n",
              "Prob(Omnibus):                  0.025   Jarque-Bera (JB):                6.777\n",
              "Skew:                           0.567   Prob(JB):                       0.0338\n",
              "Kurtosis:                       2.418   Cond. No.                     4.85e+17\n",
              "==============================================================================\n",
              "\n",
              "Warnings:\n",
              "[1] Standard Errors assume that the covariance matrix of the errors is correctly specified.\n",
              "[2] The smallest eigenvalue is 1.62e-26. This might indicate that there are\n",
              "strong multicollinearity problems or that the design matrix is singular.\n",
              "\"\"\""
            ]
          },
          "metadata": {},
          "execution_count": 33
        }
      ]
    },
    {
      "cell_type": "markdown",
      "metadata": {
        "id": "4uEMlppvh0wL"
      },
      "source": [
        "\n",
        "\n",
        "In the construction of this model, the $X_4$ term is highly closely related to the $X_1$ term, simply multiplying it by a scalar. However, stepwise regression did not catch this and remove the variable and simply adjust the coefficient of the $X_1$ term. Our own judgment would say to leave the $X_4$ term out of the model, showing the limitations of stepwise regression.\n",
        "\n",
        "There are other ways to diagnose the health of a model and individual variables with varying degrees of penalty given to more complex models. This will be covered in-depth in a model selection notebook.\n"
      ]
    }
  ]
}