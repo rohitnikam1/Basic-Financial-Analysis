{
  "nbformat": 4,
  "nbformat_minor": 0,
  "metadata": {
    "colab": {
      "name": "6_Linear_Regression.ipynb",
      "provenance": [],
      "collapsed_sections": [],
      "authorship_tag": "ABX9TyN9G9Xtq7F72+LxKZL1YwxV",
      "include_colab_link": true
    },
    "kernelspec": {
      "name": "python3",
      "display_name": "Python 3"
    },
    "language_info": {
      "name": "python"
    }
  },
  "cells": [
    {
      "cell_type": "markdown",
      "metadata": {
        "id": "view-in-github",
        "colab_type": "text"
      },
      "source": [
        "<a href=\"https://colab.research.google.com/github/rohitnikam1/Basic_Financial_Analysis/blob/master/6_Linear_Regression.ipynb\" target=\"_parent\"><img src=\"https://colab.research.google.com/assets/colab-badge.svg\" alt=\"Open In Colab\"/></a>"
      ]
    },
    {
      "cell_type": "markdown",
      "metadata": {
        "id": "4somWcz6wI9s"
      },
      "source": [
        "# **Linear Regression**\n",
        "Linear regression is a technique that measures the relationship between two variables. If we have an independent variable $X$, and a dependent outcome variable $Y$, linear regression allows us to determine which linear model $Y = \\alpha + \\beta X$ best explains the data. As an example, let's consider TSLA and SPY. We would like to know how TSLA varies as a function of how SPY varies, so we will take the daily returns of each and regress them against each other.\n",
        "\n",
        "Python's **`statsmodels`** library has a built-in linear fit function. Note that this will give a line of best fit; whether or not the relationship it shows is significant is for you to determine. The output will also have some statistics about the model, such as R-squared and the F value, which may help you quantify how good the fit actually is."
      ]
    },
    {
      "cell_type": "code",
      "metadata": {
        "colab": {
          "base_uri": "https://localhost:8080/"
        },
        "id": "jrVnoEoqwe69",
        "outputId": "8e7801f0-609d-4cc3-dc7a-a61f228a10e6"
      },
      "source": [
        "# Import libraries\n",
        "import numpy as np\n",
        "from statsmodels import regression\n",
        "import statsmodels.api as sm\n",
        "import matplotlib.pyplot as plt\n",
        "import math"
      ],
      "execution_count": 1,
      "outputs": [
        {
          "output_type": "stream",
          "name": "stderr",
          "text": [
            "/usr/local/lib/python3.7/dist-packages/statsmodels/tools/_testing.py:19: FutureWarning: pandas.util.testing is deprecated. Use the functions in the public API at pandas.testing instead.\n",
            "  import pandas.util.testing as tm\n"
          ]
        }
      ]
    },
    {
      "cell_type": "markdown",
      "metadata": {
        "id": "eCayb4iAxXY6"
      },
      "source": [
        "First we'll define a function that performs linear regression and plots the results."
      ]
    },
    {
      "cell_type": "code",
      "metadata": {
        "id": "aWoPbYtqxaiH"
      },
      "source": [
        "def linreg(X,Y):\n",
        "    # Running the linear regression\n",
        "    X = sm.add_constant(X)\n",
        "    model = regression.linear_model.OLS(Y, X).fit()\n",
        "    a = model.params[0]\n",
        "    b = model.params[1]\n",
        "    X = X[:, 1]\n",
        "\n",
        "    # Return summary of the regression and plot results\n",
        "    X2 = np.linspace(X.min(), X.max(), 100)\n",
        "    Y_hat = X2 * b + a\n",
        "    plt.scatter(X, Y, alpha=0.3) # Plot the raw data\n",
        "    plt.plot(X2, Y_hat, 'r', alpha=0.9);  # Add the regression line, colored in red\n",
        "    plt.xlabel('X Value')\n",
        "    plt.ylabel('Y Value')\n",
        "    \n",
        "    return model.summary()"
      ],
      "execution_count": 2,
      "outputs": []
    },
    {
      "cell_type": "markdown",
      "metadata": {
        "id": "pmKHiFdjzDg-"
      },
      "source": [
        "Now we'll get pricing data on TSLA and SPY and perform a regression."
      ]
    },
    {
      "cell_type": "code",
      "metadata": {
        "colab": {
          "base_uri": "https://localhost:8080/"
        },
        "id": "5QVq7M6Jzxu6",
        "outputId": "39dfb387-0ba5-4f80-e2ff-ca2bcaab7078"
      },
      "source": [
        "!pip install yfinance"
      ],
      "execution_count": null,
      "outputs": [
        {
          "output_type": "stream",
          "name": "stdout",
          "text": [
            "Collecting yfinance\n",
            "  Downloading yfinance-0.1.63.tar.gz (26 kB)\n",
            "Requirement already satisfied: pandas>=0.24 in /usr/local/lib/python3.7/dist-packages (from yfinance) (1.1.5)\n",
            "Requirement already satisfied: numpy>=1.15 in /usr/local/lib/python3.7/dist-packages (from yfinance) (1.19.5)\n",
            "Requirement already satisfied: requests>=2.20 in /usr/local/lib/python3.7/dist-packages (from yfinance) (2.23.0)\n",
            "Requirement already satisfied: multitasking>=0.0.7 in /usr/local/lib/python3.7/dist-packages (from yfinance) (0.0.9)\n",
            "Collecting lxml>=4.5.1\n",
            "  Downloading lxml-4.6.3-cp37-cp37m-manylinux2014_x86_64.whl (6.3 MB)\n",
            "\u001b[K     |████████████████████████████████| 6.3 MB 7.6 MB/s \n",
            "\u001b[?25hRequirement already satisfied: pytz>=2017.2 in /usr/local/lib/python3.7/dist-packages (from pandas>=0.24->yfinance) (2018.9)\n",
            "Requirement already satisfied: python-dateutil>=2.7.3 in /usr/local/lib/python3.7/dist-packages (from pandas>=0.24->yfinance) (2.8.2)\n",
            "Requirement already satisfied: six>=1.5 in /usr/local/lib/python3.7/dist-packages (from python-dateutil>=2.7.3->pandas>=0.24->yfinance) (1.15.0)\n",
            "Requirement already satisfied: certifi>=2017.4.17 in /usr/local/lib/python3.7/dist-packages (from requests>=2.20->yfinance) (2021.5.30)\n",
            "Requirement already satisfied: idna<3,>=2.5 in /usr/local/lib/python3.7/dist-packages (from requests>=2.20->yfinance) (2.10)\n",
            "Requirement already satisfied: chardet<4,>=3.0.2 in /usr/local/lib/python3.7/dist-packages (from requests>=2.20->yfinance) (3.0.4)\n",
            "Requirement already satisfied: urllib3!=1.25.0,!=1.25.1,<1.26,>=1.21.1 in /usr/local/lib/python3.7/dist-packages (from requests>=2.20->yfinance) (1.24.3)\n",
            "Building wheels for collected packages: yfinance\n",
            "  Building wheel for yfinance (setup.py) ... \u001b[?25l\u001b[?25hdone\n",
            "  Created wheel for yfinance: filename=yfinance-0.1.63-py2.py3-none-any.whl size=23918 sha256=7a88a1bf169d5dd1f8a91dc721201851cd860f168361993a881629e6b4bbf549\n",
            "  Stored in directory: /root/.cache/pip/wheels/fe/87/8b/7ec24486e001d3926537f5f7801f57a74d181be25b11157983\n",
            "Successfully built yfinance\n",
            "Installing collected packages: lxml, yfinance\n",
            "  Attempting uninstall: lxml\n",
            "    Found existing installation: lxml 4.2.6\n",
            "    Uninstalling lxml-4.2.6:\n",
            "      Successfully uninstalled lxml-4.2.6\n",
            "Successfully installed lxml-4.6.3 yfinance-0.1.63\n"
          ]
        }
      ]
    },
    {
      "cell_type": "code",
      "metadata": {
        "id": "dC4AQf8vz5EX"
      },
      "source": [
        "import yfinance as yf\n",
        "from pandas_datareader import data as pdr\n",
        "yf.pdr_override()"
      ],
      "execution_count": 9,
      "outputs": []
    },
    {
      "cell_type": "code",
      "metadata": {
        "id": "KIJONjczzGKk"
      },
      "source": [
        "def get_returns(stocks, start, end):\n",
        "  '''Get stock returns from tickers'''\n",
        "  stockData = pdr.get_data_yahoo(stocks, start=start, end=end)\n",
        "  stockData = stockData['Close']\n",
        "  returns = stockData.pct_change()\n",
        "  return returns[1:]"
      ],
      "execution_count": 15,
      "outputs": []
    },
    {
      "cell_type": "code",
      "metadata": {
        "colab": {
          "base_uri": "https://localhost:8080/",
          "height": 731
        },
        "id": "ws-gu9SVzSjR",
        "outputId": "3378ead1-0363-48d3-fd2c-4e268480ec39"
      },
      "source": [
        "start = '2014-01-01'\n",
        "end   = '2015-01-01'\n",
        "returns = get_returns(['TSLA', 'SPY'], start=start, end=end)\n",
        "\n",
        "linreg(returns['SPY'].values, returns['TSLA'].values)"
      ],
      "execution_count": 18,
      "outputs": [
        {
          "output_type": "stream",
          "name": "stdout",
          "text": [
            "[*********************100%***********************]  2 of 2 completed\n"
          ]
        },
        {
          "output_type": "execute_result",
          "data": {
            "text/html": [
              "<table class=\"simpletable\">\n",
              "<caption>OLS Regression Results</caption>\n",
              "<tr>\n",
              "  <th>Dep. Variable:</th>            <td>y</td>        <th>  R-squared:         </th> <td>   0.206</td>\n",
              "</tr>\n",
              "<tr>\n",
              "  <th>Model:</th>                   <td>OLS</td>       <th>  Adj. R-squared:    </th> <td>   0.203</td>\n",
              "</tr>\n",
              "<tr>\n",
              "  <th>Method:</th>             <td>Least Squares</td>  <th>  F-statistic:       </th> <td>   64.79</td>\n",
              "</tr>\n",
              "<tr>\n",
              "  <th>Date:</th>             <td>Sat, 16 Oct 2021</td> <th>  Prob (F-statistic):</th> <td>3.43e-14</td>\n",
              "</tr>\n",
              "<tr>\n",
              "  <th>Time:</th>                 <td>16:00:12</td>     <th>  Log-Likelihood:    </th> <td>  549.38</td>\n",
              "</tr>\n",
              "<tr>\n",
              "  <th>No. Observations:</th>      <td>   251</td>      <th>  AIC:               </th> <td>  -1095.</td>\n",
              "</tr>\n",
              "<tr>\n",
              "  <th>Df Residuals:</th>          <td>   249</td>      <th>  BIC:               </th> <td>  -1088.</td>\n",
              "</tr>\n",
              "<tr>\n",
              "  <th>Df Model:</th>              <td>     1</td>      <th>                     </th>     <td> </td>   \n",
              "</tr>\n",
              "<tr>\n",
              "  <th>Covariance Type:</th>      <td>nonrobust</td>    <th>                     </th>     <td> </td>   \n",
              "</tr>\n",
              "</table>\n",
              "<table class=\"simpletable\">\n",
              "<tr>\n",
              "    <td></td>       <th>coef</th>     <th>std err</th>      <th>t</th>      <th>P>|t|</th>  <th>[0.025</th>    <th>0.975]</th>  \n",
              "</tr>\n",
              "<tr>\n",
              "  <th>const</th> <td>    0.0011</td> <td>    0.002</td> <td>    0.620</td> <td> 0.536</td> <td>   -0.002</td> <td>    0.004</td>\n",
              "</tr>\n",
              "<tr>\n",
              "  <th>x1</th>    <td>    1.9534</td> <td>    0.243</td> <td>    8.049</td> <td> 0.000</td> <td>    1.475</td> <td>    2.431</td>\n",
              "</tr>\n",
              "</table>\n",
              "<table class=\"simpletable\">\n",
              "<tr>\n",
              "  <th>Omnibus:</th>       <td>64.336</td> <th>  Durbin-Watson:     </th> <td>   2.000</td>\n",
              "</tr>\n",
              "<tr>\n",
              "  <th>Prob(Omnibus):</th> <td> 0.000</td> <th>  Jarque-Bera (JB):  </th> <td> 377.056</td>\n",
              "</tr>\n",
              "<tr>\n",
              "  <th>Skew:</th>          <td> 0.853</td> <th>  Prob(JB):          </th> <td>1.33e-82</td>\n",
              "</tr>\n",
              "<tr>\n",
              "  <th>Kurtosis:</th>      <td> 8.757</td> <th>  Cond. No.          </th> <td>    141.</td>\n",
              "</tr>\n",
              "</table><br/><br/>Warnings:<br/>[1] Standard Errors assume that the covariance matrix of the errors is correctly specified."
            ],
            "text/plain": [
              "<class 'statsmodels.iolib.summary.Summary'>\n",
              "\"\"\"\n",
              "                            OLS Regression Results                            \n",
              "==============================================================================\n",
              "Dep. Variable:                      y   R-squared:                       0.206\n",
              "Model:                            OLS   Adj. R-squared:                  0.203\n",
              "Method:                 Least Squares   F-statistic:                     64.79\n",
              "Date:                Sat, 16 Oct 2021   Prob (F-statistic):           3.43e-14\n",
              "Time:                        16:00:12   Log-Likelihood:                 549.38\n",
              "No. Observations:                 251   AIC:                            -1095.\n",
              "Df Residuals:                     249   BIC:                            -1088.\n",
              "Df Model:                           1                                         \n",
              "Covariance Type:            nonrobust                                         \n",
              "==============================================================================\n",
              "                 coef    std err          t      P>|t|      [0.025      0.975]\n",
              "------------------------------------------------------------------------------\n",
              "const          0.0011      0.002      0.620      0.536      -0.002       0.004\n",
              "x1             1.9534      0.243      8.049      0.000       1.475       2.431\n",
              "==============================================================================\n",
              "Omnibus:                       64.336   Durbin-Watson:                   2.000\n",
              "Prob(Omnibus):                  0.000   Jarque-Bera (JB):              377.056\n",
              "Skew:                           0.853   Prob(JB):                     1.33e-82\n",
              "Kurtosis:                       8.757   Cond. No.                         141.\n",
              "==============================================================================\n",
              "\n",
              "Warnings:\n",
              "[1] Standard Errors assume that the covariance matrix of the errors is correctly specified.\n",
              "\"\"\""
            ]
          },
          "metadata": {},
          "execution_count": 18
        },
        {
          "output_type": "display_data",
          "data": {
            "image/png": "[encoded data removed]",
            "text/plain": [
              "<Figure size 432x288 with 1 Axes>"
            ]
          },
          "metadata": {
            "needs_background": "light"
          }
        }
      ]
    },
    {
      "cell_type": "markdown",
      "metadata": {
        "id": "1xUsQFeQznmz"
      },
      "source": [
        "Each point on the above graph represents a day, with the x-coordinate being the return of SPY, and the y-coordinate being the return of TSLA. As we can see, the line of best fit tells us that for every $1\\%$ increased return we see from the SPY, we should see an extra $1.92\\%$ from TSLA. This is expressed by the parameter $\\beta$, which is $1.9534$ as estimated. Of course, for decreased return we will also see about double the loss in TSLA, so we haven't gained anything, we are just more volatile."
      ]
    },
    {
      "cell_type": "markdown",
      "metadata": {
        "id": "-dCSdGRr0M9i"
      },
      "source": [
        "## **Linear Regression vs. Correlation**\n",
        " - Linear regression gives us a specific linear model, but is limited to cases of linear dependence.\n",
        " - Correlation is general to linear and non-linear dependencies, but doesn't give us an actual model.\n",
        " - Both are measures of covariance.\n",
        " - Linear regression can give us relationship between Y and many independent variables by making X multidimensional.\n",
        "\n",
        "## **Knowing Parameters vs. Estimates**\n",
        "It is very important to keep in mind that all $\\alpha$ and $\\beta$ parameters estimated by linear regression are just that - estimates. You can never know the underlying true parameters unless you know the physical process producing the data. The parameters you estimate today may not be the same analysis done including tomorrow's data, and the underlying true parameters may be moving. As such it is very important when doing actual analysis to pay attention to the standard error of the parameter estimates. One way to get a sense of how stable your parameter estimates are is to estimate them using a rolling window of data and see how much variance there is in the estimates.\n",
        "\n",
        "\n",
        "## **Evaluating and reporting results**\n",
        "The regression model relies on several assumptions:\n",
        "\n",
        " - The independent variable is not random.\n",
        " - The variance of the error term is constant across observations. This is important for evaluating the goodness of the fit.\n",
        " - The errors are not autocorrelated. The Durbin-Watson statistic detects this; if it is close to 2, there is no autocorrelation.\n",
        " - The errors are normally distributed. If this does not hold, we cannot use some of the statistics, such as the F-test.\n",
        "\n",
        "If we confirm that the necessary assumptions of the regression model are satisfied, we can safely use the statistics reported to analyze the fit. For example, the $R^2$ value tells us the fraction of the total variation of $Y$ that is explained by the model.\n",
        "\n",
        "When making a prediction based on the model, it's useful to report not only a single value but a confidence interval. The linear regression reports $95\\%$ confidence intervals for the regression parameters, and we can visualize what this means using the `seaborn` library, which plots the regression line and highlights the $95\\%$ (by default) confidence interval for the regression line:\n"
      ]
    },
    {
      "cell_type": "code",
      "metadata": {
        "colab": {
          "base_uri": "https://localhost:8080/",
          "height": 555
        },
        "id": "81kh3Mgn2Wes",
        "outputId": "af87bff2-1759-458a-b3e6-60723c2680d0"
      },
      "source": [
        "import seaborn\n",
        "\n",
        "_, _ = plt.subplots(figsize=(12,8))\n",
        "seaborn.regplot(returns['SPY'].values, returns['TSLA'].values)"
      ],
      "execution_count": 22,
      "outputs": [
        {
          "output_type": "stream",
          "name": "stderr",
          "text": [
            "/usr/local/lib/python3.7/dist-packages/seaborn/_decorators.py:43: FutureWarning: Pass the following variables as keyword args: x, y. From version 0.12, the only valid positional argument will be `data`, and passing other arguments without an explicit keyword will result in an error or misinterpretation.\n",
            "  FutureWarning\n"
          ]
        },
        {
          "output_type": "execute_result",
          "data": {
            "text/plain": [
              "<matplotlib.axes._subplots.AxesSubplot at 0x7f780fc254d0>"
            ]
          },
          "metadata": {},
          "execution_count": 22
        },
        {
          "output_type": "display_data",
          "data": {
            "image/png": "[encoded data removed]",
            "text/plain": [
              "<Figure size 864x576 with 1 Axes>"
            ]
          },
          "metadata": {
            "needs_background": "light"
          }
        }
      ]
    }
  ]
}