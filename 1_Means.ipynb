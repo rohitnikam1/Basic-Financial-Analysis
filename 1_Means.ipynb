{
  "nbformat": 4,
  "nbformat_minor": 0,
  "metadata": {
    "colab": {
      "name": "1_Means.ipynb",
      "provenance": [],
      "authorship_tag": "ABX9TyMVMLcgZlUgKWudiHq/xbmR",
      "include_colab_link": true
    },
    "kernelspec": {
      "name": "python3",
      "display_name": "Python 3"
    },
    "language_info": {
      "name": "python"
    }
  },
  "cells": [
    {
      "cell_type": "markdown",
      "metadata": {
        "id": "view-in-github",
        "colab_type": "text"
      },
      "source": [
        "<a href=\"https://colab.research.google.com/github/rohitnikam1/Basic-Financial-Analysis/blob/master/1_Means.ipynb\" target=\"_parent\"><img src=\"https://colab.research.google.com/assets/colab-badge.svg\" alt=\"Open In Colab\"/></a>"
      ]
    },
    {
      "cell_type": "markdown",
      "metadata": {
        "id": "gNMPoc-Qw0N1"
      },
      "source": [
        "# Measures of Central Tendency"
      ]
    },
    {
      "cell_type": "markdown",
      "metadata": {
        "id": "5hMbB1BlxArR"
      },
      "source": [
        "In this notebook we will discuss ways to summarize a set of data using a single number. The goal is to capture information about the distribution of data."
      ]
    },
    {
      "cell_type": "markdown",
      "metadata": {
        "id": "BBomeWHBxDPC"
      },
      "source": [
        "## Arithmetic Mean"
      ]
    },
    {
      "cell_type": "markdown",
      "metadata": {
        "id": "RUGcM8TkxFmZ"
      },
      "source": [
        "The arithmetic mean is used very frequently to summarize numerical data, and is usually the one assumed to be meant by the word \"average.\" It is defined as the sum of the observations divided by the number of observations:\n",
        "\n",
        "\\begin{align}\n",
        "\\hat{\\mu} = \\frac{\\sum_i^n X_i}{n}\n",
        "\\end{align}\n",
        "where $X_i$ are sample observations."
      ]
    },
    {
      "cell_type": "code",
      "metadata": {
        "colab": {
          "base_uri": "https://localhost:8080/"
        },
        "id": "t3Hs-JIyRp3Z",
        "outputId": "9cb301dd-a6a2-43a9-a96d-a56c72469ef6"
      },
      "source": [
        "!pip3 install alpha_vantage"
      ],
      "execution_count": 56,
      "outputs": [
        {
          "output_type": "stream",
          "name": "stdout",
          "text": [
            "Collecting alpha_vantage\n",
            "  Downloading alpha_vantage-2.3.1-py3-none-any.whl (31 kB)\n",
            "Requirement already satisfied: requests in /usr/local/lib/python3.7/dist-packages (from alpha_vantage) (2.23.0)\n",
            "Collecting aiohttp\n",
            "  Downloading aiohttp-3.7.4.post0-cp37-cp37m-manylinux2014_x86_64.whl (1.3 MB)\n",
            "\u001b[K     |████████████████████████████████| 1.3 MB 10.3 MB/s \n",
            "\u001b[?25hCollecting yarl<2.0,>=1.0\n",
            "  Downloading yarl-1.7.0-cp37-cp37m-manylinux_2_5_x86_64.manylinux1_x86_64.manylinux_2_12_x86_64.manylinux2010_x86_64.whl (271 kB)\n",
            "\u001b[K     |████████████████████████████████| 271 kB 53.8 MB/s \n",
            "\u001b[?25hCollecting multidict<7.0,>=4.5\n",
            "  Downloading multidict-5.2.0-cp37-cp37m-manylinux_2_5_x86_64.manylinux1_x86_64.manylinux_2_12_x86_64.manylinux2010_x86_64.whl (160 kB)\n",
            "\u001b[K     |████████████████████████████████| 160 kB 72.4 MB/s \n",
            "\u001b[?25hCollecting async-timeout<4.0,>=3.0\n",
            "  Downloading async_timeout-3.0.1-py3-none-any.whl (8.2 kB)\n",
            "Requirement already satisfied: typing-extensions>=3.6.5 in /usr/local/lib/python3.7/dist-packages (from aiohttp->alpha_vantage) (3.7.4.3)\n",
            "Requirement already satisfied: chardet<5.0,>=2.0 in /usr/local/lib/python3.7/dist-packages (from aiohttp->alpha_vantage) (3.0.4)\n",
            "Requirement already satisfied: attrs>=17.3.0 in /usr/local/lib/python3.7/dist-packages (from aiohttp->alpha_vantage) (21.2.0)\n",
            "Requirement already satisfied: idna>=2.0 in /usr/local/lib/python3.7/dist-packages (from yarl<2.0,>=1.0->aiohttp->alpha_vantage) (2.10)\n",
            "Requirement already satisfied: certifi>=2017.4.17 in /usr/local/lib/python3.7/dist-packages (from requests->alpha_vantage) (2021.5.30)\n",
            "Requirement already satisfied: urllib3!=1.25.0,!=1.25.1,<1.26,>=1.21.1 in /usr/local/lib/python3.7/dist-packages (from requests->alpha_vantage) (1.24.3)\n",
            "Installing collected packages: multidict, yarl, async-timeout, aiohttp, alpha-vantage\n",
            "Successfully installed aiohttp-3.7.4.post0 alpha-vantage-2.3.1 async-timeout-3.0.1 multidict-5.2.0 yarl-1.7.0\n"
          ]
        }
      ]
    },
    {
      "cell_type": "code",
      "metadata": {
        "id": "SGjcSHDTRzwn"
      },
      "source": [
        "from alpha_vantage.timeseries import TimeSeries\n",
        "import time\n",
        "api_key = '60PFJXDG66HJDDXJ'"
      ],
      "execution_count": 58,
      "outputs": []
    },
    {
      "cell_type": "code",
      "metadata": {
        "id": "7Ss2Rj8Dw4go"
      },
      "source": [
        "# Two useful statistical libraries\n",
        "import scipy.stats as stats\n",
        "import numpy as np\n",
        "import pandas as pd"
      ],
      "execution_count": null,
      "outputs": []
    },
    {
      "cell_type": "code",
      "metadata": {
        "colab": {
          "base_uri": "https://localhost:8080/"
        },
        "id": "5kYLdR3WxQ7_",
        "outputId": "99c9b6a6-9d28-4d8f-8685-579304e41265"
      },
      "source": [
        "# We'll use these two data sets as examples\n",
        "x1 = [1, 2, 2, 3, 4, 5, 5, 7]\n",
        "x2 = x1 + [100]\n",
        "\n",
        "print(f'Mean of x1: {sum(x1)}/{len(x1)} = {np.mean(x1)}')\n",
        "print(f'Mean of x2: {sum(x2)}/{len(x2)} = {np.mean(x2)}')"
      ],
      "execution_count": null,
      "outputs": [
        {
          "output_type": "stream",
          "name": "stdout",
          "text": [
            "Mean of x1: 29/8 = 3.625\n",
            "Mean of x2: 129/9 = 14.333333333333334\n"
          ]
        }
      ]
    },
    {
      "cell_type": "markdown",
      "metadata": {
        "id": "o9yYmM2ozKrD"
      },
      "source": [
        "We can also define a weighted arithmetic mean, which is useful for explicitly specifying the number of times each observation should be counted. For instance, in computing the average value of a portfolio, it is more convenient to say that 70% of your stocks are of type X rather than making a list of every share you hold.\n",
        "\n",
        "The weighted arithmetic mean is defined as\n",
        "\n",
        "\\begin{align}\n",
        "\\sum_i^n w_i X_i\n",
        "\\end{align}\n",
        "\n",
        "where $\\sum_i^n w_i = 1$. For normal arithmetic mean, $w_i = 1/n \\quad \\forall \\quad i$."
      ]
    },
    {
      "cell_type": "markdown",
      "metadata": {
        "id": "huMBrM5Sz4Zb"
      },
      "source": [
        "## Median"
      ]
    },
    {
      "cell_type": "markdown",
      "metadata": {
        "id": "2ztKrgb0z_r4"
      },
      "source": [
        "The median of a set of data is the number which appears in the middle of the list when it is sorted in increasing or decreasing order. When we have an odd number $n$ of data points, this is simply the value in position $(n+1)/2$. When we have an even number of data points, the list splits in half and there is no item in the middle; so we define the median as the average of the values in positions $n/2$ and $(n+2)/2$.\n",
        "\n",
        "The median is less affected by extreme values in the data than the arithmetic mean. It tells us the value that splits the data set in half, but not how much smaller or larger the other values are."
      ]
    },
    {
      "cell_type": "code",
      "metadata": {
        "colab": {
          "base_uri": "https://localhost:8080/"
        },
        "id": "V2Kfenf9ywQ6",
        "outputId": "3be09d06-d1d5-4861-d2d8-309dc8720c7a"
      },
      "source": [
        "print(f'Median of x1: {np.median(x1)}')\n",
        "print(f'Median of x2: {np.median(x2)}')"
      ],
      "execution_count": null,
      "outputs": [
        {
          "output_type": "stream",
          "name": "stdout",
          "text": [
            "Median of x1: 3.5\n",
            "Median of x2: 4.0\n"
          ]
        }
      ]
    },
    {
      "cell_type": "markdown",
      "metadata": {
        "id": "WdkocvBg0RF7"
      },
      "source": [
        "# Mode"
      ]
    },
    {
      "cell_type": "markdown",
      "metadata": {
        "id": "LZZw8pNK0U7j"
      },
      "source": [
        "The mode is the most frequently occuring value in a data set. It can be applied to non-numerical data, unlike the mean and the median. One situation in which it is useful is for data whose possible values are independent. For example, in the outcomes of a weighted die, coming up 6 often does not mean it is likely to come up 5; so knowing that the data set has a mode of 6 is more useful than knowing it has a mean of 4.5."
      ]
    },
    {
      "cell_type": "code",
      "metadata": {
        "colab": {
          "base_uri": "https://localhost:8080/"
        },
        "id": "wf-zq-fVz-sn",
        "outputId": "b39a9e3b-ae15-4630-fc19-397864b5791f"
      },
      "source": [
        "# Scipy has a built-in mode function, but it will return exactly one value  even if two values occur the same number of times, or if no value appears more than once\n",
        "print(f'One mode of x1: {stats.mode(x1)[0][0]}')\n",
        "\n",
        "# So we will write our own.\n",
        "# We will need the following function which sorts the dictionary by values\n",
        "def sort_dict(d):\n",
        "  keys = sorted(d, reverse=True, key=d.get)\n",
        "  return {key:d[key] for key in keys}\n",
        "\n",
        "from collections import defaultdict\n",
        "\n",
        "def mode(l):\n",
        "  # list l has all elements of the same datatype\n",
        "  t = type(l[0])\n",
        "  d = defaultdict(t)\n",
        "  for item in l:\n",
        "    d[item] += 1\n",
        "  sorted_ = sort_dict(d)\n",
        "  return dict(filter(lambda x: x[1]>1, sorted_.items()))\n",
        "  \n",
        "\n",
        "print(f'All modes of [1,1,5,2,2,6,6,6]: {mode([1,1,5,2,2,6,6,6])}')\n"
      ],
      "execution_count": null,
      "outputs": [
        {
          "output_type": "stream",
          "name": "stdout",
          "text": [
            "One mode of x1: 2\n",
            "All modes of [1,1,5,2,2,6,6,6]: {6: 3, 1: 2, 2: 2}\n"
          ]
        }
      ]
    },
    {
      "cell_type": "markdown",
      "metadata": {
        "id": "txCSsEgg9X_q"
      },
      "source": [
        "For data that can take on many different values, such as returns data, there may not be any values that appear more than once. In this case we can bin values, like we do when constructing a histogram, and then find the mode of the data set where each value is replaced with the name of its bin. That is, we find which bin elements fall into most often."
      ]
    },
    {
      "cell_type": "code",
      "metadata": {
        "id": "3RVxifeXUUO9"
      },
      "source": [
        "ts = TimeSeries(key=api_key, output_format='pandas')\n",
        "data, metadata = ts.get_intraday(symbol='MSFT', interval='1min', outputsize='full')\n",
        "data = data['4. close']\n",
        "returns = data.pct_change()[1:]"
      ],
      "execution_count": 68,
      "outputs": []
    },
    {
      "cell_type": "code",
      "metadata": {
        "colab": {
          "base_uri": "https://localhost:8080/"
        },
        "id": "3SBgF078VEJh",
        "outputId": "f39fed65-8cc4-465b-ddfc-2680376372ba"
      },
      "source": [
        "returns"
      ],
      "execution_count": 69,
      "outputs": [
        {
          "output_type": "execute_result",
          "data": {
            "text/plain": [
              "date\n",
              "2021-10-08 19:55:00   -0.000645\n",
              "2021-10-08 19:54:00    0.000679\n",
              "2021-10-08 19:45:00    0.000000\n",
              "2021-10-08 19:19:00    0.000340\n",
              "2021-10-08 18:36:00    0.000068\n",
              "                         ...   \n",
              "2021-09-27 04:25:00    0.000100\n",
              "2021-09-27 04:11:00    0.000000\n",
              "2021-09-27 04:06:00    0.000534\n",
              "2021-09-27 04:05:00    0.000534\n",
              "2021-09-27 04:02:00    0.001001\n",
              "Name: 4. close, Length: 6252, dtype: float64"
            ]
          },
          "metadata": {},
          "execution_count": 69
        }
      ]
    },
    {
      "cell_type": "code",
      "metadata": {
        "colab": {
          "base_uri": "https://localhost:8080/"
        },
        "id": "B0uZbkPaT2gl",
        "outputId": "c0dfea41-e9e1-427f-826b-32aafb18e2f3"
      },
      "source": [
        "# Since all of the returns are distinct, we use a frequency distribution to get an alternative mode.\n",
        "# np.histogram returns the frequency distribution over the bins as well as the endpoints of the bins\n",
        "count, bins = np.histogram(returns, 20) # separate data in 20 bins. To specify bins use `bins =[]` argument.\n",
        "maxfreq = max(count)\n",
        "# Find all of the bins that are hit with frequency maxfreq, then print the intervals corresponding to them\n",
        "print(f'Mode of bins: {[(bins[i], bins[i+1]) for i,j in enumerate(count) if j == maxfreq]}')"
      ],
      "execution_count": 70,
      "outputs": [
        {
          "output_type": "stream",
          "name": "stdout",
          "text": [
            "Mode of bins: [(-6.92043940563828e-05, 0.0009590641122139698)]\n"
          ]
        }
      ]
    },
    {
      "cell_type": "code",
      "metadata": {
        "colab": {
          "base_uri": "https://localhost:8080/"
        },
        "id": "knMz4Foi1f60",
        "outputId": "f52e4dbf-5f8e-4698-dd09-0328ceed0c0e"
      },
      "source": [
        "series = pd.Series([0.0,950.0,-70.0,812.0,0.0,-90.0,0.0,0.0,-90.0,0.0,-64.0,208.0,0.0,-90.0,0.0,-80.0,0.0,0.0,-80.0,-48.0,840.0,-100.0,190.0,130.0,-100.0,-100.0,0.0,-50.0,0.0,-100.0,-100.0,0.0,-90.0,0.0,-90.0,-90.0,63.0,-90.0,0.0,0.0,-90.0,-80.0,0.0,])\n"
      ],
      "execution_count": null,
      "outputs": [
        {
          "output_type": "stream",
          "name": "stdout",
          "text": [
            "Mode of bins: [(-100.0, -47.5)]\n"
          ]
        }
      ]
    },
    {
      "cell_type": "markdown",
      "metadata": {
        "id": "wmwj-xTiAoQN"
      },
      "source": [
        "# Geometric Mean"
      ]
    },
    {
      "cell_type": "markdown",
      "metadata": {
        "id": "SlcewuBVAw6V"
      },
      "source": [
        "While the arithmetic mean averages using addition, the geometric mean uses multiplication:$$ G = \\sqrt[n]{X_1X_1\\ldots X_n} $$\n",
        "\n",
        "for observations $X_i \\geq 0$. We can also rewrite it as an arithmetic mean using logarithms:$$ \\ln G = \\frac{\\sum_{i=1}^n \\ln X_i}{n} $$\n",
        "\n",
        "**The geometric mean is always less than or equal to the arithmetic mean (when working with nonnegative observations), with equality only when all of the observations are the same**"
      ]
    },
    {
      "cell_type": "code",
      "metadata": {
        "colab": {
          "base_uri": "https://localhost:8080/"
        },
        "id": "9IFfupr89oD-",
        "outputId": "263fc048-6632-475d-c42f-abfa5d0896eb"
      },
      "source": [
        "# Use scipy's gmean function to compute the geometric mean\n",
        "print(f'Geometric mean of x1: {stats.gmean(x1)}')\n",
        "print(f'Geometric mean of x2: {stats.gmean(x2)}')"
      ],
      "execution_count": null,
      "outputs": [
        {
          "output_type": "stream",
          "name": "stdout",
          "text": [
            "Geometric mean of x1: 3.0941040249774403\n",
            "Geometric mean of x2: 4.552534587620071\n"
          ]
        }
      ]
    },
    {
      "cell_type": "markdown",
      "metadata": {
        "id": "X7_uXDKiB7zX"
      },
      "source": [
        "What if we want to compute the geometric mean when we have negative observations? This problem is easy to solve in the case of asset returns, where our values are always at least $-1$. We can add 1 to a return $R_t$ to get $1 + R_t$, which is the ratio of the price of the asset for two consecutive periods (as opposed to the percent change between the prices, $R_t$). This quantity will always be nonnegative. So we can compute the geometric mean return,$$ R_G = \\sqrt[T]{(1 + R_1)\\ldots (1 + R_T)} - 1$$"
      ]
    },
    {
      "cell_type": "code",
      "metadata": {
        "colab": {
          "base_uri": "https://localhost:8080/"
        },
        "id": "TCHwtWXnAvrw",
        "outputId": "328ca8d5-9b65-49fa-8db7-2fd21dde10e3"
      },
      "source": [
        "# Add 1 to every value in the returns array and then compute R_G\n",
        "ratios = returns + 1\n",
        "R_G = stats.gmean(ratios) - 1\n",
        "print(f'Geometric mean of returns: {R_G}')"
      ],
      "execution_count": 71,
      "outputs": [
        {
          "output_type": "stream",
          "name": "stdout",
          "text": [
            "Geometric mean of returns: 2.9433199395523246e-06\n"
          ]
        }
      ]
    },
    {
      "cell_type": "markdown",
      "metadata": {
        "id": "g8GX6bU1WF4z"
      },
      "source": [
        "The geometric mean is defined so that if the rate of return over the whole time period were constant and equal to $R_G$, the final price of the security would be the same as in the case of returns $R_1, \\ldots, R_T$."
      ]
    },
    {
      "cell_type": "code",
      "metadata": {
        "colab": {
          "base_uri": "https://localhost:8080/"
        },
        "id": "M9_EP2CcQ2DO",
        "outputId": "a4b7eb55-e334-4b69-d435-b3538dd32ac8"
      },
      "source": [
        "T = len(returns)\n",
        "init_price = data[0]\n",
        "final_price = data[T]\n",
        "print(f'Initial price: {init_price}')\n",
        "print(f'Final price: {final_price}')\n",
        "print(f'Final price as computed with R_G: {init_price*(1 + R_G)**T}')"
      ],
      "execution_count": 73,
      "outputs": [
        {
          "output_type": "stream",
          "name": "stdout",
          "text": [
            "Initial price: 294.53\n",
            "Final price: 300.0\n",
            "Final price as computed with R_G: 300.0000000001892\n"
          ]
        }
      ]
    },
    {
      "cell_type": "markdown",
      "metadata": {
        "id": "pE2CepDHWyOp"
      },
      "source": [
        "## Harmonic Mean"
      ]
    },
    {
      "cell_type": "markdown",
      "metadata": {
        "id": "qoyVVc3HW3qe"
      },
      "source": [
        "The harmonic mean is less commonly used than the other types of means. It is defined as$$ H = \\frac{n}{\\sum_{i=1}^n \\frac{1}{X_i}} $$\n",
        "\n",
        "As with the geometric mean, we can rewrite the harmonic mean to look like an arithmetic mean. The reciprocal of the harmonic mean is the arithmetic mean of the reciprocals of the observations:$$ \\frac{1}{H} = \\frac{\\sum_{i=1}^n \\frac{1}{X_i}}{n} $$\n",
        "\n",
        "**The harmonic mean for nonnegative numbers $X_i$ is always at most the geometric mean (which is at most the arithmetic mean), and they are equal only when all of the observations are equal.**"
      ]
    },
    {
      "cell_type": "code",
      "metadata": {
        "colab": {
          "base_uri": "https://localhost:8080/"
        },
        "id": "JTwDJ1W0WgT2",
        "outputId": "5961ce57-3781-4302-91fa-344536ff1a73"
      },
      "source": [
        "print(f'Harmonic mean of x1: {stats.hmean(x1)}')\n",
        "print(f'Harmonic mean of x2: {stats.hmean(x2)}')"
      ],
      "execution_count": 75,
      "outputs": [
        {
          "output_type": "stream",
          "name": "stdout",
          "text": [
            "Harmonic mean of x1: 2.5590251332825593\n",
            "Harmonic mean of x2: 2.869723656240511\n"
          ]
        }
      ]
    },
    {
      "cell_type": "markdown",
      "metadata": {
        "id": "VRioSGmfXOSY"
      },
      "source": [
        "The harmonic mean can be used when the data can be naturally phrased in terms of ratios. For instance, in the dollar-cost averaging strategy, a fixed amount is spent on shares of a stock at regular intervals. The higher the price of the stock, then, the fewer shares an investor following this strategy buys. The average (arithmetic mean) amount they pay for the stock is the harmonic mean of the prices."
      ]
    },
    {
      "cell_type": "markdown",
      "metadata": {
        "id": "4dfrW2YEXUg3"
      },
      "source": [
        "# Point Estimates Can Be Deceiving"
      ]
    },
    {
      "cell_type": "markdown",
      "metadata": {
        "id": "A854zNFIXa-N"
      },
      "source": [
        "Means by nature hide a lot of information, as they collapse entire distributions into one number. As a result often 'point estimates' or metrics that use one number, can disguise large programs in your data. You should be careful to ensure that you are not losing key information by summarizing your data, and you should rarely, if ever, use a mean without also referring to a measure of spread."
      ]
    },
    {
      "cell_type": "markdown",
      "metadata": {
        "id": "6cFVFB-2XdF8"
      },
      "source": [
        ""
      ]
    },
    {
      "cell_type": "markdown",
      "metadata": {
        "id": "Og8KGl_6XdNG"
      },
      "source": [
        "## Underlying Distribution Can be Wrong"
      ]
    },
    {
      "cell_type": "markdown",
      "metadata": {
        "id": "khWDFAkgXhay"
      },
      "source": [
        "Even when you are using the right metrics for mean and spread, they can make no sense if your underlying distribution is not what you think it is. For instance, using standard deviation to measure frequency of an event will usually assume normality. Try not to assume distributions unless you have to, in which case you should rigourously check that the data do fit the distribution you are assuming."
      ]
    },
    {
      "cell_type": "markdown",
      "metadata": {
        "id": "Pc7q2BDtXoCq"
      },
      "source": [
        "## References"
      ]
    },
    {
      "cell_type": "markdown",
      "metadata": {
        "id": "ehl8_ER7XqFh"
      },
      "source": [
        "- \"Quantitative Investment Analysis\", by DeFusco, McLeavey, Pinto, and Runkle"
      ]
    }
  ]
}