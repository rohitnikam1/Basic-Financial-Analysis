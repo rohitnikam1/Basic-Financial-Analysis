{
  "nbformat": 4,
  "nbformat_minor": 0,
  "metadata": {
    "colab": {
      "name": "10_Violation_Of_Regression_Models.ipynb",
      "provenance": [],
      "collapsed_sections": [],
      "authorship_tag": "ABX9TyOUbJgcUBfhVpG33FsevCf0",
      "include_colab_link": true
    },
    "kernelspec": {
      "name": "python3",
      "display_name": "Python 3"
    },
    "language_info": {
      "name": "python"
    }
  },
  "cells": [
    {
      "cell_type": "markdown",
      "metadata": {
        "id": "view-in-github",
        "colab_type": "text"
      },
      "source": [
        "<a href=\"https://colab.research.google.com/github/rohitnikam1/Basic_Financial_Analysis/blob/master/10_Violation_Of_Regression_Models.ipynb\" target=\"_parent\"><img src=\"https://colab.research.google.com/assets/colab-badge.svg\" alt=\"Open In Colab\"/></a>"
      ]
    },
    {
      "cell_type": "markdown",
      "metadata": {
        "id": "rIsIvcXFi1Vu"
      },
      "source": [
        "# **Violation of Regression Models**\n",
        "When using a regression to fit a model to our data, the assumptions of regression analysis must be satisfied in order to ensure good parameter estimates and accurate fit statistics. We would like parameters to be:\n",
        "\n",
        " - unbiased (expected value over different samples is the true value)\n",
        " - consistent (converging to the true value with many samples), and\n",
        " - efficient (minimized variance)\n",
        "\n",
        "Below we investigate the ways in which these assumptions can be violated and the effect on the parameters and fit statistics. We'll be using single-variable linear equations for the examples, but the same considerations apply to other models. We'll also assume that our model is correctly specified; that is, that the functional form we chose is valid. We discuss model specification errors along with the assumption violations and other problems that they cause in another notebook.\n",
        "# **Focus on the Residuals**\n",
        "Rather than focusing on your model construction, it is possible to gain a huge amount of information from your residuals (errors). Your model may be incredibly complex and impossible to analyze, but as long as you have predictions and observed values, you can compute residuals. Once you have your residuals you can perform many statistical tests.\n",
        "\n",
        "If your residuals do not follow a given distribution (usually normal, but depends on your model), then you know that something is wrong and you should be concerned with the accuracy of your predictions.\n",
        "# **Residuals not normally-distributed**\n",
        "If the error term is not normally distributed, then our tests of statistical significance will be off. Fortunately, the central limit theorem tells us that, for large enough data samples, the coefficient distributions will be close to normal even if the errors are not. Therefore our analysis will still be valid for large data datasets.\n",
        "## **Testing for normality**\n",
        "A good test for normality is the Jarque-Bera test. It has a python implementation at statsmodels.stats.stattools.jarque_bera , we will use it frequently in this notebook.\n",
        "### **Always test for normality!**\n",
        "It's incredibly easy and can save a ton of time."
      ]
    },
    {
      "cell_type": "code",
      "metadata": {
        "colab": {
          "base_uri": "https://localhost:8080/"
        },
        "id": "BLH-drJGjzor",
        "outputId": "8a3dc97f-9a52-4f9f-b433-4d46b8b951f0"
      },
      "source": [
        "# Import all the libraries we'll be using\n",
        "import numpy as np\n",
        "import statsmodels.api as sm\n",
        "from statsmodels import regression, stats\n",
        "import statsmodels\n",
        "import matplotlib.pyplot as plt"
      ],
      "execution_count": 4,
      "outputs": [
        {
          "output_type": "stream",
          "name": "stderr",
          "text": [
            "/usr/local/lib/python3.7/dist-packages/statsmodels/tools/_testing.py:19: FutureWarning: pandas.util.testing is deprecated. Use the functions in the public API at pandas.testing instead.\n",
            "  import pandas.util.testing as tm\n"
          ]
        }
      ]
    },
    {
      "cell_type": "code",
      "metadata": {
        "colab": {
          "base_uri": "https://localhost:8080/"
        },
        "id": "pQj3E44Vj5cY",
        "outputId": "003fa9df-32bd-4ba1-9557-39d7a7b4d210"
      },
      "source": [
        "residuals = np.random.normal(0, 1, 100)\n",
        "\n",
        "_, pvalue, _, _ = statsmodels.stats.stattools.jarque_bera(residuals)\n",
        "print(pvalue)\n",
        "\n",
        "residuals = np.random.poisson(size = 100)\n",
        "\n",
        "_, pvalue, _, _ = statsmodels.stats.stattools.jarque_bera(residuals)\n",
        "print(pvalue)"
      ],
      "execution_count": 6,
      "outputs": [
        {
          "output_type": "stream",
          "name": "stdout",
          "text": [
            "0.4360225120647493\n",
            "0.00035909865926501673\n"
          ]
        }
      ]
    },
    {
      "cell_type": "markdown",
      "metadata": {
        "id": "zXZyE0Suj3jh"
      },
      "source": [
        "\n",
        "# **Heteroskedasticity**\n",
        "Heteroskedasticity means that the variance of the error terms is not constant across observations. Intuitively, this means that the observations are not uniformly distributed along the regression line. It often occurs in cross-sectional data where the differences in the samples we are measuring lead to differences in the variance.\n"
      ]
    },
    {
      "cell_type": "code",
      "metadata": {
        "colab": {
          "base_uri": "https://localhost:8080/",
          "height": 295
        },
        "id": "Se2YG0ZKkHSJ",
        "outputId": "4c33d253-ce44-4b65-ebf5-b38f5d917ba3"
      },
      "source": [
        "# Artificially create dataset with constant variance around a line\n",
        "xs = np.arange(100)\n",
        "y1 = xs + 3*np.random.randn(100)\n",
        "\n",
        "# Get results of linear regression\n",
        "slr1 = regression.linear_model.OLS(y1, sm.add_constant(xs)).fit()\n",
        "\n",
        "# Construct the fit line\n",
        "fit1 = slr1.params[0] + slr1.params[1]*xs\n",
        "\n",
        "# Plot data and regression line\n",
        "plt.scatter(xs, y1, s = 10)\n",
        "plt.plot(xs, fit1)\n",
        "plt.title('Homoskedastic errors');\n",
        "plt.legend(['Predicted', 'Observed'])\n",
        "plt.xlabel('X')\n",
        "plt.ylabel('Y');"
      ],
      "execution_count": 9,
      "outputs": [
        {
          "output_type": "display_data",
          "data": {
            "image/png": "[encoded data removed]",
            "text/plain": [
              "<Figure size 432x288 with 1 Axes>"
            ]
          },
          "metadata": {
            "needs_background": "light"
          }
        }
      ]
    },
    {
      "cell_type": "code",
      "metadata": {
        "colab": {
          "base_uri": "https://localhost:8080/",
          "height": 730
        },
        "id": "OJGBukEXkfQN",
        "outputId": "7c38d583-5370-4b24-e9bc-d0704e33174a"
      },
      "source": [
        "# Artificially create dataset with changing variance around a line\n",
        "y2 = xs*(1 + .5*np.random.randn(100))\n",
        "\n",
        "# Perform linear regression\n",
        "slr2 = regression.linear_model.OLS(y2, sm.add_constant(xs)).fit()\n",
        "fit2 = slr2.params[0] + slr2.params[1]*xs\n",
        "\n",
        "# Plot data and regression line\n",
        "plt.scatter(xs, y2, s = 10)\n",
        "plt.plot(xs, fit2)\n",
        "plt.title('Heteroskedastic errors')\n",
        "plt.legend(['Predicted', 'Observed'])\n",
        "plt.xlabel('X')\n",
        "plt.ylabel('Y')\n",
        "\n",
        "# Print summary of regression results\n",
        "slr2.summary()"
      ],
      "execution_count": 11,
      "outputs": [
        {
          "output_type": "execute_result",
          "data": {
            "text/html": [
              "<table class=\"simpletable\">\n",
              "<caption>OLS Regression Results</caption>\n",
              "<tr>\n",
              "  <th>Dep. Variable:</th>            <td>y</td>        <th>  R-squared:         </th> <td>   0.451</td>\n",
              "</tr>\n",
              "<tr>\n",
              "  <th>Model:</th>                   <td>OLS</td>       <th>  Adj. R-squared:    </th> <td>   0.446</td>\n",
              "</tr>\n",
              "<tr>\n",
              "  <th>Method:</th>             <td>Least Squares</td>  <th>  F-statistic:       </th> <td>   80.54</td>\n",
              "</tr>\n",
              "<tr>\n",
              "  <th>Date:</th>             <td>Thu, 21 Oct 2021</td> <th>  Prob (F-statistic):</th> <td>2.03e-14</td>\n",
              "</tr>\n",
              "<tr>\n",
              "  <th>Time:</th>                 <td>11:17:39</td>     <th>  Log-Likelihood:    </th> <td> -479.08</td>\n",
              "</tr>\n",
              "<tr>\n",
              "  <th>No. Observations:</th>      <td>   100</td>      <th>  AIC:               </th> <td>   962.2</td>\n",
              "</tr>\n",
              "<tr>\n",
              "  <th>Df Residuals:</th>          <td>    98</td>      <th>  BIC:               </th> <td>   967.4</td>\n",
              "</tr>\n",
              "<tr>\n",
              "  <th>Df Model:</th>              <td>     1</td>      <th>                     </th>     <td> </td>   \n",
              "</tr>\n",
              "<tr>\n",
              "  <th>Covariance Type:</th>      <td>nonrobust</td>    <th>                     </th>     <td> </td>   \n",
              "</tr>\n",
              "</table>\n",
              "<table class=\"simpletable\">\n",
              "<tr>\n",
              "    <td></td>       <th>coef</th>     <th>std err</th>      <th>t</th>      <th>P>|t|</th>  <th>[0.025</th>    <th>0.975]</th>  \n",
              "</tr>\n",
              "<tr>\n",
              "  <th>const</th> <td>    4.3982</td> <td>    5.842</td> <td>    0.753</td> <td> 0.453</td> <td>   -7.195</td> <td>   15.991</td>\n",
              "</tr>\n",
              "<tr>\n",
              "  <th>x1</th>    <td>    0.9149</td> <td>    0.102</td> <td>    8.975</td> <td> 0.000</td> <td>    0.713</td> <td>    1.117</td>\n",
              "</tr>\n",
              "</table>\n",
              "<table class=\"simpletable\">\n",
              "<tr>\n",
              "  <th>Omnibus:</th>       <td> 7.510</td> <th>  Durbin-Watson:     </th> <td>   1.885</td>\n",
              "</tr>\n",
              "<tr>\n",
              "  <th>Prob(Omnibus):</th> <td> 0.023</td> <th>  Jarque-Bera (JB):  </th> <td>  10.893</td>\n",
              "</tr>\n",
              "<tr>\n",
              "  <th>Skew:</th>          <td> 0.298</td> <th>  Prob(JB):          </th> <td> 0.00431</td>\n",
              "</tr>\n",
              "<tr>\n",
              "  <th>Kurtosis:</th>      <td> 4.503</td> <th>  Cond. No.          </th> <td>    114.</td>\n",
              "</tr>\n",
              "</table><br/><br/>Warnings:<br/>[1] Standard Errors assume that the covariance matrix of the errors is correctly specified."
            ],
            "text/plain": [
              "<class 'statsmodels.iolib.summary.Summary'>\n",
              "\"\"\"\n",
              "                            OLS Regression Results                            \n",
              "==============================================================================\n",
              "Dep. Variable:                      y   R-squared:                       0.451\n",
              "Model:                            OLS   Adj. R-squared:                  0.446\n",
              "Method:                 Least Squares   F-statistic:                     80.54\n",
              "Date:                Thu, 21 Oct 2021   Prob (F-statistic):           2.03e-14\n",
              "Time:                        11:17:39   Log-Likelihood:                -479.08\n",
              "No. Observations:                 100   AIC:                             962.2\n",
              "Df Residuals:                      98   BIC:                             967.4\n",
              "Df Model:                           1                                         \n",
              "Covariance Type:            nonrobust                                         \n",
              "==============================================================================\n",
              "                 coef    std err          t      P>|t|      [0.025      0.975]\n",
              "------------------------------------------------------------------------------\n",
              "const          4.3982      5.842      0.753      0.453      -7.195      15.991\n",
              "x1             0.9149      0.102      8.975      0.000       0.713       1.117\n",
              "==============================================================================\n",
              "Omnibus:                        7.510   Durbin-Watson:                   1.885\n",
              "Prob(Omnibus):                  0.023   Jarque-Bera (JB):               10.893\n",
              "Skew:                           0.298   Prob(JB):                      0.00431\n",
              "Kurtosis:                       4.503   Cond. No.                         114.\n",
              "==============================================================================\n",
              "\n",
              "Warnings:\n",
              "[1] Standard Errors assume that the covariance matrix of the errors is correctly specified.\n",
              "\"\"\""
            ]
          },
          "metadata": {},
          "execution_count": 11
        },
        {
          "output_type": "display_data",
          "data": {
            "image/png": "[encoded data removed]",
            "text/plain": [
              "<Figure size 432x288 with 1 Axes>"
            ]
          },
          "metadata": {
            "needs_background": "light"
          }
        }
      ]
    },
    {
      "cell_type": "markdown",
      "metadata": {
        "id": "mFXQ-0zrkm_b"
      },
      "source": [
        "# **Testing for Heteroskedasticity**\n",
        "You can test for heteroskedasticity using a few tests, we'll use the Breusch Pagan test from the statsmodels library. We'll also test for normality, which in this case also picks up the weirdness in the second case. HOWEVER, it is possible to have normally distributed residuals which are also heteroskedastic, so both tests must be performed to be sure.\n"
      ]
    },
    {
      "cell_type": "code",
      "metadata": {
        "colab": {
          "base_uri": "https://localhost:8080/"
        },
        "id": "Nh-_z-crkrIP",
        "outputId": "003ef4c1-472b-4907-b4d1-4c153beae575"
      },
      "source": [
        "residuals1 = y1-fit1\n",
        "residuals2 = y2-fit2\n",
        "\n",
        "xs_with_constant = sm.add_constant(xs)\n",
        "\n",
        "_, jb_pvalue1, _, _ = statsmodels.stats.stattools.jarque_bera(residuals1)\n",
        "_, jb_pvalue2, _, _ = statsmodels.stats.stattools.jarque_bera(residuals2)\n",
        "print(f'p-value for residuals1 being normal: {jb_pvalue1}')\n",
        "print(f'p-value for residuals2 being normal:{jb_pvalue2}')\n",
        "\n",
        "_, pvalue1, _, _ = stats.diagnostic.het_breuschpagan(residuals1, xs_with_constant)\n",
        "_, pvalue2, _, _ = stats.diagnostic.het_breuschpagan(residuals2, xs_with_constant)\n",
        "print(f'p-value for residuals1 being heteroskedastic: {pvalue1}')\n",
        "print(f'p-value for residuals2 being heteroskedastic: {pvalue2}')"
      ],
      "execution_count": 16,
      "outputs": [
        {
          "output_type": "stream",
          "name": "stdout",
          "text": [
            "p-value for residuals1 being normal: 0.8445434150686364\n",
            "p-value for residuals2 being normal:0.004311121914853486\n",
            "p-value for residuals1 being heteroskedastic: 0.8579671460413998\n",
            "p-value for residuals2 being heteroskedastic: 1.2730202697871412e-05\n"
          ]
        }
      ]
    },
    {
      "cell_type": "markdown",
      "metadata": {
        "id": "3iOt70RgmKD7"
      },
      "source": [
        "\n",
        "## **Correcting for Heteroskedasticity**\n",
        "How does heteroskedasticity affect our analysis? The problematic situation, known as conditional heteroskedasticity, is when the error variance is correlated with the independent variables as it is above. This makes the F-test for regression significance and t-tests for the significances of individual coefficients unreliable. Most often this results in overestimation of the significance of the fit.\n",
        "\n",
        "The Breusch-Pagan test and the White test can be used to detect conditional heteroskedasticity. If we suspect that this effect is present, we can alter our model to try and correct for it. One method is generalized least squares, which requires a manual alteration of the original equation. Another is computing robust standard errors, which corrects the fit statistics to account for the heteroskedasticity. statsmodels can compute robust standard errors; note the difference in the statistics below."
      ]
    },
    {
      "cell_type": "code",
      "metadata": {
        "colab": {
          "base_uri": "https://localhost:8080/"
        },
        "id": "1t2s2WscmPy-",
        "outputId": "1d9c1a61-d801-4a8c-d3f7-4d58c824b303"
      },
      "source": [
        "print(f'{slr2.summary()}')\n",
        "print(f'{slr2.get_robustcov_results().summary()}')"
      ],
      "execution_count": 17,
      "outputs": [
        {
          "output_type": "stream",
          "name": "stdout",
          "text": [
            "                            OLS Regression Results                            \n",
            "==============================================================================\n",
            "Dep. Variable:                      y   R-squared:                       0.451\n",
            "Model:                            OLS   Adj. R-squared:                  0.446\n",
            "Method:                 Least Squares   F-statistic:                     80.54\n",
            "Date:                Thu, 21 Oct 2021   Prob (F-statistic):           2.03e-14\n",
            "Time:                        11:25:37   Log-Likelihood:                -479.08\n",
            "No. Observations:                 100   AIC:                             962.2\n",
            "Df Residuals:                      98   BIC:                             967.4\n",
            "Df Model:                           1                                         \n",
            "Covariance Type:            nonrobust                                         \n",
            "==============================================================================\n",
            "                 coef    std err          t      P>|t|      [0.025      0.975]\n",
            "------------------------------------------------------------------------------\n",
            "const          4.3982      5.842      0.753      0.453      -7.195      15.991\n",
            "x1             0.9149      0.102      8.975      0.000       0.713       1.117\n",
            "==============================================================================\n",
            "Omnibus:                        7.510   Durbin-Watson:                   1.885\n",
            "Prob(Omnibus):                  0.023   Jarque-Bera (JB):               10.893\n",
            "Skew:                           0.298   Prob(JB):                      0.00431\n",
            "Kurtosis:                       4.503   Cond. No.                         114.\n",
            "==============================================================================\n",
            "\n",
            "Warnings:\n",
            "[1] Standard Errors assume that the covariance matrix of the errors is correctly specified.\n",
            "                            OLS Regression Results                            \n",
            "==============================================================================\n",
            "Dep. Variable:                      y   R-squared:                       0.451\n",
            "Model:                            OLS   Adj. R-squared:                  0.446\n",
            "Method:                 Least Squares   F-statistic:                     72.33\n",
            "Date:                Thu, 21 Oct 2021   Prob (F-statistic):           2.10e-13\n",
            "Time:                        11:25:37   Log-Likelihood:                -479.08\n",
            "No. Observations:                 100   AIC:                             962.2\n",
            "Df Residuals:                      98   BIC:                             967.4\n",
            "Df Model:                           1                                         \n",
            "Covariance Type:                  HC1                                         \n",
            "==============================================================================\n",
            "                 coef    std err          t      P>|t|      [0.025      0.975]\n",
            "------------------------------------------------------------------------------\n",
            "const          4.3982      3.571      1.232      0.221      -2.689      11.486\n",
            "x1             0.9149      0.108      8.505      0.000       0.701       1.128\n",
            "==============================================================================\n",
            "Omnibus:                        7.510   Durbin-Watson:                   1.885\n",
            "Prob(Omnibus):                  0.023   Jarque-Bera (JB):               10.893\n",
            "Skew:                           0.298   Prob(JB):                      0.00431\n",
            "Kurtosis:                       4.503   Cond. No.                         114.\n",
            "==============================================================================\n",
            "\n",
            "Warnings:\n",
            "[1] Standard Errors are heteroscedasticity robust (HC1)\n"
          ]
        }
      ]
    },
    {
      "cell_type": "markdown",
      "metadata": {
        "id": "druFxFM0mccS"
      },
      "source": [
        "## **Serial correlation of errors**\n",
        "A common and serious problem is when errors are correlated across observations (known serial correlation or autocorrelation). This can occur, for instance, when some of the data points are related, or when we use time-series data with periodic fluctuations. If one of the independent variables depends on previous values of the dependent variable - such as when it is equal to the value of the dependent variable in the previous period - or if incorrect model specification leads to autocorrelation, then the coefficient estimates will be inconsistent and therefore invalid. Otherwise, the parameter estimates will be valid, but the fit statistics will be off. For instance, if the correlation is positive, we will have inflated F- and t-statistics, leading us to overestimate the significance of the model.\n",
        "\n",
        "If the errors are homoskedastic, we can test for autocorrelation using the Durbin-Watson test, which is conveniently reported in the regression summary in `statsmodels`."
      ]
    },
    {
      "cell_type": "code",
      "metadata": {
        "colab": {
          "base_uri": "https://localhost:8080/"
        },
        "id": "4dIf0qpti6Ar",
        "outputId": "67523760-847b-431e-c66f-56823354c92a"
      },
      "source": [
        "!pip install yfinance"
      ],
      "execution_count": 1,
      "outputs": [
        {
          "output_type": "stream",
          "name": "stdout",
          "text": [
            "Collecting yfinance\n",
            "  Downloading yfinance-0.1.64.tar.gz (26 kB)\n",
            "Requirement already satisfied: pandas>=0.24 in /usr/local/lib/python3.7/dist-packages (from yfinance) (1.1.5)\n",
            "Requirement already satisfied: numpy>=1.15 in /usr/local/lib/python3.7/dist-packages (from yfinance) (1.19.5)\n",
            "Requirement already satisfied: requests>=2.20 in /usr/local/lib/python3.7/dist-packages (from yfinance) (2.23.0)\n",
            "Requirement already satisfied: multitasking>=0.0.7 in /usr/local/lib/python3.7/dist-packages (from yfinance) (0.0.9)\n",
            "Collecting lxml>=4.5.1\n",
            "  Downloading lxml-4.6.3-cp37-cp37m-manylinux2014_x86_64.whl (6.3 MB)\n",
            "\u001b[K     |████████████████████████████████| 6.3 MB 13.3 MB/s \n",
            "\u001b[?25hRequirement already satisfied: python-dateutil>=2.7.3 in /usr/local/lib/python3.7/dist-packages (from pandas>=0.24->yfinance) (2.8.2)\n",
            "Requirement already satisfied: pytz>=2017.2 in /usr/local/lib/python3.7/dist-packages (from pandas>=0.24->yfinance) (2018.9)\n",
            "Requirement already satisfied: six>=1.5 in /usr/local/lib/python3.7/dist-packages (from python-dateutil>=2.7.3->pandas>=0.24->yfinance) (1.15.0)\n",
            "Requirement already satisfied: urllib3!=1.25.0,!=1.25.1,<1.26,>=1.21.1 in /usr/local/lib/python3.7/dist-packages (from requests>=2.20->yfinance) (1.24.3)\n",
            "Requirement already satisfied: idna<3,>=2.5 in /usr/local/lib/python3.7/dist-packages (from requests>=2.20->yfinance) (2.10)\n",
            "Requirement already satisfied: certifi>=2017.4.17 in /usr/local/lib/python3.7/dist-packages (from requests>=2.20->yfinance) (2021.5.30)\n",
            "Requirement already satisfied: chardet<4,>=3.0.2 in /usr/local/lib/python3.7/dist-packages (from requests>=2.20->yfinance) (3.0.4)\n",
            "Building wheels for collected packages: yfinance\n",
            "  Building wheel for yfinance (setup.py) ... \u001b[?25l\u001b[?25hdone\n",
            "  Created wheel for yfinance: filename=yfinance-0.1.64-py2.py3-none-any.whl size=24109 sha256=683d8de7c27a9b7d6a3f6aa6d17c16bed1e9df449032a5e614cd02a90a956a10\n",
            "  Stored in directory: /root/.cache/pip/wheels/86/fe/9b/a4d3d78796b699e37065e5b6c27b75cff448ddb8b24943c288\n",
            "Successfully built yfinance\n",
            "Installing collected packages: lxml, yfinance\n",
            "  Attempting uninstall: lxml\n",
            "    Found existing installation: lxml 4.2.6\n",
            "    Uninstalling lxml-4.2.6:\n",
            "      Successfully uninstalled lxml-4.2.6\n",
            "Successfully installed lxml-4.6.3 yfinance-0.1.64\n"
          ]
        }
      ]
    },
    {
      "cell_type": "code",
      "metadata": {
        "id": "xLqi1I-ti62Y"
      },
      "source": [
        "from pandas_datareader import data as pdr\n",
        "import yfinance as yf\n",
        "yf.pdr_override()"
      ],
      "execution_count": 2,
      "outputs": []
    },
    {
      "cell_type": "code",
      "metadata": {
        "id": "rZWoOL3yjB4j"
      },
      "source": [
        "def get_data(tickers, start, end):\n",
        "  '''Get stock data for tickers'''\n",
        "  stockData = pdr.get_data_yahoo(tickers, start=start, end=end)\n",
        "  stockData = stockData['Close']\n",
        "  return stockData"
      ],
      "execution_count": 3,
      "outputs": []
    },
    {
      "cell_type": "code",
      "metadata": {
        "colab": {
          "base_uri": "https://localhost:8080/",
          "height": 734
        },
        "id": "WCKB68N8jGNj",
        "outputId": "0756f3c2-4efc-4507-ca23-320f4f147ff5"
      },
      "source": [
        "# Load pricing data for an asset\n",
        "start = '2014-01-01'\n",
        "end = '2015-01-01'\n",
        "y = get_data(['DAL'], start=start, end=end)\n",
        "x = np.arange(len(y))\n",
        "\n",
        "# Regress pricing data against time\n",
        "model = regression.linear_model.OLS(y, sm.add_constant(x)).fit()\n",
        "\n",
        "# Construct the fit line\n",
        "prediction = model.params[0] + model.params[1]*x\n",
        "\n",
        "# Plot pricing data and regression line\n",
        "plt.plot(x,y)\n",
        "plt.plot(x, prediction, color='r')\n",
        "plt.legend(['DAL Price', 'Regression Line'])\n",
        "plt.xlabel('Time')\n",
        "plt.ylabel('Price')\n",
        "\n",
        "# Print summary of regression results\n",
        "model.summary()"
      ],
      "execution_count": 18,
      "outputs": [
        {
          "output_type": "stream",
          "name": "stdout",
          "text": [
            "\r[*********************100%***********************]  1 of 1 completed\n"
          ]
        },
        {
          "output_type": "execute_result",
          "data": {
            "text/html": [
              "<table class=\"simpletable\">\n",
              "<caption>OLS Regression Results</caption>\n",
              "<tr>\n",
              "  <th>Dep. Variable:</th>          <td>Close</td>      <th>  R-squared:         </th> <td>   0.661</td>\n",
              "</tr>\n",
              "<tr>\n",
              "  <th>Model:</th>                   <td>OLS</td>       <th>  Adj. R-squared:    </th> <td>   0.659</td>\n",
              "</tr>\n",
              "<tr>\n",
              "  <th>Method:</th>             <td>Least Squares</td>  <th>  F-statistic:       </th> <td>   487.0</td>\n",
              "</tr>\n",
              "<tr>\n",
              "  <th>Date:</th>             <td>Thu, 21 Oct 2021</td> <th>  Prob (F-statistic):</th> <td>1.26e-60</td>\n",
              "</tr>\n",
              "<tr>\n",
              "  <th>Time:</th>                 <td>11:27:57</td>     <th>  Log-Likelihood:    </th> <td> -610.07</td>\n",
              "</tr>\n",
              "<tr>\n",
              "  <th>No. Observations:</th>      <td>   252</td>      <th>  AIC:               </th> <td>   1224.</td>\n",
              "</tr>\n",
              "<tr>\n",
              "  <th>Df Residuals:</th>          <td>   250</td>      <th>  BIC:               </th> <td>   1231.</td>\n",
              "</tr>\n",
              "<tr>\n",
              "  <th>Df Model:</th>              <td>     1</td>      <th>                     </th>     <td> </td>   \n",
              "</tr>\n",
              "<tr>\n",
              "  <th>Covariance Type:</th>      <td>nonrobust</td>    <th>                     </th>     <td> </td>   \n",
              "</tr>\n",
              "</table>\n",
              "<table class=\"simpletable\">\n",
              "<tr>\n",
              "    <td></td>       <th>coef</th>     <th>std err</th>      <th>t</th>      <th>P>|t|</th>  <th>[0.025</th>    <th>0.975]</th>  \n",
              "</tr>\n",
              "<tr>\n",
              "  <th>const</th> <td>   31.0569</td> <td>    0.343</td> <td>   90.416</td> <td> 0.000</td> <td>   30.380</td> <td>   31.733</td>\n",
              "</tr>\n",
              "<tr>\n",
              "  <th>x1</th>    <td>    0.0523</td> <td>    0.002</td> <td>   22.068</td> <td> 0.000</td> <td>    0.048</td> <td>    0.057</td>\n",
              "</tr>\n",
              "</table>\n",
              "<table class=\"simpletable\">\n",
              "<tr>\n",
              "  <th>Omnibus:</th>       <td>30.274</td> <th>  Durbin-Watson:     </th> <td>   0.085</td>\n",
              "</tr>\n",
              "<tr>\n",
              "  <th>Prob(Omnibus):</th> <td> 0.000</td> <th>  Jarque-Bera (JB):  </th> <td>  44.319</td>\n",
              "</tr>\n",
              "<tr>\n",
              "  <th>Skew:</th>          <td>-0.746</td> <th>  Prob(JB):          </th> <td>2.38e-10</td>\n",
              "</tr>\n",
              "<tr>\n",
              "  <th>Kurtosis:</th>      <td> 4.413</td> <th>  Cond. No.          </th> <td>    289.</td>\n",
              "</tr>\n",
              "</table><br/><br/>Warnings:<br/>[1] Standard Errors assume that the covariance matrix of the errors is correctly specified."
            ],
            "text/plain": [
              "<class 'statsmodels.iolib.summary.Summary'>\n",
              "\"\"\"\n",
              "                            OLS Regression Results                            \n",
              "==============================================================================\n",
              "Dep. Variable:                  Close   R-squared:                       0.661\n",
              "Model:                            OLS   Adj. R-squared:                  0.659\n",
              "Method:                 Least Squares   F-statistic:                     487.0\n",
              "Date:                Thu, 21 Oct 2021   Prob (F-statistic):           1.26e-60\n",
              "Time:                        11:27:57   Log-Likelihood:                -610.07\n",
              "No. Observations:                 252   AIC:                             1224.\n",
              "Df Residuals:                     250   BIC:                             1231.\n",
              "Df Model:                           1                                         \n",
              "Covariance Type:            nonrobust                                         \n",
              "==============================================================================\n",
              "                 coef    std err          t      P>|t|      [0.025      0.975]\n",
              "------------------------------------------------------------------------------\n",
              "const         31.0569      0.343     90.416      0.000      30.380      31.733\n",
              "x1             0.0523      0.002     22.068      0.000       0.048       0.057\n",
              "==============================================================================\n",
              "Omnibus:                       30.274   Durbin-Watson:                   0.085\n",
              "Prob(Omnibus):                  0.000   Jarque-Bera (JB):               44.319\n",
              "Skew:                          -0.746   Prob(JB):                     2.38e-10\n",
              "Kurtosis:                       4.413   Cond. No.                         289.\n",
              "==============================================================================\n",
              "\n",
              "Warnings:\n",
              "[1] Standard Errors assume that the covariance matrix of the errors is correctly specified.\n",
              "\"\"\""
            ]
          },
          "metadata": {},
          "execution_count": 18
        },
        {
          "output_type": "display_data",
          "data": {
            "image/png": "[encoded data removed]",
            "text/plain": [
              "<Figure size 432x288 with 1 Axes>"
            ]
          },
          "metadata": {
            "needs_background": "light"
          }
        }
      ]
    },
    {
      "cell_type": "markdown",
      "metadata": {
        "id": "vJeJVnmXm65B"
      },
      "source": [
        "## **Testing for Autocorrelation**\n",
        "We can test for autocorrelation in both our prices and residuals. We'll use the built-in method to do this, which is based on the Ljun-Box test. This test computes the probability that the n-th lagged datapoint is predictive of the current. If no max lag is given, then the function computes a max lag and returns the p-values for all lags up to that one. We can see here that for the 5 most recent datapoints, a significant correlation exists with the current. Therefore we conclude that both the data is autocorrelated.\n",
        "\n",
        "We also test for normality for fun."
      ]
    },
    {
      "cell_type": "code",
      "metadata": {
        "colab": {
          "base_uri": "https://localhost:8080/"
        },
        "id": "_SY_4MEnnEiY",
        "outputId": "17633810-cbb6-4881-82d8-77c4a762a224"
      },
      "source": [
        "_, prices_qstats, prices_qstat_pvalues = statsmodels.tsa.stattools.acf(y, qstat=True)\n",
        "_, prices_qstats, prices_qstat_pvalues = statsmodels.tsa.stattools.acf(y-prediction, qstat=True)\n",
        "\n",
        "print(f'Prices autocorrelation p-values: {prices_qstat_pvalues}')\n",
        "print(f'Residuals autocorrelation p-values: {prices_qstat_pvalues}')\n",
        "\n",
        "_, jb_pvalue, _, _ = statsmodels.stats.stattools.jarque_bera(y-prediction)\n",
        "\n",
        "print(f'Jarque-Bera p-value that residuals are normally distributed: {jb_pvalue}')"
      ],
      "execution_count": 20,
      "outputs": [
        {
          "output_type": "stream",
          "name": "stdout",
          "text": [
            "Prices autocorrelation p-values: [9.78709748e-052 7.33740565e-096 1.53208144e-135 1.66522604e-171\n",
            " 8.98930562e-204 4.34935549e-232 4.78125068e-257 4.86935857e-279\n",
            " 1.18980348e-298 0.00000000e+000 0.00000000e+000 0.00000000e+000\n",
            " 0.00000000e+000 0.00000000e+000 0.00000000e+000 0.00000000e+000\n",
            " 0.00000000e+000 0.00000000e+000 0.00000000e+000 0.00000000e+000\n",
            " 0.00000000e+000 0.00000000e+000 0.00000000e+000 0.00000000e+000\n",
            " 0.00000000e+000 0.00000000e+000 0.00000000e+000 0.00000000e+000\n",
            " 0.00000000e+000 0.00000000e+000 0.00000000e+000 0.00000000e+000\n",
            " 0.00000000e+000 0.00000000e+000 0.00000000e+000 0.00000000e+000\n",
            " 0.00000000e+000 0.00000000e+000 0.00000000e+000 0.00000000e+000]\n",
            "Residuals autocorrelation p-values: [9.78709748e-052 7.33740565e-096 1.53208144e-135 1.66522604e-171\n",
            " 8.98930562e-204 4.34935549e-232 4.78125068e-257 4.86935857e-279\n",
            " 1.18980348e-298 0.00000000e+000 0.00000000e+000 0.00000000e+000\n",
            " 0.00000000e+000 0.00000000e+000 0.00000000e+000 0.00000000e+000\n",
            " 0.00000000e+000 0.00000000e+000 0.00000000e+000 0.00000000e+000\n",
            " 0.00000000e+000 0.00000000e+000 0.00000000e+000 0.00000000e+000\n",
            " 0.00000000e+000 0.00000000e+000 0.00000000e+000 0.00000000e+000\n",
            " 0.00000000e+000 0.00000000e+000 0.00000000e+000 0.00000000e+000\n",
            " 0.00000000e+000 0.00000000e+000 0.00000000e+000 0.00000000e+000\n",
            " 0.00000000e+000 0.00000000e+000 0.00000000e+000 0.00000000e+000]\n",
            "Jarque-Bera p-value that residuals are normally distributed: 2.378177629718237e-10\n"
          ]
        },
        {
          "output_type": "stream",
          "name": "stderr",
          "text": [
            "/usr/local/lib/python3.7/dist-packages/statsmodels/tsa/stattools.py:541: FutureWarning: fft=True will become the default in a future version of statsmodels. To suppress this warning, explicitly set fft=False.\n",
            "  warnings.warn(msg, FutureWarning)\n"
          ]
        }
      ]
    },
    {
      "cell_type": "markdown",
      "metadata": {
        "id": "gEY2kGz7nbsg"
      },
      "source": [
        "## **Newey-West**\n",
        "Newey-West is a method of computing variance which accounts for autocorrelation. A naive variance computation will actually produce inaccurate standard errors with the presence of autocorrelation.\n",
        "\n",
        "We can attempt to change the regression equation to eliminate serial correlation. A simpler fix is adjusting the standard errors using an appropriate method and using the adjusted values to check for significance. Below we use the Newey-West method from `statsmodels` to compute adjusted standard errors for the coefficients. They are higher than those originally reported by the regression, which is what we expected for positively correlated errors.\n"
      ]
    },
    {
      "cell_type": "code",
      "metadata": {
        "colab": {
          "base_uri": "https://localhost:8080/"
        },
        "id": "RupXqhFtnnC3",
        "outputId": "94a5c644-e87b-44f5-8277-de822e2c49b7"
      },
      "source": [
        "from math import sqrt\n",
        "\n",
        "# Find the covariance matrix of the coefficients\n",
        "cov_mat = stats.sandwich_covariance.cov_hac(model)\n",
        "\n",
        "# Print the standard errors of each coefficient from the original model and from the adjustment\n",
        "print(f'Old standard errors: {model.bse[0], model.bse[1]}')\n",
        "print(f'Adjusted standard errors: {sqrt(cov_mat[0,0]), sqrt(cov_mat[1,1])}')"
      ],
      "execution_count": 21,
      "outputs": [
        {
          "output_type": "stream",
          "name": "stdout",
          "text": [
            "Old standard errors: (0.3434884921270872, 0.0023679196604847004)\n",
            "Adjusted standard errors: (0.5073144922350682, 0.005115375612418727)\n"
          ]
        }
      ]
    },
    {
      "cell_type": "markdown",
      "metadata": {
        "id": "NBMIpgqwn5c5"
      },
      "source": [
        "# **Multicollinearity**\n",
        "When using multiple independent variables, it is important to check for multicollinearity; that is, an approximate linear relation between the independent variables, such as $$ X_2 \\approx 5 X_1 - X_3 + 4.5 $$\n",
        "\n",
        "With multicollinearity, it is difficult to identify the independent effect of each variable, since we can change around the coefficients according to the linear relation without changing the model. As with truly unnecessary variables, this will usually not hurt the accuracy of the model, but will cloud our analysis. In particular, the estimated coefficients will have large standard errors. The coefficients will also no longer represent the partial effect of each variable, since with multicollinearity we cannot change one variable while holding the others constant.\n",
        "\n",
        "High correlation between independent variables is indicative of multicollinearity. However, it is not enough, since we would want to detect correlation between one of the variables and a linear combination of the other variables. If we have high R-squared but low t-statistics on the coefficients (the fit is good but the coefficients are not estimated precisely) we may suspect multicollinearity. To resolve the problem, we can drop one of the independent variables involved in the linear relation.\n",
        "\n",
        "For instance, using two stock indices as our independent variables is likely to lead to multicollinearity. Below we can see that removing one of them improves the t-statistics without hurting R-squared.\n",
        "\n",
        "Another important thing to determine here is which variable may be the casual one. If we hypothesize that the market influences both MDY and HPQ, then the market is the variable that we should use in our predictive model."
      ]
    },
    {
      "cell_type": "code",
      "metadata": {
        "colab": {
          "base_uri": "https://localhost:8080/",
          "height": 461
        },
        "id": "dAbUejsUn_if",
        "outputId": "da1eb7c2-de7c-498f-e49b-ae876454940d"
      },
      "source": [
        "# Load pricing data for asset and two market indices\n",
        "start = '2014-01-01'\n",
        "end = '2015-01-01'\n",
        "b1 = get_data(['SPY'], start=start, end=end)\n",
        "b2 = get_data(['MDY'], start=start, end=end)\n",
        "a = get_data(['HPQ'], start=start, end=end)\n",
        "\n",
        "# Run multiple linear regression\n",
        "mlr = regression.linear_model.OLS(a, sm.add_constant(np.column_stack((b1,b2)))).fit()\n",
        "\n",
        "# Construct fit curve using dependent variables and estimated coefficients\n",
        "mlr_prediction = mlr.params[0] + mlr.params[1]*b1 + mlr.params[2]*b2\n",
        "\n",
        "# Print regression statistics \n",
        "print(f'R-squared: {mlr.rsquared_adj}')\n",
        "print(f't-statistics of coefficients:\\n {mlr.tvalues}')\n",
        "\n",
        "# Plot asset and model\n",
        "a.plot()\n",
        "mlr_prediction.plot()\n",
        "plt.legend(['Asset', 'Model']);\n",
        "plt.ylabel('Price')"
      ],
      "execution_count": 24,
      "outputs": [
        {
          "output_type": "stream",
          "name": "stdout",
          "text": [
            "[*********************100%***********************]  1 of 1 completed\n",
            "[*********************100%***********************]  1 of 1 completed\n",
            "[*********************100%***********************]  1 of 1 completed\n",
            "R-squared: 0.8878942049137958\n",
            "t-statistics of coefficients:\n",
            " const   -11.743405\n",
            "x1       24.204940\n",
            "x2       -5.835811\n",
            "dtype: float64\n"
          ]
        },
        {
          "output_type": "execute_result",
          "data": {
            "text/plain": [
              "Text(0, 0.5, 'Price')"
            ]
          },
          "metadata": {},
          "execution_count": 24
        },
        {
          "output_type": "display_data",
          "data": {
            "image/png": "[encoded data removed]",
            "text/plain": [
              "<Figure size 432x288 with 1 Axes>"
            ]
          },
          "metadata": {
            "needs_background": "light"
          }
        }
      ]
    },
    {
      "cell_type": "code",
      "metadata": {
        "colab": {
          "base_uri": "https://localhost:8080/",
          "height": 369
        },
        "id": "2HBAvyMwobYg",
        "outputId": "4e8dfc67-f5a1-42d4-8cd7-ee5637c88b0b"
      },
      "source": [
        "# Perform linear regression\n",
        "slr = regression.linear_model.OLS(a, sm.add_constant(b1)).fit()\n",
        "slr_prediction = slr.params[0] + slr.params[1]*b1\n",
        "\n",
        "# Print fit statistics\n",
        "print(f'R-squared: {slr.rsquared_adj}')\n",
        "print(f't-statistics of coefficients:\\n {slr.tvalues}')\n",
        "\n",
        "# Plot asset and model\n",
        "a.plot()\n",
        "slr_prediction.plot()\n",
        "plt.ylabel('Price')\n",
        "plt.legend(['Asset', 'Model']);"
      ],
      "execution_count": 25,
      "outputs": [
        {
          "output_type": "stream",
          "name": "stdout",
          "text": [
            "R-squared: 0.8730708204710955\n",
            "t-statistics of coefficients:\n",
            " const   -21.642805\n",
            "Close    41.562972\n",
            "dtype: float64\n"
          ]
        },
        {
          "output_type": "display_data",
          "data": {
            "image/png": "[encoded data removed]",
            "text/plain": [
              "<Figure size 432x288 with 1 Axes>"
            ]
          },
          "metadata": {
            "needs_background": "light"
          }
        }
      ]
    },
    {
      "cell_type": "markdown",
      "metadata": {
        "id": "zO0KM2AkorJI"
      },
      "source": [
        "## **Example: Anscombe's quartet**\n",
        "Anscombe constructed 4 datasets which not only have the same mean and variance in each variable, but also the same correlation coefficient, regression line, and R-squared regression value. Below, we test this result as well as plotting the datasets. A quick glance at the graphs shows that only the first dataset satisfies the regression model assumptions. Consequently, the high R-squared values of the other three are not meaningful, which agrees with our intuition that the other three are not modeled well by the lines of best fit."
      ]
    },
    {
      "cell_type": "code",
      "metadata": {
        "colab": {
          "base_uri": "https://localhost:8080/",
          "height": 334
        },
        "id": "rO-OYWKJowX3",
        "outputId": "b571fac1-7282-4760-9c66-54ea691166ae"
      },
      "source": [
        "from scipy.stats import pearsonr\n",
        "\n",
        "# Construct Anscombe's arrays\n",
        "x1 = [10, 8, 13, 9, 11, 14, 6, 4, 12, 7, 5]\n",
        "y1 = [8.04, 6.95, 7.58, 8.81, 8.33, 9.96, 7.24, 4.26, 10.84, 4.82, 5.68]\n",
        "x2 = [10, 8, 13, 9, 11, 14, 6, 4, 12, 7, 5]\n",
        "y2 = [9.14, 8.14, 8.74, 8.77, 9.26, 8.10, 6.13, 3.10, 9.13, 7.26, 4.74]\n",
        "x3 = [10, 8, 13, 9, 11, 14, 6, 4, 12, 7, 5]\n",
        "y3 = [7.46, 6.77, 12.74, 7.11, 7.81, 8.84, 6.08, 5.39, 8.15, 6.42, 5.73]\n",
        "x4 = [8, 8, 8, 8, 8, 8, 8, 19, 8, 8, 8]\n",
        "y4 = [6.58, 5.76, 7.71, 8.84, 8.47, 7.04, 5.25, 12.50, 5.56, 7.91, 6.89]\n",
        "\n",
        "# Perform linear regressions on the datasets\n",
        "slr1 = regression.linear_model.OLS(y1, sm.add_constant(x1)).fit()\n",
        "slr2 = regression.linear_model.OLS(y2, sm.add_constant(x2)).fit()\n",
        "slr3 = regression.linear_model.OLS(y3, sm.add_constant(x3)).fit()\n",
        "slr4 = regression.linear_model.OLS(y4, sm.add_constant(x4)).fit()\n",
        "\n",
        "# Print regression coefficients, Pearson r, and R-squared for the 4 datasets\n",
        "print(f'Cofficients: {slr1.params, slr2.params, slr3.params, slr4.params}')\n",
        "print(f'Pearson r: {pearsonr(x1, y1)[0], pearsonr(x2, y2)[0], pearsonr(x3, y3)[0], pearsonr(x4, y4)[0]}')\n",
        "print(f'R-squared: {slr1.rsquared, slr2.rsquared, slr3.rsquared, slr4.rsquared}')\n",
        "\n",
        "# Plot the 4 datasets with their regression lines\n",
        "f, ((ax1, ax2), (ax3, ax4)) = plt.subplots(2,2)\n",
        "xs = np.arange(20)\n",
        "ax1.plot(slr1.params[0] + slr1.params[1]*xs, 'r')\n",
        "ax1.scatter(x1, y1)\n",
        "ax1.set_xlabel('x1')\n",
        "ax1.set_ylabel('y1')\n",
        "ax2.plot(slr2.params[0] + slr2.params[1]*xs, 'r')\n",
        "ax2.scatter(x2, y2)\n",
        "ax2.set_xlabel('x2')\n",
        "ax2.set_ylabel('y2')\n",
        "ax3.plot(slr3.params[0] + slr3.params[1]*xs, 'r')\n",
        "ax3.scatter(x3, y3)\n",
        "ax3.set_xlabel('x3')\n",
        "ax3.set_ylabel('y3')\n",
        "ax4.plot(slr4.params[0] + slr4.params[1]*xs, 'r')\n",
        "ax4.scatter(x4,y4)\n",
        "ax4.set_xlabel('x4')\n",
        "ax4.set_ylabel('y4');"
      ],
      "execution_count": 26,
      "outputs": [
        {
          "output_type": "stream",
          "name": "stdout",
          "text": [
            "Cofficients: (array([3.00009091, 0.50009091]), array([3.00090909, 0.5       ]), array([3.00245455, 0.49972727]), array([3.00172727, 0.49990909]))\n",
            "Pearson r: (0.81642051634484, 0.8162365060002428, 0.8162867394895982, 0.816521436888503)\n",
            "R-squared: (0.666542459508775, 0.6662420337274844, 0.6663240410665594, 0.6667072568984652)\n"
          ]
        },
        {
          "output_type": "display_data",
          "data": {
            "image/png": "[encoded data removed]",
            "text/plain": [
              "<Figure size 432x288 with 4 Axes>"
            ]
          },
          "metadata": {
            "needs_background": "light"
          }
        }
      ]
    },
    {
      "cell_type": "markdown",
      "metadata": {
        "id": "lFbk2NgjpCio"
      },
      "source": [
        "## **References**\n",
        "- \"Quantitative Investment Analysis\", by DeFusco, McLeavey, Pinto, and Runkle\n",
        "\n"
      ]
    }
  ]
}