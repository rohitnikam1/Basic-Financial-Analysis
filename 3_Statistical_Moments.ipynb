{
  "nbformat": 4,
  "nbformat_minor": 0,
  "metadata": {
    "colab": {
      "name": "3_Statistical_Moments.ipynb",
      "provenance": [],
      "authorship_tag": "ABX9TyPYg41MrljZJjvsvi/Jnaxa",
      "include_colab_link": true
    },
    "kernelspec": {
      "name": "python3",
      "display_name": "Python 3"
    },
    "language_info": {
      "name": "python"
    }
  },
  "cells": [
    {
      "cell_type": "markdown",
      "metadata": {
        "id": "view-in-github",
        "colab_type": "text"
      },
      "source": [
        "<a href=\"https://colab.research.google.com/github/rohitnikam1/Basic-Financial-Analysis/blob/master/3_Statistical_Moments.ipynb\" target=\"_parent\"><img src=\"https://colab.research.google.com/assets/colab-badge.svg\" alt=\"Open In Colab\"/></a>"
      ]
    },
    {
      "cell_type": "markdown",
      "metadata": {
        "id": "iCdRFE97P5nE"
      },
      "source": [
        "# Statistical Moments - Skewness and Kurtosis"
      ]
    },
    {
      "cell_type": "code",
      "metadata": {
        "colab": {
          "base_uri": "https://localhost:8080/"
        },
        "id": "LF0tHO0BX5TC",
        "outputId": "ad45813f-6d3f-4962-de8d-c252664cfbd8"
      },
      "source": [
        "!pip install yfinance"
      ],
      "execution_count": 2,
      "outputs": [
        {
          "output_type": "stream",
          "name": "stdout",
          "text": [
            "Collecting yfinance\n",
            "  Downloading yfinance-0.1.63.tar.gz (26 kB)\n",
            "Requirement already satisfied: pandas>=0.24 in /usr/local/lib/python3.7/dist-packages (from yfinance) (1.1.5)\n",
            "Requirement already satisfied: numpy>=1.15 in /usr/local/lib/python3.7/dist-packages (from yfinance) (1.19.5)\n",
            "Requirement already satisfied: requests>=2.20 in /usr/local/lib/python3.7/dist-packages (from yfinance) (2.23.0)\n",
            "Requirement already satisfied: multitasking>=0.0.7 in /usr/local/lib/python3.7/dist-packages (from yfinance) (0.0.9)\n",
            "Collecting lxml>=4.5.1\n",
            "  Downloading lxml-4.6.3-cp37-cp37m-manylinux2014_x86_64.whl (6.3 MB)\n",
            "\u001b[K     |████████████████████████████████| 6.3 MB 7.6 MB/s \n",
            "\u001b[?25hRequirement already satisfied: pytz>=2017.2 in /usr/local/lib/python3.7/dist-packages (from pandas>=0.24->yfinance) (2018.9)\n",
            "Requirement already satisfied: python-dateutil>=2.7.3 in /usr/local/lib/python3.7/dist-packages (from pandas>=0.24->yfinance) (2.8.2)\n",
            "Requirement already satisfied: six>=1.5 in /usr/local/lib/python3.7/dist-packages (from python-dateutil>=2.7.3->pandas>=0.24->yfinance) (1.15.0)\n",
            "Requirement already satisfied: chardet<4,>=3.0.2 in /usr/local/lib/python3.7/dist-packages (from requests>=2.20->yfinance) (3.0.4)\n",
            "Requirement already satisfied: certifi>=2017.4.17 in /usr/local/lib/python3.7/dist-packages (from requests>=2.20->yfinance) (2021.5.30)\n",
            "Requirement already satisfied: urllib3!=1.25.0,!=1.25.1,<1.26,>=1.21.1 in /usr/local/lib/python3.7/dist-packages (from requests>=2.20->yfinance) (1.24.3)\n",
            "Requirement already satisfied: idna<3,>=2.5 in /usr/local/lib/python3.7/dist-packages (from requests>=2.20->yfinance) (2.10)\n",
            "Building wheels for collected packages: yfinance\n",
            "  Building wheel for yfinance (setup.py) ... \u001b[?25l\u001b[?25hdone\n",
            "  Created wheel for yfinance: filename=yfinance-0.1.63-py2.py3-none-any.whl size=23918 sha256=73da9a88aac041a55587e28caa6a8610b78d04a39a29fdd5d81f2040315addd8\n",
            "  Stored in directory: /root/.cache/pip/wheels/fe/87/8b/7ec24486e001d3926537f5f7801f57a74d181be25b11157983\n",
            "Successfully built yfinance\n",
            "Installing collected packages: lxml, yfinance\n",
            "  Attempting uninstall: lxml\n",
            "    Found existing installation: lxml 4.2.6\n",
            "    Uninstalling lxml-4.2.6:\n",
            "      Successfully uninstalled lxml-4.2.6\n",
            "Successfully installed lxml-4.6.3 yfinance-0.1.63\n"
          ]
        }
      ]
    },
    {
      "cell_type": "code",
      "metadata": {
        "id": "6kXLxygCQBsP"
      },
      "source": [
        "import numpy as np\n",
        "import scipy.stats as stats\n",
        "import matplotlib.pyplot as plt\n",
        "import yfinance as yf"
      ],
      "execution_count": 7,
      "outputs": []
    },
    {
      "cell_type": "markdown",
      "metadata": {
        "id": "mS-QM1DKQdnC"
      },
      "source": [
        "Sometimes mean and variance are not enough to describe a distribution. When we calculate variance, we square the deviations around the mean. In the case of large deviations, we do not know whether they are likely to be positive or negative. This is where the skewness and symmetry of a distribution come in. A distribution is symmetric if the parts on either side of the mean are mirror images of each other. For example, the normal distribution is symmetric. The normal distribution with mean $\\mu$ and standard deviation $\\sigma$ is defined as$$ f(x) = \\frac{1}{\\sigma \\sqrt{2 \\pi}} e^{-\\frac{(x - \\mu)^2}{2 \\sigma^2}} $$\n",
        "The plot below shows that it is symmetric."
      ]
    },
    {
      "cell_type": "code",
      "metadata": {
        "colab": {
          "base_uri": "https://localhost:8080/",
          "height": 265
        },
        "id": "YGn4B-RzQQ2i",
        "outputId": "5a53fd65-022e-41bb-98e9-1c919ee9e9b4"
      },
      "source": [
        "x = np.linspace(-6,6,100)\n",
        "normal = stats.norm.pdf(x)\n",
        "plt.plot(x,normal);"
      ],
      "execution_count": 28,
      "outputs": [
        {
          "output_type": "display_data",
          "data": {
            "image/png": "[encoded data removed]",
            "text/plain": [
              "<Figure size 432x288 with 1 Axes>"
            ]
          },
          "metadata": {
            "needs_background": "light"
          }
        }
      ]
    },
    {
      "cell_type": "markdown",
      "metadata": {
        "id": "tB7K1iZZWQu7"
      },
      "source": [
        "A distribution which is not symmetric is called skewed. For instance, a distribution can have many small positive and a few large negative values (negatively skewed) or vice versa (positively skewed), and still have a mean of 0. A symmetric distribution has skewness 0. Positively skewed unimodal (one mode) distributions have the property that mean > median > mode. Negatively skewed unimodal distributions are the reverse, with mean < median < mode. All three are equal for a symmetric unimodal distribution.\n",
        "\n",
        "The explicit formula for skewness is:$$ S_K = \\frac{n}{(n-1)(n-2)} \\frac{\\sum_{i=1}^n (X_i - \\mu)^3}{\\sigma^3} $$\n",
        "\n",
        "Where $n$ is the number of observations, $\\mu$ is the arithmetic mean, and $\\sigma$ is the standard deviation. The sign of this quantity describes the direction of the skew as described above. We can plot a positively skewed and a negatively skewed distribution to see what they look like. For unimodal distributions, a negative skew typically indicates that the tail is fatter on the left, while a positive skew indicates that the tail is fatter on the right."
      ]
    },
    {
      "cell_type": "code",
      "metadata": {
        "colab": {
          "base_uri": "https://localhost:8080/",
          "height": 265
        },
        "id": "n1Yw7lk-V550",
        "outputId": "c2a10c96-a94e-4e1c-cb69-1498fc96865f"
      },
      "source": [
        "#Generate x-values for which we will plot the distribution\n",
        "xs = np.linspace(stats.lognorm.ppf(0.01, .7, loc=-.1), stats.lognorm.ppf(0.99, .7, loc=-.1), 150)\n",
        "\n",
        "# Negatively skewed distribution\n",
        "lognormal = stats.lognorm.pdf(xs, .7)\n",
        "plt.plot(xs, lognormal, label='Skew > 0')\n",
        "\n",
        "# Positively skewed distribution\n",
        "plt.plot(xs, lognormal[::-1], label='Skew < 0')\n",
        "plt.legend();"
      ],
      "execution_count": 9,
      "outputs": [
        {
          "output_type": "display_data",
          "data": {
            "image/png": "[encoded data removed]",
            "text/plain": [
              "<Figure size 432x288 with 1 Axes>"
            ]
          },
          "metadata": {
            "needs_background": "light"
          }
        }
      ]
    },
    {
      "cell_type": "markdown",
      "metadata": {
        "id": "BAOi8-JGXJow"
      },
      "source": [
        "Although skew is less obvious when graphing discrete data sets, we can still compute it. For example, below are the skew, mean, and median for S&P 500 returns 2012-2014. Note that the skew is negative, and so the mean is less than the median."
      ]
    },
    {
      "cell_type": "code",
      "metadata": {
        "id": "2OpVntA4W2Kh",
        "colab": {
          "base_uri": "https://localhost:8080/",
          "height": 443
        },
        "outputId": "bf32ab8e-b976-42b6-ec1c-3bbb619d22e7"
      },
      "source": [
        "aapl = yf.Ticker('AAPL')\n",
        "aapl_historical = aapl.history(start = '2012-01-01', end='2015-01-01')\n",
        "returns = aapl_historical.Close.pct_change()[1:]\n",
        "\n",
        "print(f'Skew: {stats.skew(returns)}')\n",
        "print(f'Mean: {np.mean(returns)}')\n",
        "print(f'Std: {np.std(returns)}')\n",
        "print(f'Median: {np.median(returns)}')\n",
        "\n",
        "plt.figure(figsize=(12,6))\n",
        "plt.hist(returns, 30);"
      ],
      "execution_count": 35,
      "outputs": [
        {
          "output_type": "stream",
          "name": "stdout",
          "text": [
            "Skew: -0.2775019647798833\n",
            "Mean: 0.0010527039599089229\n",
            "Std: 0.016845772119004145\n",
            "Median: 0.0005069491254261482\n"
          ]
        },
        {
          "output_type": "display_data",
          "data": {
            "image/png": "[encoded data removed]",
            "text/plain": [
              "<Figure size 864x432 with 1 Axes>"
            ]
          },
          "metadata": {
            "needs_background": "light"
          }
        }
      ]
    },
    {
      "cell_type": "markdown",
      "metadata": {
        "id": "SRw0YNC9ZxtZ"
      },
      "source": [
        "# Kurtosis"
      ]
    },
    {
      "cell_type": "markdown",
      "metadata": {
        "id": "VjBJ3Ay_bPMp"
      },
      "source": [
        "Kurtosis attempts to measure the shape of the deviation from the mean. Generally, it describes how peaked a distribution is compared the the normal distribution, called mesokurtic. All normal distributions, regardless of mean and variance, have a kurtosis of 3. A leptokurtic distribution (kurtosis > 3) is highly peaked and has fat tails, while a platykurtic distribution (kurtosis < 3) is broad. Sometimes, however, kurtosis in excess of the normal distribution (kurtosis - 3) is used, and this is the default in scipy. A leptokurtic distribution has more frequent large jumps away from the mean than a normal distribution does while a platykurtic distribution has fewer."
      ]
    },
    {
      "cell_type": "code",
      "metadata": {
        "colab": {
          "base_uri": "https://localhost:8080/",
          "height": 317
        },
        "id": "WKD8kAOXbWWH",
        "outputId": "d546539e-7369-4c1c-d3fb-8363c3151fa9"
      },
      "source": [
        "# Plot some example distributions\n",
        "plt.plot(x,stats.laplace.pdf(x), label='Leptokurtic')\n",
        "print('Excess kurtosis of leptokurtic distribution:', stats.laplace.stats(moments='k'))\n",
        "plt.plot(x, normal, label='Mesokurtic (normal)')\n",
        "print(f'Excess kurtosis of mesokurtic distribution:', stats.norm.stats(moments='k'))\n",
        "plt.plot(x,stats.cosine.pdf(x), label='Platykurtic')\n",
        "print(f'Excess kurtosis of platykurtic distribution:', stats.cosine.stats(moments='k'))\n",
        "plt.legend();"
      ],
      "execution_count": 29,
      "outputs": [
        {
          "output_type": "stream",
          "name": "stdout",
          "text": [
            "Excess kurtosis of leptokurtic distribution: 3.0\n",
            "Excess kurtosis of mesokurtic distribution: 0.0\n",
            "Excess kurtosis of platykurtic distribution: -0.5937628755982794\n"
          ]
        },
        {
          "output_type": "display_data",
          "data": {
            "image/png": "[encoded data removed]",
            "text/plain": [
              "<Figure size 432x288 with 1 Axes>"
            ]
          },
          "metadata": {
            "needs_background": "light"
          }
        }
      ]
    },
    {
      "cell_type": "markdown",
      "metadata": {
        "id": "cT2ZsVlWcN6R"
      },
      "source": [
        "The formula for kurtosis is$$ K = \\left ( \\frac{n(n+1)}{(n-1)(n-2)(n-3)} \\frac{\\sum_{i=1}^n (X_i - \\mu)^4}{\\sigma^4} \\right ) $$\n",
        "\n",
        "while excess kurtosis is given by$$ K_E = \\left ( \\frac{n(n+1)}{(n-1)(n-2)(n-3)} \\frac{\\sum_{i=1}^n (X_i - \\mu)^4}{\\sigma^4} \\right ) - \\frac{3(n-1)^2}{(n-2)(n-3)} $$\n",
        "\n",
        "For a large number of samples, the excess kurtosis becomes approximately\n",
        "\n",
        "$$ K_E \\approx \\frac{1}{n} \\frac{\\sum_{i=1}^n (X_i - \\mu)^4}{\\sigma^4} - 3 $$\n",
        "Since above we were considering perfect, continuous distributions, this was the form that kurtosis took. However, for a set of samples drawn for the normal distribution, we would use the first definition, and (excess) kurtosis would only be approximately 0.\n",
        "\n",
        "We can use scipy to find the excess kurtosis of the S&P 500 returns from before."
      ]
    },
    {
      "cell_type": "code",
      "metadata": {
        "colab": {
          "base_uri": "https://localhost:8080/"
        },
        "id": "12p-2m60gNXX",
        "outputId": "a4923154-0b28-412d-c03f-c9b600ad9f7e"
      },
      "source": [
        "print(\"Excess kurtosis of returns: \", stats.kurtosis(returns))"
      ],
      "execution_count": 30,
      "outputs": [
        {
          "output_type": "stream",
          "name": "stdout",
          "text": [
            "Excess kurtosis of returns:  6.805226103075158\n"
          ]
        }
      ]
    },
    {
      "cell_type": "markdown",
      "metadata": {
        "id": "qQSDutPHgeU5"
      },
      "source": [
        "The histogram of the returns shows some observations beyond 3 standard deviations away from the mean, so we shouldn't be surprised that the kurtosis is indicating a leptokurtic distribution."
      ]
    },
    {
      "cell_type": "markdown",
      "metadata": {
        "id": "Jg4mprasg1h7"
      },
      "source": [
        "# Other Standardized Moments"
      ]
    },
    {
      "cell_type": "markdown",
      "metadata": {
        "id": "XPl-qqOTjLhM"
      },
      "source": [
        "It's no coincidence that the variance, skewness, and kurtosis take similar forms. They are the first and most important standardized moments, of which the $k$th has the form$$ \\frac{E[(X - E[X])^k]}{\\sigma^k} $$\n",
        "\n",
        "The first standardized moment is always 0 $(E[X - E[X]] = E[X] - E[E[X]] = 0)$, so we only care about the second through fourth. All of the standardized moments are dimensionless numbers which describe the distribution, and in particular can be used to quantify how close to normal (having standardized moments $0, \\sigma, 0, \\sigma^2$) a distribution is."
      ]
    },
    {
      "cell_type": "markdown",
      "metadata": {
        "id": "-9IkxlB5jQH_"
      },
      "source": [
        "# Normality Testing Using Jarque-Bera"
      ]
    },
    {
      "cell_type": "markdown",
      "metadata": {
        "id": "v3XvNF5IjYG9"
      },
      "source": [
        "The Jarque-Bera test is a common statistical test that compares whether sample data has skewness and kurtosis similar to a normal distribution. We can run it here on the S&P 500 returns to find the p-value for them coming from a normal distribution.\n",
        "\n",
        "The Jarque Bera test's null hypothesis is that the data came from a normal distribution. Because of this it can err on the side of not catching a non-normal process if you have a low p-value. To be safe it can be good to increase your cutoff when using the test.\n",
        "\n",
        "Remember to treat p-values as binary and not try to read into them or compare them. We'll use a cutoff of 0.05 for our p-value."
      ]
    },
    {
      "cell_type": "markdown",
      "metadata": {
        "id": "Ex1iGPxYjeAg"
      },
      "source": [
        "## Test Calibration"
      ]
    },
    {
      "cell_type": "markdown",
      "metadata": {
        "id": "_wi0Xw38jiDq"
      },
      "source": [
        "Remember that each test is written a little differently across different programming languages. You might not know whether it's the null or alternative hypothesis that the tested data comes from a normal distribution. It is recommended that you use the ? notation plus online searching to find documentation on the test; plus it is often a good idea to calibrate a test by checking it on simulated data and making sure it gives the right answer. Let's do that now."
      ]
    },
    {
      "cell_type": "code",
      "metadata": {
        "colab": {
          "base_uri": "https://localhost:8080/"
        },
        "id": "76IM7y2mjoZ6",
        "outputId": "0c73cf13-d951-436d-c280-aa27d6278893"
      },
      "source": [
        "N = 1000\n",
        "M = 1000\n",
        "\n",
        "pvalues = np.ndarray((N))\n",
        "\n",
        "for i in range(N):\n",
        "    # Draw M samples from a normal distribution \n",
        "    X = np.random.normal(0, 1, M);\n",
        "    jb_test = stats.jarque_bera(X)\n",
        "    pvalues[i] = jb_test[1]\n",
        "    \n",
        "# count number of pvalues below our default 0.05 cutoff\n",
        "num_significant = len(pvalues[pvalues < 0.05])\n",
        "\n",
        "print(f'{100*float(num_significant) / N} %')"
      ],
      "execution_count": 46,
      "outputs": [
        {
          "output_type": "stream",
          "name": "stdout",
          "text": [
            "4.8 %\n"
          ]
        }
      ]
    },
    {
      "cell_type": "markdown",
      "metadata": {
        "id": "yl7MMSAAj6Vv"
      },
      "source": [
        "Great, if properly calibrated we should expect to be wrong $4.8\\%$ of the time at a 0.05 significance level, and this is pretty close. This means that the test is working as we expect."
      ]
    },
    {
      "cell_type": "code",
      "metadata": {
        "colab": {
          "base_uri": "https://localhost:8080/"
        },
        "id": "c9udtj1FmNCQ",
        "outputId": "9c813b6a-bcf5-4652-8304-8e72c6d9795a"
      },
      "source": [
        "pvalue= stats.jarque_bera(returns)[1]\n",
        "\n",
        "if pvalue > 0.05:\n",
        "    print(f'The returns are likely normal.')\n",
        "else:\n",
        "    print(f'The returns are likely not normal.')"
      ],
      "execution_count": 47,
      "outputs": [
        {
          "output_type": "stream",
          "name": "stdout",
          "text": [
            "The returns are likely not normal.\n"
          ]
        }
      ]
    },
    {
      "cell_type": "markdown",
      "metadata": {
        "id": "TaSeVKPGm2M-"
      },
      "source": [
        "This tells us that the S&P 500 returns likely do not follow a normal distribution."
      ]
    }
  ]
}